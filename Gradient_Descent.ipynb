{
  "nbformat": 4,
  "nbformat_minor": 0,
  "metadata": {
    "kernelspec": {
      "display_name": "Python 3",
      "language": "python",
      "name": "python3"
    },
    "language_info": {
      "codemirror_mode": {
        "name": "ipython",
        "version": 3
      },
      "file_extension": ".py",
      "mimetype": "text/x-python",
      "name": "python",
      "nbconvert_exporter": "python",
      "pygments_lexer": "ipython3",
      "version": "3.7.1"
    },
    "colab": {
      "name": "Gradient Descent.ipynb",
      "provenance": [],
      "collapsed_sections": [],
      "include_colab_link": true
    }
  },
  "cells": [
    {
      "cell_type": "markdown",
      "metadata": {
        "id": "view-in-github",
        "colab_type": "text"
      },
      "source": [
        "<a href=\"https://colab.research.google.com/github/GabeMaldonado/UoL_Study_Materials/blob/main/Gradient_Descent.ipynb\" target=\"_parent\"><img src=\"https://colab.research.google.com/assets/colab-badge.svg\" alt=\"Open In Colab\"/></a>"
      ]
    },
    {
      "cell_type": "markdown",
      "metadata": {
        "id": "-IDyQVPgx-WS"
      },
      "source": [
        "# Gradient Descent\n",
        "## Instructions:\n",
        "* Go through the notebook and complete the tasks. \n",
        "* Make sure you understand the examples given. If you need help, refer to the Essential readings or the documentation link provided, or go to the Topic 3 discussion forum. \n",
        "* Save your notebooks when you are done.\n",
        "\n",
        "This notebook will give you the chance to implement the gradient descent algorithm to solve a linear regression problem. \n",
        "\n",
        "The main steps involved will be:\n",
        "\n",
        "    Within a loop -\n",
        "    1. Calculate the hypothesis h \n",
        "    2. Calculate the loss \n",
        "    3. Calculate the gradient descent update \n",
        "    4. stop loop when loss falls stops changing\n",
        "\n",
        "\n",
        "**Task 1:**\n",
        "\n",
        "The first task is to load the diabetes dataset (from notebook 3.1), select one feature (bmi, the 2nd indexed feature), and split it into a training set (90%) and a test set (10%). Plot the data as a scatter plot.\n"
      ]
    },
    {
      "cell_type": "code",
      "metadata": {
        "id": "fqZAhsrQx-WU",
        "colab": {
          "base_uri": "https://localhost:8080/",
          "height": 368
        },
        "outputId": "1635cd43-5246-4110-c43e-6bc6a25e0293"
      },
      "source": [
        "import numpy as np\n",
        "import matplotlib.pyplot as plt\n",
        "from sklearn import datasets, linear_model\n",
        "from sklearn.metrics import mean_squared_error, r2_score\n",
        "\n",
        "# Load the diabetes dataset\n",
        "diabetes = datasets.load_diabetes()\n",
        "\n",
        "# Select 10% for testing, 90% for training\n",
        "data_len = len(diabetes.target)\n",
        "nTestSamples = np.int(0.1*data_len)\n",
        "idx_test = np.arange(1, nTestSamples)\n",
        "idx_train = np.arange(idx_test[-1]+1, data_len - idx_test[-1])\n",
        "\n",
        "# extract the bmi feature\n",
        "print(diabetes.feature_names[2])\n",
        "X_diabetes = diabetes.data[:,np.newaxis,2]\n",
        "X_test = X_diabetes[idx_test]\n",
        "X_train = X_diabetes[idx_train]\n",
        "y_test = diabetes.target[idx_test]\n",
        "y_train = diabetes.target[idx_train]\n",
        "\n",
        "# (For comparison purposes, create linear regression object)\n",
        "regr = linear_model.LinearRegression()\n",
        "# Train the model using the training sets\n",
        "\n",
        "regr.fit(X_train, y_train)\n",
        "# Make predictions using the testing set\n",
        "y_pred = regr.predict(X_test)\n",
        "\n",
        "# The coefficients\n",
        "print('Intercept (theta 0): \\n', regr.intercept_)\n",
        "print('Coefficients (theta 1): \\n', regr.coef_)\n",
        "\n",
        "# The mean squared error\n",
        "print(\"Mean squared error: %.2f\"\n",
        "      % mean_squared_error(y_test, y_pred))\n",
        "\n",
        "# Plot outputs\n",
        "plt.scatter(X_test, y_test,  color='black')\n",
        "plt.plot(X_test, y_pred, color='blue', linewidth=3)\n",
        "\n",
        "plt.show()"
      ],
      "execution_count": 1,
      "outputs": [
        {
          "output_type": "stream",
          "text": [
            "bmi\n",
            "Intercept (theta 0): \n",
            " 153.73201108210046\n",
            "Coefficients (theta 1): \n",
            " [958.76368869]\n",
            "Mean squared error: 3956.25\n"
          ],
          "name": "stdout"
        },
        {
          "output_type": "display_data",
          "data": {
            "image/png": "[encoded data removed]",
            "text/plain": [
              "<Figure size 432x288 with 1 Axes>"
            ]
          },
          "metadata": {
            "tags": [],
            "needs_background": "light"
          }
        }
      ]
    },
    {
      "cell_type": "markdown",
      "metadata": {
        "id": "5mJ4uwz7x-WV"
      },
      "source": [
        "**Task 2:**\n",
        "\n",
        "Write a suitable hypothesis function, ```h_lin```, that can handle an single feature vector and a corresponding 2D parameter (theta)\n"
      ]
    },
    {
      "cell_type": "code",
      "metadata": {
        "id": "NlhR714kx-WW"
      },
      "source": [
        "def h_lin( X, theta):\n",
        "    'X should be a data vector, theta the parameters'\n",
        "    \n",
        "    return theta[0] + X * theta[1:]\n"
      ],
      "execution_count": 2,
      "outputs": []
    },
    {
      "cell_type": "markdown",
      "metadata": {
        "id": "r_--rsSTx-WW"
      },
      "source": [
        "**Task 3:**\n",
        "\n",
        "Write a suitable loss function, ```loss_L2```, that calculates the least-squares loss between a given hypothesis and the target value.\n"
      ]
    },
    {
      "cell_type": "code",
      "metadata": {
        "id": "7SGjVjU9x-WW",
        "colab": {
          "base_uri": "https://localhost:8080/"
        },
        "outputId": "b5fcd74b-b896-4b89-aae0-43451dca0ecb"
      },
      "source": [
        "def loss_L2( h, y ):\n",
        "    'Calculate the least-squares loss.' \n",
        "    'h is a vector of predictions by the hypothesis function, y is the target'\n",
        "    \n",
        "    return np.mean([(a-b)**2 for a, b in zip(h.flatten(), y)])\n",
        "\n",
        "print( loss_L2(h_lin(X_test,[150, 958]), y_test) )"
      ],
      "execution_count": 3,
      "outputs": [
        {
          "output_type": "stream",
          "text": [
            "3920.389441551087\n"
          ],
          "name": "stdout"
        }
      ]
    },
    {
      "cell_type": "markdown",
      "metadata": {
        "id": "iYoDCdcTx-WW"
      },
      "source": [
        "**Task 4:**\n",
        "\n",
        "Write a suitable function to calculate the gradients, ```gradient_batch```, that operates on both the parameters, ```theta[0]``` (the intercept) and ```theta[1]``` (the gradient coefficient). The function is given the data X, and the target, y. \n",
        "(Remember the difference in gradient calculation for the intercept term.)"
      ]
    },
    {
      "cell_type": "code",
      "metadata": {
        "id": "uW8dt_yKx-WX"
      },
      "source": [
        "def gradient_batch(theta, X, y):\n",
        "    'Calculate the gradients of the loss function for the parameters in theta'\n",
        "    'Given data X and target y'\n",
        "    \n",
        "    grad = np.array([0,0])\n",
        "    \n",
        "    h = h_lin(X, theta)\n",
        "    residuals = [(a-b) for a, b in zip(h.flatten(), y)]\n",
        "\n",
        "    grad[0] = np.mean(residuals)\n",
        "    grad[1] = X[:,0].dot(residuals) /len(y) # calculate the mean\n",
        "\n",
        "    \n",
        "    return grad\n",
        "    "
      ],
      "execution_count": 9,
      "outputs": []
    },
    {
      "cell_type": "markdown",
      "metadata": {
        "id": "A4dhGTxjx-WX"
      },
      "source": [
        "**Task 5:**\n",
        "\n",
        "Write the batch gradient descent algorithm that iteratively updates the coefficients (an initially selected set of theta values), and stops once the loss function stops changing much (i.e. by about 0.1) \n"
      ]
    },
    {
      "cell_type": "code",
      "metadata": {
        "id": "4koeJgYcx-WX",
        "colab": {
          "base_uri": "https://localhost:8080/"
        },
        "outputId": "af81dfe2-b014-455c-953d-7876c621e519"
      },
      "source": [
        "# set initial theta values\n",
        "theta = [100, 100]\n",
        "\n",
        "# set stopping criterion\n",
        "loss_stop_threshold = 0.1\n",
        "\n",
        "# learning rate\n",
        "alpha = 0.1\n",
        "\n",
        "def batch_gd( X, y, theta, alpha, loss_stop_threshold):\n",
        "    # initial loss value\n",
        "    loss = loss_L2( h_lin(X,theta), y)\n",
        "    old_loss = loss+loss_stop_threshold\n",
        "\n",
        "    # loop through \n",
        "    while( abs(old_loss - loss) > loss_stop_threshold ):\n",
        "        #print(loss)\n",
        "\n",
        "        # gradient descent update rules\n",
        "        gradients = gradient_batch(theta, X, y)\n",
        "        \n",
        "        theta = theta - alpha * gradients            \n",
        "        \n",
        "        # update loss values\n",
        "        old_loss = loss\n",
        "        loss = loss_L2( h_lin(X,theta), y)\n",
        "        \n",
        "    print('GD stopped at loss %s, with coefficients: %s' % (loss,theta))\n",
        "    return theta\n",
        "        \n",
        "theta = batch_gd(X_train, y_train, theta, alpha, loss_stop_threshold)"
      ],
      "execution_count": 11,
      "outputs": [
        {
          "output_type": "stream",
          "text": [
            "GD stopped at loss 4424.021439939005, with coefficients: [152.7 507.2]\n"
          ],
          "name": "stdout"
        }
      ]
    },
    {
      "cell_type": "markdown",
      "metadata": {
        "id": "kJuVwOynx-WX"
      },
      "source": [
        "**Task 6:**\n",
        "\n",
        "Train your algorithm using the training data, then test it using the test set. Compare the performance of your algorithm to the sklearn solution. Have a play with some of the parameters you can tweak, particularly learning rate and stopping criterion.\n",
        "\n"
      ]
    },
    {
      "cell_type": "code",
      "metadata": {
        "id": "0SQpyC96x-WX",
        "colab": {
          "base_uri": "https://localhost:8080/",
          "height": 351
        },
        "outputId": "3d761c17-c5b1-4448-b046-292d35a0006b"
      },
      "source": [
        "\n",
        "y_pred =  h_lin( X_test, theta)\n",
        "\n",
        "# The coefficients\n",
        "print('Intercept (theta 0): \\n', theta[0])\n",
        "print('Coefficients (theta 1): \\n', theta[1])\n",
        "\n",
        "# The mean squared error\n",
        "print(\"Mean squared error: %.2f\"\n",
        "      % mean_squared_error(y_test, y_pred))\n",
        "\n",
        "# Plot outputs using test data\n",
        "plt.scatter(X_test, y_test,  color='black')\n",
        "plt.plot(X_test, y_pred, color='blue', linewidth=3)\n",
        "\n",
        "plt.show()\n"
      ],
      "execution_count": 12,
      "outputs": [
        {
          "output_type": "stream",
          "text": [
            "Intercept (theta 0): \n",
            " 152.69999999999993\n",
            "Coefficients (theta 1): \n",
            " 507.20000000004825\n",
            "Mean squared error: 4347.79\n"
          ],
          "name": "stdout"
        },
        {
          "output_type": "display_data",
          "data": {
            "image/png": "[encoded data removed]",
            "text/plain": [
              "<Figure size 432x288 with 1 Axes>"
            ]
          },
          "metadata": {
            "tags": [],
            "needs_background": "light"
          }
        }
      ]
    }
  ]
}