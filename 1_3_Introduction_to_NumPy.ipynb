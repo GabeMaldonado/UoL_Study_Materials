{
  "cells": [
    {
      "cell_type": "markdown",
      "metadata": {
        "id": "view-in-github",
        "colab_type": "text"
      },
      "source": [
        "<a href=\"https://colab.research.google.com/github/GabeMaldonado/UoL_Study_Materials/blob/main/1_3_Introduction_to_NumPy.ipynb\" target=\"_parent\"><img src=\"https://colab.research.google.com/assets/colab-badge.svg\" alt=\"Open In Colab\"/></a>"
      ]
    },
    {
      "cell_type": "markdown",
      "metadata": {
        "id": "a8wwi5MfpRlm"
      },
      "source": [
        "# Introduction to NumPy\n",
        "\n",
        "## Instructions:\n",
        "* Go through the notebook and complete the tasks. \n",
        "* Make sure you understand the examples given. If you need help, refer to the documentation links provided or go to the Topic 1 discussion forum. \n",
        "* Save your notebooks when you are done.\n",
        "\n",
        "Note that we use the import keyword to import modules and libraries in Python. You can find out more about this <a href=\"https://docs.python.org/3/tutorial/modules.html\">here</a>.\n",
        "\n",
        "\n"
      ]
    },
    {
      "cell_type": "code",
      "execution_count": 1,
      "metadata": {
        "id": "uChtqO5ZpRln"
      },
      "outputs": [],
      "source": [
        "import numpy as np\n"
      ]
    },
    {
      "cell_type": "markdown",
      "metadata": {
        "id": "rlBYBIS7pRlo"
      },
      "source": [
        "## 1 NumPy arrays\n",
        "\n",
        "NumPy n-dimensional arrays (referred to as ndarrays are a fundamental structure for ML in Python.\n",
        "\n",
        "### 1.1 Usage examples\n",
        "\n",
        "To create a NumPy array from list:\n",
        "\n",
        "    data1D = [6, 7, 8]\n",
        "    data1DnD = np.array(data1D)\n",
        "    print(data1D)\n",
        "    print(data1DnD)\n",
        "\n",
        "To print useful properties of our array:\n",
        "\n",
        "    print(data1DnD.shape)\n",
        "    print(data1DnD.ndim)\n",
        "    print(data1DnD.dtype)\n",
        "\n",
        "To change the type of elements:\n",
        "\n",
        "    data1DnD_float = data1DnD.astype(np.float)\n",
        "    data1DnD_string = data1DnD.astype(np.string_)\n",
        "\n",
        "For array indexing:\n",
        "\n",
        "    print(a[0])   #return the first element of ndarray a\n",
        "    print(a[:])   #return all the elements of ndarray a\n",
        "    print(a[-1])  #return the last element of ndarray a\n",
        "    print(a[:-1]) #return everything up to the last element\n",
        "    print(a[:-2]) #return everything up to the second last element\n",
        "    print(a[-2])  #return the second last element\n",
        "\n",
        "There are various ways of creating an ndarray:\n",
        "\n",
        "    a = np.array([1, 2, 3])\n",
        "    b = np.zeros((1,5))              # Create an array of all zeros\n",
        "    c = np.ones((1,5))               # Create an array of all ones\n",
        "    d = np.full((1,5), 7)            # Create an array filled with value 7\n",
        "    e = np.random.random((1,4))      # Create an array filled with random values\n",
        "    f = np.eye(3)                    # Create a 3x3 identity matrix (2D array)\n",
        "    g = np.ones((3,3,3))             # 3-Dimensional array\n",
        "\n",
        "As the name suggests, an n-dimensional array can be generalised to multiple dimensions:\n",
        "\n",
        "    A=np.array([ [1,2], [3,4] ])     # Create a 2-D array (Matrix)\n",
        "    print(A[0,1])                    # return the element on first column, second row (0,1)=2\n",
        "                                     # array indexing works as above\n",
        "\n",
        "We can reshape a vector (for example, ```v=[v1,v2,…,vN]```) to a matrix of ```N1 x N2``` dimensions (where ```N1xN2 = N```). This is particularly useful for plotting images.  As an example using numpy’s reshape method:\n",
        "\n",
        "    A = np.array([1,2,3,4,5,6])  # a 1D array \n",
        "    B = np.reshape( A, [2,3] ) # reshape as a 2D array with 2 rows and 3 columns\n",
        "    print(B)\n",
        " \n",
        "**Task 1:**\n",
        "Go through the examples above, pasting the code given in the empty cell below and verifying the results. \n",
        "Make sure you understand what this basic code does. You can find some NumPy documentation <a href=\"http://docs.scipy.org/doc/numpy/reference/generated/numpy.ndarray.html\">here</a>."
      ]
    },
    {
      "cell_type": "code",
      "source": [
        "data1D = [6, 7, 8]\n",
        "data1DnD = np.array(data1D)\n",
        "print(data1D)\n",
        "print(data1DnD)"
      ],
      "metadata": {
        "colab": {
          "base_uri": "https://localhost:8080/"
        },
        "id": "1iEoUpPvpaFW",
        "outputId": "b064e971-f7b5-4730-96e0-1a417688913c"
      },
      "execution_count": 2,
      "outputs": [
        {
          "output_type": "stream",
          "name": "stdout",
          "text": [
            "[6, 7, 8]\n",
            "[6 7 8]\n"
          ]
        }
      ]
    },
    {
      "cell_type": "code",
      "source": [
        "print(data1DnD.shape)\n",
        "print(data1DnD.ndim)\n",
        "print(data1DnD.dtype)"
      ],
      "metadata": {
        "colab": {
          "base_uri": "https://localhost:8080/"
        },
        "id": "9r96rrj2pf9r",
        "outputId": "7c554805-042a-455d-a7a7-4ed5c37fa877"
      },
      "execution_count": 3,
      "outputs": [
        {
          "output_type": "stream",
          "name": "stdout",
          "text": [
            "(3,)\n",
            "1\n",
            "int64\n"
          ]
        }
      ]
    },
    {
      "cell_type": "code",
      "source": [
        "A = np.array([1,2,3,4,5,6])  # a 1D array \n",
        "B = np.reshape( A, [2,3] ) # reshape as a 2D array with 2 rows and 3 columns\n",
        "print(B)"
      ],
      "metadata": {
        "colab": {
          "base_uri": "https://localhost:8080/"
        },
        "id": "apVVIjvsuzEG",
        "outputId": "993a681f-1cb6-4a72-cf1b-6e9a27cd670b"
      },
      "execution_count": 4,
      "outputs": [
        {
          "output_type": "stream",
          "name": "stdout",
          "text": [
            "[[1 2 3]\n",
            " [4 5 6]]\n"
          ]
        }
      ]
    },
    {
      "cell_type": "code",
      "source": [
        "e = np.random.random((1,4))"
      ],
      "metadata": {
        "id": "NA7JFkiYu94D"
      },
      "execution_count": 5,
      "outputs": []
    },
    {
      "cell_type": "code",
      "source": [
        "e"
      ],
      "metadata": {
        "colab": {
          "base_uri": "https://localhost:8080/"
        },
        "id": "x0K57s21vAQo",
        "outputId": "99bdb5c6-7da0-4ba0-f667-2860a288d969"
      },
      "execution_count": 6,
      "outputs": [
        {
          "output_type": "execute_result",
          "data": {
            "text/plain": [
              "array([[0.4108432 , 0.28497724, 0.46494179, 0.27441705]])"
            ]
          },
          "metadata": {},
          "execution_count": 6
        }
      ]
    },
    {
      "cell_type": "code",
      "execution_count": null,
      "metadata": {
        "id": "9vclc5cspRlt"
      },
      "outputs": [],
      "source": [
        "# code here"
      ]
    },
    {
      "cell_type": "markdown",
      "metadata": {
        "id": "t46jKMdSpRlu"
      },
      "source": [
        "**Task 2:**\n",
        "In the empty cell below, create an np array called ```L``` consisting of 15 random elements.\n"
      ]
    },
    {
      "cell_type": "code",
      "execution_count": 7,
      "metadata": {
        "id": "YBUxj5qUpRlu"
      },
      "outputs": [],
      "source": [
        "# code here\n",
        "L = np.random.random((1,15))"
      ]
    },
    {
      "cell_type": "code",
      "source": [
        "L"
      ],
      "metadata": {
        "colab": {
          "base_uri": "https://localhost:8080/"
        },
        "id": "y5OoN9A2vJV6",
        "outputId": "43113c7a-8617-4252-95fc-e4062514378e"
      },
      "execution_count": 8,
      "outputs": [
        {
          "output_type": "execute_result",
          "data": {
            "text/plain": [
              "array([[0.6400277 , 0.83854804, 0.3097512 , 0.73362491, 0.71477719,\n",
              "        0.25468594, 0.11537044, 0.57096907, 0.78045131, 0.77167516,\n",
              "        0.53080932, 0.94650921, 0.13196034, 0.92535031, 0.12551326]])"
            ]
          },
          "metadata": {},
          "execution_count": 8
        }
      ]
    },
    {
      "cell_type": "markdown",
      "metadata": {
        "id": "tbM-PR7MpRlv"
      },
      "source": [
        "**Task 3:**\n",
        "Reshape the array ```L``` to a matrix ```A``` that has 5 rows and 3 columns. Print the matrix to verify the result.\n"
      ]
    },
    {
      "cell_type": "code",
      "execution_count": 9,
      "metadata": {
        "id": "MUxX6DW_pRlv"
      },
      "outputs": [],
      "source": [
        "# code here\n",
        "L = np.reshape(L, [5, 3])\n"
      ]
    },
    {
      "cell_type": "code",
      "source": [
        "L"
      ],
      "metadata": {
        "colab": {
          "base_uri": "https://localhost:8080/"
        },
        "id": "0Ht6sGuCwk-e",
        "outputId": "5a20c2b0-f732-4994-bcf5-8b65994fb45e"
      },
      "execution_count": 10,
      "outputs": [
        {
          "output_type": "execute_result",
          "data": {
            "text/plain": [
              "array([[0.6400277 , 0.83854804, 0.3097512 ],\n",
              "       [0.73362491, 0.71477719, 0.25468594],\n",
              "       [0.11537044, 0.57096907, 0.78045131],\n",
              "       [0.77167516, 0.53080932, 0.94650921],\n",
              "       [0.13196034, 0.92535031, 0.12551326]])"
            ]
          },
          "metadata": {},
          "execution_count": 10
        }
      ]
    },
    {
      "cell_type": "markdown",
      "metadata": {
        "id": "MTlcQ9RhpRlw"
      },
      "source": [
        "**Task 4:**\n",
        "Reshape matrix ```A``` to a matrix ```B``` that has 3 rows and 5 columns. Then, print the elements in row 0 and 1 only.\n"
      ]
    },
    {
      "cell_type": "code",
      "execution_count": 16,
      "metadata": {
        "colab": {
          "base_uri": "https://localhost:8080/"
        },
        "id": "SUpS28F2pRlw",
        "outputId": "cbbe2a62-5223-468e-c040-e01f67301811"
      },
      "outputs": [
        {
          "output_type": "stream",
          "name": "stdout",
          "text": [
            "[[0.6400277  0.83854804 0.3097512  0.73362491 0.71477719]\n",
            " [0.25468594 0.11537044 0.57096907 0.78045131 0.77167516]\n",
            " [0.53080932 0.94650921 0.13196034 0.92535031 0.12551326]]\n"
          ]
        }
      ],
      "source": [
        "# code here\n",
        "#A = np.array([1,2,3,4,5,6])  # a 1D array \n",
        "B = np.reshape( L, [3, 5] ) # reshape as a 2D array with 2 rows and 3 columns\n",
        "print(B)"
      ]
    },
    {
      "cell_type": "code",
      "source": [
        "B[:2]"
      ],
      "metadata": {
        "colab": {
          "base_uri": "https://localhost:8080/"
        },
        "id": "_E7DGPn5xxzo",
        "outputId": "abe7cac5-54bd-482f-dfe1-58d51cb8f1ca"
      },
      "execution_count": 17,
      "outputs": [
        {
          "output_type": "execute_result",
          "data": {
            "text/plain": [
              "array([[0.6400277 , 0.83854804, 0.3097512 , 0.73362491, 0.71477719],\n",
              "       [0.25468594, 0.11537044, 0.57096907, 0.78045131, 0.77167516]])"
            ]
          },
          "metadata": {},
          "execution_count": 17
        }
      ]
    },
    {
      "cell_type": "markdown",
      "metadata": {
        "id": "i3t40xrapRlw"
      },
      "source": [
        "**Task: 5**\n",
        "Print all elements of ```B``` that are in row 0 and 2 <b>and</b> column 1.\n"
      ]
    },
    {
      "cell_type": "code",
      "execution_count": 50,
      "metadata": {
        "colab": {
          "base_uri": "https://localhost:8080/"
        },
        "id": "qoYui5VxpRlw",
        "outputId": "57e8c696-a83b-4804-88d7-8cd8d6fff386"
      },
      "outputs": [
        {
          "output_type": "execute_result",
          "data": {
            "text/plain": [
              "array([0.6400277 , 0.25468594, 0.53080932])"
            ]
          },
          "metadata": {},
          "execution_count": 50
        }
      ],
      "source": [
        "# code here\n",
        "B[[0, 1, 2], [0]]"
      ]
    },
    {
      "cell_type": "markdown",
      "metadata": {
        "id": "6FTuUfXDpRlx"
      },
      "source": [
        "**Task 6:**\n",
        "Print all elements of ```A``` that are in the last row (see the ```[-1]``` notation above) and second to last column.\n"
      ]
    },
    {
      "cell_type": "code",
      "execution_count": 52,
      "metadata": {
        "colab": {
          "base_uri": "https://localhost:8080/"
        },
        "id": "_Qr0W-GdpRlx",
        "outputId": "abef4e8c-4f1e-4840-ac4d-ac7808ed1fda"
      },
      "outputs": [
        {
          "output_type": "execute_result",
          "data": {
            "text/plain": [
              "array([0.53080932, 0.94650921, 0.13196034, 0.92535031, 0.12551326])"
            ]
          },
          "metadata": {},
          "execution_count": 52
        }
      ],
      "source": [
        "# code here\n",
        "B[-1]"
      ]
    },
    {
      "cell_type": "markdown",
      "metadata": {
        "id": "qc0oJ2Y0pRlx"
      },
      "source": [
        "**Task 7:**\n",
        "Given the array ```Y``` below, find all indices in the array that are equal to the value 1. Use the NumPy function where to do that. Your final output should look like this: ```[1, 3, 4, 7]```.\n",
        "You can find some useful documentation to help you with this <a href=\"https://docs.scipy.org/doc/numpy-1.13.0/reference/generated/numpy.where.html\">here</a>.\n"
      ]
    },
    {
      "cell_type": "code",
      "execution_count": 53,
      "metadata": {
        "colab": {
          "base_uri": "https://localhost:8080/"
        },
        "id": "JK2nJWzupRlx",
        "outputId": "25cb74a9-559a-4a10-9bef-33210617fa25"
      },
      "outputs": [
        {
          "output_type": "execute_result",
          "data": {
            "text/plain": [
              "(array([1, 3, 4, 7]),)"
            ]
          },
          "metadata": {},
          "execution_count": 53
        }
      ],
      "source": [
        "Y=np.array([0, 1, 0, 1,1, 2,0,1,0])\n",
        "# code here\n",
        "\n",
        "np.where(Y == 1)"
      ]
    },
    {
      "cell_type": "markdown",
      "metadata": {
        "id": "jFiRAqtypRly"
      },
      "source": [
        "**Task 8:**\n",
        "Split the array ```Y``` defined above into three arrays by using the NumPy function ```array_split```. Print to verify.\n",
        "You can find some useful documentation to help you with this <a href=\"https://docs.scipy.org/doc/numpy-1.13.0/reference/generated/numpy.array_split.html\">here</a>.\n"
      ]
    },
    {
      "cell_type": "code",
      "execution_count": 54,
      "metadata": {
        "colab": {
          "base_uri": "https://localhost:8080/"
        },
        "id": "vXH5S3u5pRly",
        "outputId": "5562b6a1-527f-449b-eaa8-ce0169fdf8c1"
      },
      "outputs": [
        {
          "output_type": "execute_result",
          "data": {
            "text/plain": [
              "[array([0, 1, 0]), array([1, 1, 2]), array([0, 1, 0])]"
            ]
          },
          "metadata": {},
          "execution_count": 54
        }
      ],
      "source": [
        "# code here\n",
        "\n",
        "np.split(Y, 3)"
      ]
    },
    {
      "cell_type": "markdown",
      "metadata": {
        "id": "oPZDCp86pRly"
      },
      "source": [
        "**Task 9:**\n",
        "Given the array ```D``` defined below, find the indices that sort the array. Use the NumPy function ```argsort``` in order to do so. Subsequently, print the sorted array. \n",
        "The final output should look like this: ```[ 0 1 2 5 9 10 20]```.\n"
      ]
    },
    {
      "cell_type": "code",
      "execution_count": 58,
      "metadata": {
        "colab": {
          "base_uri": "https://localhost:8080/"
        },
        "id": "SdqfCtIWpRly",
        "outputId": "9730158f-4e4b-486f-c81c-134db106890f"
      },
      "outputs": [
        {
          "output_type": "execute_result",
          "data": {
            "text/plain": [
              "array([ 0,  1,  2,  5,  9, 10, 20])"
            ]
          },
          "metadata": {},
          "execution_count": 58
        }
      ],
      "source": [
        "M = np.array([10,5,2,9,20,0,1])\n",
        "# code here\n",
        "\n",
        "ix = np.argsort(M)\n",
        "\n",
        "M[ix]"
      ]
    },
    {
      "cell_type": "markdown",
      "metadata": {
        "id": "p5GGKpcppRly"
      },
      "source": [
        "**Task 10:**\n",
        "Create two random 2x2 matrices ```X``` and ```Y``` (2 rows, 2 columns). Use the NumPy function ```concatenate``` in order to concatenate them and create a matrix ```Z``` that has dimensions 4x2 and a matrix ```W``` that has dimensions 2x4.\n",
        "You can find some useful documentation to help you with this <a href=\"https://docs.scipy.org/doc/numpy-1.13.0/reference/generated/numpy.concatenate.html\">here</a>.\n"
      ]
    },
    {
      "cell_type": "code",
      "execution_count": 71,
      "metadata": {
        "colab": {
          "base_uri": "https://localhost:8080/"
        },
        "id": "InwB4W2bpRly",
        "outputId": "4432ba87-e8de-4090-af10-bb92b281d69e"
      },
      "outputs": [
        {
          "output_type": "execute_result",
          "data": {
            "text/plain": [
              "array([[0.25241712, 0.42218546],\n",
              "       [0.85010072, 0.95377991]])"
            ]
          },
          "metadata": {},
          "execution_count": 71
        }
      ],
      "source": [
        "# code here\n",
        "\n",
        "S= np.random.random((1, 4))\n",
        "S = np.reshape(S, (2, 2))\n",
        "S"
      ]
    },
    {
      "cell_type": "code",
      "source": [
        "Y= np.random.random((1, 4))\n",
        "Y = np.reshape(S, (2, 2))\n",
        "Y"
      ],
      "metadata": {
        "colab": {
          "base_uri": "https://localhost:8080/"
        },
        "id": "CE1wJ1IC7XFx",
        "outputId": "5376a778-6e1d-47fb-c65f-fac70d821dcf"
      },
      "execution_count": 72,
      "outputs": [
        {
          "output_type": "execute_result",
          "data": {
            "text/plain": [
              "array([[0.25241712, 0.42218546],\n",
              "       [0.85010072, 0.95377991]])"
            ]
          },
          "metadata": {},
          "execution_count": 72
        }
      ]
    },
    {
      "cell_type": "code",
      "source": [
        "Z = np.concatenate((S, Y))\n",
        "Z"
      ],
      "metadata": {
        "colab": {
          "base_uri": "https://localhost:8080/"
        },
        "id": "hNrVQap07eum",
        "outputId": "4cd0c4ea-ed7b-4c02-c152-04564ec6fa10"
      },
      "execution_count": 74,
      "outputs": [
        {
          "output_type": "execute_result",
          "data": {
            "text/plain": [
              "array([[0.25241712, 0.42218546],\n",
              "       [0.85010072, 0.95377991],\n",
              "       [0.25241712, 0.42218546],\n",
              "       [0.85010072, 0.95377991]])"
            ]
          },
          "metadata": {},
          "execution_count": 74
        }
      ]
    },
    {
      "cell_type": "code",
      "source": [
        "Z.shape"
      ],
      "metadata": {
        "colab": {
          "base_uri": "https://localhost:8080/"
        },
        "id": "xlcmmJsM73Lo",
        "outputId": "0e4e2048-ea91-4520-a681-5177fa3c779e"
      },
      "execution_count": 76,
      "outputs": [
        {
          "output_type": "execute_result",
          "data": {
            "text/plain": [
              "(4, 2)"
            ]
          },
          "metadata": {},
          "execution_count": 76
        }
      ]
    },
    {
      "cell_type": "code",
      "source": [
        "W = np.reshape(Z, (2, 4))"
      ],
      "metadata": {
        "id": "_9JTflyK78md"
      },
      "execution_count": 77,
      "outputs": []
    },
    {
      "cell_type": "code",
      "source": [
        "W"
      ],
      "metadata": {
        "colab": {
          "base_uri": "https://localhost:8080/"
        },
        "id": "BRpJG34P8Gd0",
        "outputId": "7d999ef1-41d1-4231-ae0a-5fe02bff4912"
      },
      "execution_count": 78,
      "outputs": [
        {
          "output_type": "execute_result",
          "data": {
            "text/plain": [
              "array([[0.25241712, 0.42218546, 0.85010072, 0.95377991],\n",
              "       [0.25241712, 0.42218546, 0.85010072, 0.95377991]])"
            ]
          },
          "metadata": {},
          "execution_count": 78
        }
      ]
    },
    {
      "cell_type": "code",
      "source": [
        "W.shape"
      ],
      "metadata": {
        "colab": {
          "base_uri": "https://localhost:8080/"
        },
        "id": "zBeWtlzK8Ho4",
        "outputId": "f065b947-4a25-48a7-ad65-3baaf668046c"
      },
      "execution_count": 79,
      "outputs": [
        {
          "output_type": "execute_result",
          "data": {
            "text/plain": [
              "(2, 4)"
            ]
          },
          "metadata": {},
          "execution_count": 79
        }
      ]
    },
    {
      "cell_type": "markdown",
      "metadata": {
        "id": "gEo1jz-zpRlz"
      },
      "source": [
        "**Task 11:**\n",
        "Create the same matrices ```Z2=Z``` and ```W2=W``` (where ```Z``` and ```W``` are as defined above), but this time use the NumPy functions ```hstack``` and ```vstack```.\n",
        "\n",
        "You can find some useful documentation to help you with ```hstack``` <a href=\"https://docs.scipy.org/doc/numpy-1.13.0/reference/generated/numpy.hstack.html#numpy.hstack\">here</a> and ```vstack``` <a href=\"https://docs.scipy.org/doc/numpy-1.13.0/reference/generated/numpy.vstack.html#numpy.vstack\">here</a>.\n"
      ]
    },
    {
      "cell_type": "code",
      "execution_count": 80,
      "metadata": {
        "id": "VQLt7hAIpRlz"
      },
      "outputs": [],
      "source": [
        "# code here\n",
        "\n",
        "Z2 = np.hstack((S, Y))"
      ]
    },
    {
      "cell_type": "code",
      "source": [
        "Z2"
      ],
      "metadata": {
        "colab": {
          "base_uri": "https://localhost:8080/"
        },
        "id": "ThBeFhJP80SW",
        "outputId": "38a0d31e-bbfa-4012-b80a-09ff10b6509c"
      },
      "execution_count": 81,
      "outputs": [
        {
          "output_type": "execute_result",
          "data": {
            "text/plain": [
              "array([[0.25241712, 0.42218546, 0.25241712, 0.42218546],\n",
              "       [0.85010072, 0.95377991, 0.85010072, 0.95377991]])"
            ]
          },
          "metadata": {},
          "execution_count": 81
        }
      ]
    },
    {
      "cell_type": "code",
      "source": [
        "W2 = np.vstack((S, Y))\n",
        "W2"
      ],
      "metadata": {
        "colab": {
          "base_uri": "https://localhost:8080/"
        },
        "id": "tA5e9oev807T",
        "outputId": "efea2190-d32e-43e9-e506-ff59b9c64b20"
      },
      "execution_count": 82,
      "outputs": [
        {
          "output_type": "execute_result",
          "data": {
            "text/plain": [
              "array([[0.25241712, 0.42218546],\n",
              "       [0.85010072, 0.95377991],\n",
              "       [0.25241712, 0.42218546],\n",
              "       [0.85010072, 0.95377991]])"
            ]
          },
          "metadata": {},
          "execution_count": 82
        }
      ]
    },
    {
      "cell_type": "code",
      "source": [
        ""
      ],
      "metadata": {
        "id": "JUn_UMny86zR"
      },
      "execution_count": null,
      "outputs": []
    }
  ],
  "metadata": {
    "kernelspec": {
      "display_name": "Python 3",
      "language": "python",
      "name": "python3"
    },
    "language_info": {
      "codemirror_mode": {
        "name": "ipython",
        "version": 3
      },
      "file_extension": ".py",
      "mimetype": "text/x-python",
      "name": "python",
      "nbconvert_exporter": "python",
      "pygments_lexer": "ipython3",
      "version": "3.7.3"
    },
    "colab": {
      "name": "1.3 Introduction to NumPy.ipynb",
      "provenance": [],
      "include_colab_link": true
    }
  },
  "nbformat": 4,
  "nbformat_minor": 0
}