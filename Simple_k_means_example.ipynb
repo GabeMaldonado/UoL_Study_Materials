{
  "nbformat": 4,
  "nbformat_minor": 0,
  "metadata": {
    "kernelspec": {
      "display_name": "Python 3",
      "language": "python",
      "name": "python3"
    },
    "language_info": {
      "codemirror_mode": {
        "name": "ipython",
        "version": 3
      },
      "file_extension": ".py",
      "mimetype": "text/x-python",
      "name": "python",
      "nbconvert_exporter": "python",
      "pygments_lexer": "ipython3",
      "version": "3.7.1"
    },
    "colab": {
      "name": "Simple_k-means_example.ipynb",
      "provenance": [],
      "collapsed_sections": [],
      "include_colab_link": true
    }
  },
  "cells": [
    {
      "cell_type": "markdown",
      "metadata": {
        "id": "view-in-github",
        "colab_type": "text"
      },
      "source": [
        "<a href=\"https://colab.research.google.com/github/GabeMaldonado/UoL_Study_Materials/blob/main/Simple_k_means_example.ipynb\" target=\"_parent\"><img src=\"https://colab.research.google.com/assets/colab-badge.svg\" alt=\"Open In Colab\"/></a>"
      ]
    },
    {
      "cell_type": "markdown",
      "metadata": {
        "id": "yVkljLG5r8NX"
      },
      "source": [
        "# Unsupervised learning and k-means\n",
        "## Instructions:\n",
        "* Go through the notebook and complete the tasks. \n",
        "* Make sure you understand the examples given. If you need any help, refer to the documentation links provided or go to the Topic 5 discussion forum. \n",
        "* When a question allows a free-form answer (e.g. what do you observe?), create a new markdown cell below and answer the question in the notebook. \n",
        "* Save your notebooks when you are done. \n",
        "\n",
        "**Task:**\n",
        "In this notebook, your goal is to design an unsupervised learning classifier based on k-means, and subsequently compare the performance with a supervised learning classifier such as k-NN. The first task relates to loading the IRIS data by using the scikit-learn module (as in previous topic notebooks), and subsequently applying k-means on the iris dataset.  The task is outlined as follows:"
      ]
    },
    {
      "cell_type": "code",
      "metadata": {
        "id": "rdqPuaPWr8NZ"
      },
      "source": [
        "#- Load IRIS data using scikit learn (as in previous notebooks).\n",
        "\n",
        "#- Apply k-means on the iris dataset.  Note that we cannot use labels in the case of k-means, as we assume this dataset is entirely unlabelled.\n",
        "\n",
        "#- Use the labels and train a k-NN algorithm (as we saw in previous topics) with scikit-learn.  This is a supervised approach.\n",
        "\n",
        "#- Compare the accuracy of k-means on the iris dataset (you can use the function  sklearn.metrics.cluster.v_measure_score) with the accuracy of k-NN.\n"
      ],
      "execution_count": null,
      "outputs": []
    },
    {
      "cell_type": "markdown",
      "metadata": {
        "id": "Ch9zXaWNr8NZ"
      },
      "source": [
        " To help you undertake this task, you can read the k-means reference, and selecrtion of examples, on scikit-learn <a href=\"http://scikit-learn.org/stable/modules/generated/sklearn.cluster.KMeans.html#examples-using-sklearn-cluster-kmeans\">here</a>. \n"
      ]
    },
    {
      "cell_type": "code",
      "metadata": {
        "id": "D85IMgDlsdxs"
      },
      "source": [
        "import numpy as np\n",
        "import pandas as pd\n",
        "import matplotlib.pyplot as plt\n",
        "import seaborn as sns\n",
        "\n",
        "from sklearn import datasets\n",
        "from sklearn.cluster import KMeans\n",
        "from sklearn.metrics.cluster import v_measure_score\n",
        "\n",
        "# load iris dataset\n",
        "\n",
        "df = datasets.load_iris()\n",
        "\n",
        "# get data and targets\n",
        "\n",
        "X = df.data\n",
        "y = df.target\n",
        "\n"
      ],
      "execution_count": 6,
      "outputs": []
    },
    {
      "cell_type": "code",
      "metadata": {
        "id": "MQAMpqzItG2r"
      },
      "source": [
        "# apply k-means to the dataset\n",
        "\n",
        "km = KMeans(n_clusters=3, random_state=1, n_init=1, init='random')"
      ],
      "execution_count": 21,
      "outputs": []
    },
    {
      "cell_type": "code",
      "metadata": {
        "colab": {
          "base_uri": "https://localhost:8080/"
        },
        "id": "qME7x6o-t9F2",
        "outputId": "04f67041-eceb-4289-ae25-2c4694d4f890"
      },
      "source": [
        "# fit model\n",
        "km.fit(X)"
      ],
      "execution_count": 22,
      "outputs": [
        {
          "output_type": "execute_result",
          "data": {
            "text/plain": [
              "KMeans(algorithm='auto', copy_x=True, init='random', max_iter=300, n_clusters=3,\n",
              "       n_init=1, n_jobs=None, precompute_distances='auto', random_state=1,\n",
              "       tol=0.0001, verbose=0)"
            ]
          },
          "metadata": {
            "tags": []
          },
          "execution_count": 22
        }
      ]
    },
    {
      "cell_type": "code",
      "metadata": {
        "colab": {
          "base_uri": "https://localhost:8080/"
        },
        "id": "hwsJhuyxuArx",
        "outputId": "a99d94ed-a73b-43bc-9033-5f10e1ee1515"
      },
      "source": [
        "# predict\n",
        "y_pred = km.predict(X)\n",
        "y_pred"
      ],
      "execution_count": 23,
      "outputs": [
        {
          "output_type": "execute_result",
          "data": {
            "text/plain": [
              "array([2, 2, 2, 2, 2, 2, 2, 2, 2, 2, 2, 2, 2, 2, 2, 2, 2, 2, 2, 2, 2, 2,\n",
              "       2, 2, 2, 2, 2, 2, 2, 2, 2, 2, 2, 2, 2, 2, 2, 2, 2, 2, 2, 2, 2, 2,\n",
              "       2, 2, 2, 2, 2, 2, 1, 0, 1, 0, 0, 0, 0, 0, 0, 0, 0, 0, 0, 0, 0, 0,\n",
              "       0, 0, 0, 0, 0, 0, 0, 0, 0, 0, 0, 1, 0, 0, 0, 0, 0, 0, 0, 0, 0, 0,\n",
              "       0, 0, 0, 0, 0, 0, 0, 0, 0, 0, 0, 0, 1, 0, 1, 1, 1, 1, 0, 1, 1, 1,\n",
              "       1, 1, 1, 0, 0, 1, 1, 1, 1, 0, 1, 0, 1, 0, 1, 1, 0, 0, 1, 1, 1, 1,\n",
              "       1, 0, 1, 1, 1, 1, 0, 1, 1, 1, 0, 1, 1, 1, 0, 1, 1, 0], dtype=int32)"
            ]
          },
          "metadata": {
            "tags": []
          },
          "execution_count": 23
        }
      ]
    },
    {
      "cell_type": "code",
      "metadata": {
        "colab": {
          "base_uri": "https://localhost:8080/"
        },
        "id": "MayL7RY3uIsK",
        "outputId": "0c547d34-9aaf-4d51-a107-f47ac7c6831a"
      },
      "source": [
        "# compare accuracy\n",
        "v_measure_score(y_pred, y)"
      ],
      "execution_count": 24,
      "outputs": [
        {
          "output_type": "execute_result",
          "data": {
            "text/plain": [
              "0.7419116631817838"
            ]
          },
          "metadata": {
            "tags": []
          },
          "execution_count": 24
        }
      ]
    }
  ]
}