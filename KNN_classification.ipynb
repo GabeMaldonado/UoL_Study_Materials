{
  "nbformat": 4,
  "nbformat_minor": 0,
  "metadata": {
    "kernelspec": {
      "display_name": "Python 3",
      "language": "python",
      "name": "python3"
    },
    "language_info": {
      "codemirror_mode": {
        "name": "ipython",
        "version": 3
      },
      "file_extension": ".py",
      "mimetype": "text/x-python",
      "name": "python",
      "nbconvert_exporter": "python",
      "pygments_lexer": "ipython3",
      "version": "3.7.1"
    },
    "colab": {
      "name": "KNN classification.ipynb",
      "provenance": [],
      "include_colab_link": true
    }
  },
  "cells": [
    {
      "cell_type": "markdown",
      "metadata": {
        "id": "view-in-github",
        "colab_type": "text"
      },
      "source": [
        "<a href=\"https://colab.research.google.com/github/GabeMaldonado/UoL_Study_Materials/blob/main/KNN_classification.ipynb\" target=\"_parent\"><img src=\"https://colab.research.google.com/assets/colab-badge.svg\" alt=\"Open In Colab\"/></a>"
      ]
    },
    {
      "cell_type": "markdown",
      "metadata": {
        "id": "pSC8m4uJueSu"
      },
      "source": [
        "# K-nearest neighbours classification\n",
        "## Instructions:\n",
        "* Go through the notebook and complete the tasks. \n",
        "* Make sure you understand the examples given. If you need help, refer to the Essential readings or the documentation link provided, or go to the Topic 2 discussion forum. \n",
        "* When a question allows a free-form answer (e.g. what do you observe?), create a new markdown cell below and answer the question in the notebook. \n",
        "* Save your notebooks when you are done.\n",
        " \n",
        "**Task 1:**\n",
        "Run the cell below to load our data. Notice the last line, where we add some random Gaussian noise to our data to make the task more challenging (data in real life usually contains some form of noise).\n"
      ]
    },
    {
      "cell_type": "code",
      "metadata": {
        "colab": {
          "base_uri": "https://localhost:8080/"
        },
        "id": "J5a8gxqgueSw",
        "outputId": "ede43a75-a521-4cdc-8279-da1e75574bdd"
      },
      "source": [
        "%matplotlib inline\n",
        "\n",
        "from sklearn import datasets\n",
        "import numpy as np\n",
        "import matplotlib.pyplot as plt\n",
        "\n",
        "iris = datasets.load_iris()\n",
        "\n",
        "#view a description of the dataset \n",
        "print(iris.DESCR)\n",
        "\n",
        "#Set X a samples times features matrix, Y equal to the targets\n",
        "X=iris.data \n",
        "y=iris.target \n",
        "\n",
        "\n",
        "#we add some random noise to our data to make the task more challenging\n",
        "X=X+np.random.normal(0,0.4,X.shape)\n"
      ],
      "execution_count": 1,
      "outputs": [
        {
          "output_type": "stream",
          "text": [
            ".. _iris_dataset:\n",
            "\n",
            "Iris plants dataset\n",
            "--------------------\n",
            "\n",
            "**Data Set Characteristics:**\n",
            "\n",
            "    :Number of Instances: 150 (50 in each of three classes)\n",
            "    :Number of Attributes: 4 numeric, predictive attributes and the class\n",
            "    :Attribute Information:\n",
            "        - sepal length in cm\n",
            "        - sepal width in cm\n",
            "        - petal length in cm\n",
            "        - petal width in cm\n",
            "        - class:\n",
            "                - Iris-Setosa\n",
            "                - Iris-Versicolour\n",
            "                - Iris-Virginica\n",
            "                \n",
            "    :Summary Statistics:\n",
            "\n",
            "    ============== ==== ==== ======= ===== ====================\n",
            "                    Min  Max   Mean    SD   Class Correlation\n",
            "    ============== ==== ==== ======= ===== ====================\n",
            "    sepal length:   4.3  7.9   5.84   0.83    0.7826\n",
            "    sepal width:    2.0  4.4   3.05   0.43   -0.4194\n",
            "    petal length:   1.0  6.9   3.76   1.76    0.9490  (high!)\n",
            "    petal width:    0.1  2.5   1.20   0.76    0.9565  (high!)\n",
            "    ============== ==== ==== ======= ===== ====================\n",
            "\n",
            "    :Missing Attribute Values: None\n",
            "    :Class Distribution: 33.3% for each of 3 classes.\n",
            "    :Creator: R.A. Fisher\n",
            "    :Donor: Michael Marshall (MARSHALL%PLU@io.arc.nasa.gov)\n",
            "    :Date: July, 1988\n",
            "\n",
            "The famous Iris database, first used by Sir R.A. Fisher. The dataset is taken\n",
            "from Fisher's paper. Note that it's the same as in R, but not as in the UCI\n",
            "Machine Learning Repository, which has two wrong data points.\n",
            "\n",
            "This is perhaps the best known database to be found in the\n",
            "pattern recognition literature.  Fisher's paper is a classic in the field and\n",
            "is referenced frequently to this day.  (See Duda & Hart, for example.)  The\n",
            "data set contains 3 classes of 50 instances each, where each class refers to a\n",
            "type of iris plant.  One class is linearly separable from the other 2; the\n",
            "latter are NOT linearly separable from each other.\n",
            "\n",
            ".. topic:: References\n",
            "\n",
            "   - Fisher, R.A. \"The use of multiple measurements in taxonomic problems\"\n",
            "     Annual Eugenics, 7, Part II, 179-188 (1936); also in \"Contributions to\n",
            "     Mathematical Statistics\" (John Wiley, NY, 1950).\n",
            "   - Duda, R.O., & Hart, P.E. (1973) Pattern Classification and Scene Analysis.\n",
            "     (Q327.D83) John Wiley & Sons.  ISBN 0-471-22361-1.  See page 218.\n",
            "   - Dasarathy, B.V. (1980) \"Nosing Around the Neighborhood: A New System\n",
            "     Structure and Classification Rule for Recognition in Partially Exposed\n",
            "     Environments\".  IEEE Transactions on Pattern Analysis and Machine\n",
            "     Intelligence, Vol. PAMI-2, No. 1, 67-71.\n",
            "   - Gates, G.W. (1972) \"The Reduced Nearest Neighbor Rule\".  IEEE Transactions\n",
            "     on Information Theory, May 1972, 431-433.\n",
            "   - See also: 1988 MLC Proceedings, 54-64.  Cheeseman et al\"s AUTOCLASS II\n",
            "     conceptual clustering system finds 3 classes in the data.\n",
            "   - Many, many more ...\n"
          ],
          "name": "stdout"
        }
      ]
    },
    {
      "cell_type": "markdown",
      "metadata": {
        "id": "r0zI2bv-ueSx"
      },
      "source": [
        "**Task 2:**\n",
        "1.\tHow many data samples do we have?\n",
        "2.\tPrint the value below using shape on ```X``` appropriately. "
      ]
    },
    {
      "cell_type": "code",
      "metadata": {
        "colab": {
          "base_uri": "https://localhost:8080/"
        },
        "id": "ZyAvCNNtueSx",
        "outputId": "f3638c9a-9a95-483a-cb20-ee866ed50923"
      },
      "source": [
        "#Enter code here\n",
        "print(X.shape[0])"
      ],
      "execution_count": 2,
      "outputs": [
        {
          "output_type": "stream",
          "text": [
            "150\n"
          ],
          "name": "stdout"
        }
      ]
    },
    {
      "cell_type": "markdown",
      "metadata": {
        "id": "uyWgjHumueSx"
      },
      "source": [
        "**Task 3:**\n",
        "1.\tHow many features do we have?\n",
        "2.\tPrint the value below using shape on ```X``` appropriately. \n"
      ]
    },
    {
      "cell_type": "code",
      "metadata": {
        "colab": {
          "base_uri": "https://localhost:8080/"
        },
        "id": "GBYAYbPEueSx",
        "outputId": "50bba698-287e-4583-bb86-321a0026e5b7"
      },
      "source": [
        "#Enter code here\n",
        "print(X[1])"
      ],
      "execution_count": 3,
      "outputs": [
        {
          "output_type": "stream",
          "text": [
            "[4.88829723 3.50930049 1.58082384 0.40790052]\n"
          ],
          "name": "stdout"
        }
      ]
    },
    {
      "cell_type": "markdown",
      "metadata": {
        "id": "NpADMssWueSy"
      },
      "source": [
        "**Task 4:**\n",
        "1.\tHow many classes do we have?\n",
        "2.\tPrint the value below using ```np.unique``` appropriately. \n"
      ]
    },
    {
      "cell_type": "code",
      "metadata": {
        "colab": {
          "base_uri": "https://localhost:8080/"
        },
        "id": "J_fVRDhCueSy",
        "outputId": "8320adff-d11f-43f6-e96c-3cd0670478b6"
      },
      "source": [
        "#Enter code here\n",
        "print(np.unique(y))"
      ],
      "execution_count": 4,
      "outputs": [
        {
          "output_type": "stream",
          "text": [
            "[0 1 2]\n"
          ],
          "name": "stdout"
        }
      ]
    },
    {
      "cell_type": "markdown",
      "metadata": {
        "id": "KO9ij_FUueSy"
      },
      "source": [
        "**Task 5:**\n",
        "1.\tHow many samples do we have that belong to class 1?\n",
        "2.\tPrint this in the cell below using the ```np.where``` function appropriately. \n"
      ]
    },
    {
      "cell_type": "code",
      "metadata": {
        "colab": {
          "base_uri": "https://localhost:8080/"
        },
        "id": "DIfXV96GueSy",
        "outputId": "99330074-37ce-4c14-c31b-0211912cd4af"
      },
      "source": [
        "#Enter code here\n",
        "len(np.where(y==1)[0])"
      ],
      "execution_count": 10,
      "outputs": [
        {
          "output_type": "execute_result",
          "data": {
            "text/plain": [
              "50"
            ]
          },
          "metadata": {
            "tags": []
          },
          "execution_count": 10
        }
      ]
    },
    {
      "cell_type": "markdown",
      "metadata": {
        "id": "-UTNGzUTueSy"
      },
      "source": [
        "**Task 6:** \n",
        "\n",
        "Assume we want to generate a list of shuffled indices of our data. Use the function ```numpy.random.permutation``` to do that. In the cell below, you can already see how to create a list of indices that is not shuffled.\n"
      ]
    },
    {
      "cell_type": "code",
      "metadata": {
        "colab": {
          "base_uri": "https://localhost:8080/"
        },
        "id": "2s8j-avhueSy",
        "outputId": "8f242b1f-d7a5-453a-e624-7901b939d516"
      },
      "source": [
        "L=list(range(X.shape[0]))\n",
        "print(L)\n",
        "#Enter code here\n",
        "print(\"\\n\")\n",
        "\n",
        "print(np.random.permutation(L))\n"
      ],
      "execution_count": 14,
      "outputs": [
        {
          "output_type": "stream",
          "text": [
            "[0, 1, 2, 3, 4, 5, 6, 7, 8, 9, 10, 11, 12, 13, 14, 15, 16, 17, 18, 19, 20, 21, 22, 23, 24, 25, 26, 27, 28, 29, 30, 31, 32, 33, 34, 35, 36, 37, 38, 39, 40, 41, 42, 43, 44, 45, 46, 47, 48, 49, 50, 51, 52, 53, 54, 55, 56, 57, 58, 59, 60, 61, 62, 63, 64, 65, 66, 67, 68, 69, 70, 71, 72, 73, 74, 75, 76, 77, 78, 79, 80, 81, 82, 83, 84, 85, 86, 87, 88, 89, 90, 91, 92, 93, 94, 95, 96, 97, 98, 99, 100, 101, 102, 103, 104, 105, 106, 107, 108, 109, 110, 111, 112, 113, 114, 115, 116, 117, 118, 119, 120, 121, 122, 123, 124, 125, 126, 127, 128, 129, 130, 131, 132, 133, 134, 135, 136, 137, 138, 139, 140, 141, 142, 143, 144, 145, 146, 147, 148, 149]\n",
            "\n",
            "\n",
            "[ 50 136  52 114  81  94 146  84  96 120 105  13  82  43  36  35  12  48\n",
            "  37   1  74  42 149   6 104  51   0  91 125 101  69  31  14  87  16 126\n",
            "   8 106  20 140 100  44 123 145  59  58  54  93 133  18  65  72  30  29\n",
            " 112  67  62  86 127  41  22  77  76  88   5  11  98 147 121 144  53  19\n",
            "  45  32   7 115  27  34 131  55  21 103  60 143  10 137 116 110  17  26\n",
            "  68  70 134  28 118   4  80  63  15 107  57  75  49 141  61 128 132 148\n",
            " 129 113 102 117 109  79 135  78  47 139 108  92  24  25  66  95  71 130\n",
            "  56 142 138  85  73  64  40  23  46 119   3  89  33 122 111  90   2  97\n",
            " 124  99   9  38  83  39]\n"
          ],
          "name": "stdout"
        }
      ]
    },
    {
      "cell_type": "markdown",
      "metadata": {
        "id": "U9y2wNMxueSz"
      },
      "source": [
        "**Task 7:**\n",
        "Here is an example of using the k-NN classifier. We split our data to training and testing (with a 0.2 percentage for our test data), fit on the training data, test on the testing data. \n",
        "Go through the code and make sure you understand it.\n",
        "Now do the same for the next cell, which prints the confusion matrix and the total accuracy. \n",
        "You can find some documentation to help you here: http://scikit-learn.org/stable/modules/generated/sklearn.neighbors.KNeighborsClassifier.html. \n",
        "Note that for this lab, we use the Euclidean distance along with 10 neighbours.\n"
      ]
    },
    {
      "cell_type": "code",
      "metadata": {
        "colab": {
          "base_uri": "https://localhost:8080/"
        },
        "id": "4uQRHUt0ueSz",
        "outputId": "7f081c53-7973-402b-eb46-6183a8888c20"
      },
      "source": [
        "from sklearn.model_selection import train_test_split\n",
        "from sklearn.neighbors import KNeighborsClassifier\n",
        "\n",
        "#split to train and test\n",
        "X_train, X_test, y_train, y_test = train_test_split(X, y, test_size=0.2)\n",
        "#define knn classifier, with 5 neighbors and use the euclidian distance\n",
        "knn=KNeighborsClassifier(n_neighbors=10, metric='euclidean')\n",
        "#define training and testing data, fit the classifier\n",
        "knn.fit(X_train,y_train)\n",
        "#predict values for test data based on training data\n",
        "y_pred=knn.predict(X_test)\n",
        "#print values\n",
        "print(y_test) # true values\n",
        "print(y_pred) # predicted values\n"
      ],
      "execution_count": 15,
      "outputs": [
        {
          "output_type": "stream",
          "text": [
            "[0 2 2 0 2 0 0 1 0 0 2 1 2 0 2 0 0 2 0 0 0 2 2 1 0 0 0 1 1 1]\n",
            "[0 2 2 0 2 0 0 1 0 0 2 1 2 0 2 0 0 1 0 0 0 2 2 1 0 0 0 2 1 1]\n"
          ],
          "name": "stdout"
        }
      ]
    },
    {
      "cell_type": "code",
      "metadata": {
        "colab": {
          "base_uri": "https://localhost:8080/"
        },
        "id": "hfEKXqFjueSz",
        "outputId": "66d2d026-da79-4064-e430-3d248489ff53"
      },
      "source": [
        "from sklearn.metrics import confusion_matrix\n",
        "from sklearn.metrics import classification_report\n",
        "from sklearn.metrics import accuracy_score\n",
        "print(confusion_matrix(y_test,y_pred))\n",
        "print(accuracy_score(y_test,y_pred))\n"
      ],
      "execution_count": 16,
      "outputs": [
        {
          "output_type": "stream",
          "text": [
            "[[15  0  0]\n",
            " [ 0  5  1]\n",
            " [ 0  1  8]]\n",
            "0.9333333333333333\n"
          ],
          "name": "stdout"
        }
      ]
    },
    {
      "cell_type": "markdown",
      "metadata": {
        "id": "FygTHKrzueSz"
      },
      "source": [
        "**Task 8:**\n",
        "Write your <b>own</b> functions that return the confusion matrix given the true and predicted labels, as well as the accuracy. To do so, fill in the code in the next two cells. \n"
      ]
    },
    {
      "cell_type": "code",
      "metadata": {
        "colab": {
          "base_uri": "https://localhost:8080/"
        },
        "id": "bSPixwo_ueSz",
        "outputId": "fa98473c-ba7d-46f5-f139-d51447826429"
      },
      "source": [
        "\n",
        "#create a matrix with entries equal to zero, and subsequently build the confusion matrix\n",
        "#the method should return the confusion matrix in a numpy array\n",
        "def myConfMat(y_ground,y_pred,classno):\n",
        "\n",
        "  C = np.zeros((classno, classno), dtype=np.int)\n",
        "  for i in range(0, len(y_test)):\n",
        "    C[y_ground[i], y_pred[i]] += 1\n",
        "    return C\n",
        "\n",
        "#note: len(np.unique(y))  indicates the dimensions of the confusion matrix (why?)\n",
        "print(myConfMat(y_test,y_pred, len(np.unique(y))))\n",
        "\n"
      ],
      "execution_count": 25,
      "outputs": [
        {
          "output_type": "stream",
          "text": [
            "[[1 0 0]\n",
            " [0 0 0]\n",
            " [0 0 0]]\n"
          ],
          "name": "stdout"
        }
      ]
    },
    {
      "cell_type": "code",
      "metadata": {
        "colab": {
          "base_uri": "https://localhost:8080/"
        },
        "id": "3vPCZxpvueS0",
        "outputId": "5264d5a9-9df1-41f5-8933-6484fcecde53"
      },
      "source": [
        "# model answers\n",
        "\n",
        "#use the numpy function where to return the accuracy given the true/predicted labels.  i.e., #correct/#total\n",
        "def myAccuracy(y_ground,y_pred):\n",
        "\n",
        "  correct = np.where(y_ground==y_pred, 1, 0)\n",
        "  total = len(y_ground)\n",
        "  return sum(correct)/total\n",
        "    \n",
        "    \n",
        "print('accuracy: %.2f' % myAccuracy(y_test,y_pred))\n",
        "\n"
      ],
      "execution_count": 26,
      "outputs": [
        {
          "output_type": "stream",
          "text": [
            "accuracy: 0.93\n"
          ],
          "name": "stdout"
        }
      ]
    },
    {
      "cell_type": "markdown",
      "metadata": {
        "id": "3kaQprpcueS0"
      },
      "source": [
        "**Optional task:**</span> Write your own functions to calculate class-relative precision and recall. Compare these to the sklearn functions ``precision_score`` and ``recall_score`` on your y_test and y_pred values."
      ]
    },
    {
      "cell_type": "code",
      "metadata": {
        "colab": {
          "base_uri": "https://localhost:8080/"
        },
        "id": "4TMHCKPsueS0",
        "outputId": "a046dd90-9507-4c53-85e4-84d627672fe8"
      },
      "source": [
        "#hint: you can use the output from your myConfMat function above\n",
        "\n",
        "def myPrecision(y_ground,y_pred):\n",
        "  classes = np.unique(y_ground)\n",
        "  precision = np.zeros(classes.shape) \n",
        "\n",
        "  C = myConfMat(y_test, y_pred, len(classes))\n",
        "\n",
        "  for i in classes:\n",
        "    precision[i] = C[i,i] / sum(C[:, i])\n",
        "\n",
        "  return precision\n",
        "            \n",
        "def myRecall(y_test,y_pred):\n",
        "\n",
        "  classes = np.unique(y_pred)\n",
        "  recall = np.zeros(classes.shape) \n",
        "\n",
        "  C = myConfMat(y_test, y_pred, len(classes))\n",
        "\n",
        "  for i in classes:\n",
        "    recall[i] = C[i,i] / sum(C[i,:])\n",
        "    return recall\n",
        "\n",
        "print('classes:      %s' % np.unique(y_pred) )    \n",
        "print('my precision: %s' % myPrecision(y_test,y_pred))\n",
        "print('my recall:    %s' % myRecall(y_test,y_pred))\n"
      ],
      "execution_count": 27,
      "outputs": [
        {
          "output_type": "stream",
          "text": [
            "classes:      [0 1 2]\n",
            "my precision: [ 1. nan nan]\n",
            "my recall:    [1. 0. 0.]\n"
          ],
          "name": "stdout"
        },
        {
          "output_type": "stream",
          "text": [
            "/usr/local/lib/python3.7/dist-packages/ipykernel_launcher.py:10: RuntimeWarning: invalid value encountered in long_scalars\n",
            "  # Remove the CWD from sys.path while we load stuff.\n"
          ],
          "name": "stderr"
        }
      ]
    },
    {
      "cell_type": "code",
      "metadata": {
        "colab": {
          "base_uri": "https://localhost:8080/"
        },
        "id": "pIKXwsDtueS0",
        "outputId": "54eb0bfe-6549-4405-c114-6120e1ca8c6c"
      },
      "source": [
        "from sklearn.metrics import precision_score, recall_score \n",
        "# check that your functions do the same thing as the library versions\n",
        "\n",
        "print('library precision: %s' % precision_score(y_test,y_pred,average=None))\n",
        "print('library recall: %s' % recall_score(y_test,y_pred,average=None))\n",
        "\n"
      ],
      "execution_count": 23,
      "outputs": [
        {
          "output_type": "stream",
          "text": [
            "library precision: [1.         0.83333333 0.88888889]\n",
            "library recall: [1.         0.83333333 0.88888889]\n"
          ],
          "name": "stdout"
        }
      ]
    },
    {
      "cell_type": "code",
      "metadata": {
        "id": "u6kpfF4az3o8"
      },
      "source": [
        ""
      ],
      "execution_count": null,
      "outputs": []
    }
  ]
}