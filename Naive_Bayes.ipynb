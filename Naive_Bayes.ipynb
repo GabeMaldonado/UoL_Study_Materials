{
  "nbformat": 4,
  "nbformat_minor": 0,
  "metadata": {
    "kernelspec": {
      "display_name": "Python 3",
      "language": "python",
      "name": "python3"
    },
    "language_info": {
      "codemirror_mode": {
        "name": "ipython",
        "version": 3
      },
      "file_extension": ".py",
      "mimetype": "text/x-python",
      "name": "python",
      "nbconvert_exporter": "python",
      "pygments_lexer": "ipython3",
      "version": "3.7.1"
    },
    "colab": {
      "name": "Naive Bayes.ipynb",
      "provenance": [],
      "include_colab_link": true
    }
  },
  "cells": [
    {
      "cell_type": "markdown",
      "metadata": {
        "id": "view-in-github",
        "colab_type": "text"
      },
      "source": [
        "<a href=\"https://colab.research.google.com/github/GabeMaldonado/UoL_Study_Materials/blob/main/Naive_Bayes.ipynb\" target=\"_parent\"><img src=\"https://colab.research.google.com/assets/colab-badge.svg\" alt=\"Open In Colab\"/></a>"
      ]
    },
    {
      "cell_type": "markdown",
      "metadata": {
        "id": "6mUhxGtlU7he"
      },
      "source": [
        "# Naive Bayes\n",
        "## Instructions:\n",
        "* Go through the notebook and complete the tasks. \n",
        "* Make sure you understand the examples given. If you need help, refer to the Essential readings or the documentation link provided, or go to the Topic 9 discussion forum. \n",
        "* Save your notebooks when you are done.\n",
        " \n",
        "**Task 1:**\n",
        "Run the code below in order to understand how to use Naive Bayes classification under sklearn. Then follow the exercise at the bottom of the notebook."
      ]
    },
    {
      "cell_type": "code",
      "metadata": {
        "colab": {
          "base_uri": "https://localhost:8080/"
        },
        "id": "yDqLhCw7U7hn",
        "outputId": "8947d348-cd31-42e7-ad08-2b33cb4029bb"
      },
      "source": [
        "%matplotlib inline\n",
        "\n",
        "from sklearn import datasets, naive_bayes\n",
        "import numpy as np\n",
        "\n",
        "np.random.seed(1345)\n",
        "\n",
        "# Load the wine dataset (description here http://scikit-learn.org/stable/datasets/index.html#diabetes-dataset)\n",
        "wine = datasets.load_wine()\n",
        "data = wine.data.copy()\n",
        "target = wine.target.copy()\n",
        "\n",
        "wine\n",
        "\n",
        "\n"
      ],
      "execution_count": 1,
      "outputs": [
        {
          "output_type": "execute_result",
          "data": {
            "text/plain": [
              "{'DESCR': '.. _wine_dataset:\\n\\nWine recognition dataset\\n------------------------\\n\\n**Data Set Characteristics:**\\n\\n    :Number of Instances: 178 (50 in each of three classes)\\n    :Number of Attributes: 13 numeric, predictive attributes and the class\\n    :Attribute Information:\\n \\t\\t- Alcohol\\n \\t\\t- Malic acid\\n \\t\\t- Ash\\n\\t\\t- Alcalinity of ash  \\n \\t\\t- Magnesium\\n\\t\\t- Total phenols\\n \\t\\t- Flavanoids\\n \\t\\t- Nonflavanoid phenols\\n \\t\\t- Proanthocyanins\\n\\t\\t- Color intensity\\n \\t\\t- Hue\\n \\t\\t- OD280/OD315 of diluted wines\\n \\t\\t- Proline\\n\\n    - class:\\n            - class_0\\n            - class_1\\n            - class_2\\n\\t\\t\\n    :Summary Statistics:\\n    \\n    ============================= ==== ===== ======= =====\\n                                   Min   Max   Mean     SD\\n    ============================= ==== ===== ======= =====\\n    Alcohol:                      11.0  14.8    13.0   0.8\\n    Malic Acid:                   0.74  5.80    2.34  1.12\\n    Ash:                          1.36  3.23    2.36  0.27\\n    Alcalinity of Ash:            10.6  30.0    19.5   3.3\\n    Magnesium:                    70.0 162.0    99.7  14.3\\n    Total Phenols:                0.98  3.88    2.29  0.63\\n    Flavanoids:                   0.34  5.08    2.03  1.00\\n    Nonflavanoid Phenols:         0.13  0.66    0.36  0.12\\n    Proanthocyanins:              0.41  3.58    1.59  0.57\\n    Colour Intensity:              1.3  13.0     5.1   2.3\\n    Hue:                          0.48  1.71    0.96  0.23\\n    OD280/OD315 of diluted wines: 1.27  4.00    2.61  0.71\\n    Proline:                       278  1680     746   315\\n    ============================= ==== ===== ======= =====\\n\\n    :Missing Attribute Values: None\\n    :Class Distribution: class_0 (59), class_1 (71), class_2 (48)\\n    :Creator: R.A. Fisher\\n    :Donor: Michael Marshall (MARSHALL%PLU@io.arc.nasa.gov)\\n    :Date: July, 1988\\n\\nThis is a copy of UCI ML Wine recognition datasets.\\nhttps://archive.ics.uci.edu/ml/machine-learning-databases/wine/wine.data\\n\\nThe data is the results of a chemical analysis of wines grown in the same\\nregion in Italy by three different cultivators. There are thirteen different\\nmeasurements taken for different constituents found in the three types of\\nwine.\\n\\nOriginal Owners: \\n\\nForina, M. et al, PARVUS - \\nAn Extendible Package for Data Exploration, Classification and Correlation. \\nInstitute of Pharmaceutical and Food Analysis and Technologies,\\nVia Brigata Salerno, 16147 Genoa, Italy.\\n\\nCitation:\\n\\nLichman, M. (2013). UCI Machine Learning Repository\\n[https://archive.ics.uci.edu/ml]. Irvine, CA: University of California,\\nSchool of Information and Computer Science. \\n\\n.. topic:: References\\n\\n  (1) S. Aeberhard, D. Coomans and O. de Vel, \\n  Comparison of Classifiers in High Dimensional Settings, \\n  Tech. Rep. no. 92-02, (1992), Dept. of Computer Science and Dept. of  \\n  Mathematics and Statistics, James Cook University of North Queensland. \\n  (Also submitted to Technometrics). \\n\\n  The data was used with many others for comparing various \\n  classifiers. The classes are separable, though only RDA \\n  has achieved 100% correct classification. \\n  (RDA : 100%, QDA 99.4%, LDA 98.9%, 1NN 96.1% (z-transformed data)) \\n  (All results using the leave-one-out technique) \\n\\n  (2) S. Aeberhard, D. Coomans and O. de Vel, \\n  \"THE CLASSIFICATION PERFORMANCE OF RDA\" \\n  Tech. Rep. no. 92-01, (1992), Dept. of Computer Science and Dept. of \\n  Mathematics and Statistics, James Cook University of North Queensland. \\n  (Also submitted to Journal of Chemometrics).\\n',\n",
              " 'data': array([[1.423e+01, 1.710e+00, 2.430e+00, ..., 1.040e+00, 3.920e+00,\n",
              "         1.065e+03],\n",
              "        [1.320e+01, 1.780e+00, 2.140e+00, ..., 1.050e+00, 3.400e+00,\n",
              "         1.050e+03],\n",
              "        [1.316e+01, 2.360e+00, 2.670e+00, ..., 1.030e+00, 3.170e+00,\n",
              "         1.185e+03],\n",
              "        ...,\n",
              "        [1.327e+01, 4.280e+00, 2.260e+00, ..., 5.900e-01, 1.560e+00,\n",
              "         8.350e+02],\n",
              "        [1.317e+01, 2.590e+00, 2.370e+00, ..., 6.000e-01, 1.620e+00,\n",
              "         8.400e+02],\n",
              "        [1.413e+01, 4.100e+00, 2.740e+00, ..., 6.100e-01, 1.600e+00,\n",
              "         5.600e+02]]),\n",
              " 'feature_names': ['alcohol',\n",
              "  'malic_acid',\n",
              "  'ash',\n",
              "  'alcalinity_of_ash',\n",
              "  'magnesium',\n",
              "  'total_phenols',\n",
              "  'flavanoids',\n",
              "  'nonflavanoid_phenols',\n",
              "  'proanthocyanins',\n",
              "  'color_intensity',\n",
              "  'hue',\n",
              "  'od280/od315_of_diluted_wines',\n",
              "  'proline'],\n",
              " 'target': array([0, 0, 0, 0, 0, 0, 0, 0, 0, 0, 0, 0, 0, 0, 0, 0, 0, 0, 0, 0, 0, 0,\n",
              "        0, 0, 0, 0, 0, 0, 0, 0, 0, 0, 0, 0, 0, 0, 0, 0, 0, 0, 0, 0, 0, 0,\n",
              "        0, 0, 0, 0, 0, 0, 0, 0, 0, 0, 0, 0, 0, 0, 0, 1, 1, 1, 1, 1, 1, 1,\n",
              "        1, 1, 1, 1, 1, 1, 1, 1, 1, 1, 1, 1, 1, 1, 1, 1, 1, 1, 1, 1, 1, 1,\n",
              "        1, 1, 1, 1, 1, 1, 1, 1, 1, 1, 1, 1, 1, 1, 1, 1, 1, 1, 1, 1, 1, 1,\n",
              "        1, 1, 1, 1, 1, 1, 1, 1, 1, 1, 1, 1, 1, 1, 1, 1, 1, 1, 1, 1, 2, 2,\n",
              "        2, 2, 2, 2, 2, 2, 2, 2, 2, 2, 2, 2, 2, 2, 2, 2, 2, 2, 2, 2, 2, 2,\n",
              "        2, 2, 2, 2, 2, 2, 2, 2, 2, 2, 2, 2, 2, 2, 2, 2, 2, 2, 2, 2, 2, 2,\n",
              "        2, 2]),\n",
              " 'target_names': array(['class_0', 'class_1', 'class_2'], dtype='<U7')}"
            ]
          },
          "metadata": {},
          "execution_count": 1
        }
      ]
    },
    {
      "cell_type": "code",
      "metadata": {
        "colab": {
          "base_uri": "https://localhost:8080/"
        },
        "id": "3EXxgnRoWKCV",
        "outputId": "ee462784-40ae-4114-95df-6a7a5d76de4a"
      },
      "source": [
        "# Split the data into training/testing sets\n",
        "total_samples = wine.target.shape[0]\n",
        "exclude = round(total_samples/3)\n",
        "indices = np.arange(0,total_samples)\n",
        "np.random.shuffle(indices)\n",
        "\n",
        "idx_train = indices[:-exclude]\n",
        "idx_test = indices[-exclude:]\n",
        "\n",
        "assert not np.intersect1d( idx_test, idx_train ).size\n",
        "\n",
        "X_train = data[idx_train]\n",
        "X_test = data[idx_test]\n",
        "\n",
        "# Split the targets into training/testing sets\n",
        "y_train = target[idx_train]\n",
        "y_test = target[idx_test]\n",
        "\n",
        "print(y_test)"
      ],
      "execution_count": 2,
      "outputs": [
        {
          "output_type": "stream",
          "text": [
            "[0 1 2 2 2 0 0 0 1 2 1 0 1 1 1 0 1 1 0 1 0 2 0 1 2 2 2 2 0 0 2 2 1 1 0 1 1\n",
            " 1 2 1 0 2 1 0 2 1 0 1 1 1 0 1 1 0 1 0 2 1 2]\n"
          ],
          "name": "stdout"
        }
      ]
    },
    {
      "cell_type": "markdown",
      "metadata": {
        "collapsed": true,
        "id": "mtxdIteTU7hr"
      },
      "source": [
        "### Naive Bayes with scikit-learn\n",
        "Go through the code below and then run the cell to perform Naive Bayes with scikit-learn"
      ]
    },
    {
      "cell_type": "code",
      "metadata": {
        "colab": {
          "base_uri": "https://localhost:8080/",
          "height": 384
        },
        "id": "LYgiswPqU7hr",
        "outputId": "3e7e9233-d9c5-4c1e-e676-dee5630b10cc"
      },
      "source": [
        "import matplotlib.pyplot as plt\n",
        "import sklearn.metrics as metrics\n",
        "\n",
        "# create a naive Bayes model with Gaussian observations\n",
        "nb = naive_bayes.GaussianNB()\n",
        "# Train using training set\n",
        "nb.fit(X_train, y_train)\n",
        "\n",
        "# Predict using test set\n",
        "y_pred = nb.predict(X_test)\n",
        "\n",
        "# Plot outputs\n",
        "plt.plot(y_test-0.1,'g*')\n",
        "plt.plot(y_pred,'b.')\n",
        "plt.show()\n",
        "\n",
        "# evaluation\n",
        "print(metrics.confusion_matrix(y_test, y_pred))\n",
        "print(\"accuracy: %.2f\" % metrics.accuracy_score(y_test, y_pred))\n",
        "\n",
        "# calculate precision and recall (and f-score, a weighted average of precision and recall) \n",
        "precision,recall,fscore,_ = metrics.precision_recall_fscore_support(y_test,y_pred )\n",
        "for c in np.unique(y_test):\n",
        "        print(\"class %s, precision: %.2f, recall: %.2f,  f-score: %.2f\" % (c, precision[c], recall[c], fscore[c]))\n",
        "\n"
      ],
      "execution_count": 3,
      "outputs": [
        {
          "output_type": "display_data",
          "data": {
            "image/png": "[encoded data removed]",
            "text/plain": [
              "<Figure size 432x288 with 1 Axes>"
            ]
          },
          "metadata": {
            "needs_background": "light"
          }
        },
        {
          "output_type": "stream",
          "text": [
            "[[16  2  0]\n",
            " [ 0 24  1]\n",
            " [ 0  0 16]]\n",
            "accuracy: 0.95\n",
            "class 0, precision: 1.00, recall: 0.89,  f-score: 0.94\n",
            "class 1, precision: 0.92, recall: 0.96,  f-score: 0.94\n",
            "class 2, precision: 0.94, recall: 1.00,  f-score: 0.97\n"
          ],
          "name": "stdout"
        }
      ]
    },
    {
      "cell_type": "markdown",
      "metadata": {
        "id": "tvbtsKgJU7hs"
      },
      "source": [
        "\n"
      ]
    },
    {
      "cell_type": "markdown",
      "metadata": {
        "id": "n53swNCPU7hs"
      },
      "source": [
        "### Naive Bayes using objects\n",
        "\n",
        "Try running the following Naive Bayes binary classifier as an OO object. Have a look at how the class structure of myGaussianNB works. Refer to the python documentation on 'class'.\n"
      ]
    },
    {
      "cell_type": "code",
      "metadata": {
        "scrolled": true,
        "colab": {
          "base_uri": "https://localhost:8080/"
        },
        "id": "2cL4b2WJU7hs",
        "outputId": "67f257e9-6f87-4688-cc74-7f2d687853a8"
      },
      "source": [
        "class myGaussianNB:\n",
        "    def __init__(self):\n",
        "        # initialise the object\n",
        "        self.nb = naive_bayes.GaussianNB()\n",
        "        \n",
        "    def fit(self, X_train, y_train):\n",
        "        self.nb.fit(X_train, y_train)\n",
        "    \n",
        "    def predict(self, X_test):\n",
        "        return self.nb.predict(X_test)\n",
        "        \n",
        "# evaluate as a binary classifier (i.e. only consider class 0 vs. rest from the above)\n",
        "target_binary = np.zeros( target.shape )\n",
        "target_binary[target==0] = 1 \n",
        "y_train_bin = target_binary[idx_train]\n",
        "y_test_bin = target_binary[idx_test]\n",
        "\n",
        "myNB = myGaussianNB()\n",
        "\n",
        "myNB.fit(X_train, y_train_bin)\n",
        "y_pred_bin = myNB.predict(X_test)\n",
        "\n",
        "# now do the evaluation\n",
        "print(metrics.confusion_matrix(y_test_bin, y_pred_bin))\n",
        "print(\"accuracy: %.2f\" % metrics.accuracy_score(y_test, y_pred))\n",
        "\n"
      ],
      "execution_count": 4,
      "outputs": [
        {
          "output_type": "stream",
          "text": [
            "[[40  1]\n",
            " [ 2 16]]\n",
            "accuracy: 0.95\n"
          ],
          "name": "stdout"
        }
      ]
    },
    {
      "cell_type": "markdown",
      "metadata": {
        "id": "TbJektUnU7ht"
      },
      "source": [
        "**Task 2:**\n",
        "Now try to implement the above code for the myGaussianNB class, but instead of using sklearn's naive_bayes.GaussianNB(), fill in the gaps below to implement your own version using Bayes theorem. Your classifier should return the same results as above. \n",
        "\n"
      ]
    },
    {
      "cell_type": "code",
      "metadata": {
        "colab": {
          "base_uri": "https://localhost:8080/"
        },
        "id": "0nSc9XBnU7ht",
        "outputId": "cb37c479-cf40-40da-92f0-f0d52d360962"
      },
      "source": [
        "import math\n",
        "import scipy.stats as stats\n",
        "\n",
        "class myGaussianNB:\n",
        "    \n",
        "    def __init__(self):\n",
        "        # initialise the attributes of this class\n",
        "        self.classes = []\n",
        "        self.numObservaations = 0\n",
        "\n",
        "        self.class_prior = dict()\n",
        "        self.class_mean = dict()\n",
        "        self.class_std = dict()\n",
        "        self.class_likelihood = dict()\n",
        "        self.posteriors = []\n",
        "        self.predictions = []\n",
        "\n",
        "    def fit(self, X_train, y_train):\n",
        "        self.classes = np.unique( y_train.astype(int) )\n",
        "        self.numObservations = X_train.shape[1] \n",
        "        total = len(y_train)\n",
        "        # train your model for each class\n",
        "        for c in self.classes:\n",
        "            # 1. calculate your prior ( P(Class) )\n",
        "            self.class_prior[c] = np.sum( y_train==c ) / total\n",
        "            # 2. train a Gaussian model of the likelihood P( Obs | Class )\n",
        "            #   hint: calculate the mean and standard deviation of your classes\n",
        "            self.class_mean[c] = X_train[ y_train==c ].mean(0)\n",
        "            self.class_std[c] = X_train[ y_train==c ].std(0)\n",
        "            \n",
        "                        \n",
        "    def predict(self, X_test):\n",
        "        #1. evaluate (log) likelihoods of test data for each class \n",
        "        for c in self.classes:\n",
        "            \n",
        "            # there will be multiple gaussians that need to be combined using the naive assumption\n",
        "            likelihood = 1\n",
        "            for obs in np.arange(0,self.numObservations).astype(int):\n",
        "                likelihood = likelihood * stats.norm.pdf(X_test[:,obs], self.class_mean[c][obs], self.class_std[c][obs]) \n",
        "                #likelihood = likelihood * stats.norm.pdf(X_test[:,obs], self.class_mean[c][obs], self.class_std[c][obs]) \n",
        "            self.class_likelihood[c] = likelihood\n",
        "                      \n",
        "            #2. approximate the posterior using P(X|Y)P(Y)\n",
        "            self.posteriors.append( self.class_prior[c] * self.class_likelihood[c] )\n",
        "        \n",
        "        #3. take the maximum posterior probability as our final class\n",
        "        self.predictions = np.argmax( self.posteriors,0 )\n",
        "        \n",
        "        return self.predictions\n",
        "        \n",
        "     #self.nb.predict(X_test)\n",
        "    \n",
        "myNB = myGaussianNB()\n",
        "\n",
        "myNB.fit(X_train, y_train_bin)\n",
        "\n",
        "y_pred_bin = myNB.predict(X_test)\n",
        "\n",
        "# now do the evaluation\n",
        "print(metrics.confusion_matrix(y_test_bin, y_pred_bin))\n",
        "print(\"accuracy: %.2f\" % metrics.accuracy_score(y_test, y_pred))\n"
      ],
      "execution_count": 7,
      "outputs": [
        {
          "output_type": "stream",
          "text": [
            "[[40  1]\n",
            " [ 2 16]]\n",
            "accuracy: 0.95\n"
          ],
          "name": "stdout"
        }
      ]
    },
    {
      "cell_type": "code",
      "metadata": {
        "id": "BLSLVMrxU7ht"
      },
      "source": [
        ""
      ],
      "execution_count": null,
      "outputs": []
    }
  ]
}