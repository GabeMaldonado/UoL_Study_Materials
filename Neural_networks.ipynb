{
  "nbformat": 4,
  "nbformat_minor": 0,
  "metadata": {
    "kernelspec": {
      "display_name": "Python 3",
      "language": "python",
      "name": "python3"
    },
    "language_info": {
      "codemirror_mode": {
        "name": "ipython",
        "version": 3
      },
      "file_extension": ".py",
      "mimetype": "text/x-python",
      "name": "python",
      "nbconvert_exporter": "python",
      "pygments_lexer": "ipython3",
      "version": "3.7.3"
    },
    "colab": {
      "name": "Neural networks.ipynb",
      "provenance": [],
      "collapsed_sections": [],
      "include_colab_link": true
    }
  },
  "cells": [
    {
      "cell_type": "markdown",
      "metadata": {
        "id": "view-in-github",
        "colab_type": "text"
      },
      "source": [
        "<a href=\"https://colab.research.google.com/github/GabeMaldonado/UoL_Study_Materials/blob/main/Neural_networks.ipynb\" target=\"_parent\"><img src=\"https://colab.research.google.com/assets/colab-badge.svg\" alt=\"Open In Colab\"/></a>"
      ]
    },
    {
      "cell_type": "markdown",
      "metadata": {
        "id": "26S3pAd66ldZ"
      },
      "source": [
        "# Neural networks\n",
        "## Instructions:\n",
        "* Go through the notebook and complete the tasks.\n",
        "* Make sure you understand the examples given. If you need any help, refer to the documentation links provided or go to the Topic 7 discussion forum. \n",
        "* When a question allows a free-form answer (e.g. what do you observe?), create a new markdown cell below and answer the question in the notebook. \n",
        "* Save your notebooks when you are done.\n",
        "\n",
        "Before you start on the tasks below, go through the information in the following links:\n",
        "* <a href=\"http://scikit-learn.org/stable/modules/generated/sklearn.neural_network.MLPClassifier.html\">scikit-learn ‘Multilayer perceptron classifier’</a>\n",
        "* <a href=\"http://scikit-learn.org/stable/modules/neural_networks_supervised.html\">scikit-learn ‘Neural network models (supervised)’</a> \n",
        "\n",
        "**Task 1:**\n",
        "In the cell below, you can see code that implements a perceptron network (with a single node in the hidden layer). The data given to the network relates to the XOR problem: there are 2D inputs that can either be 0 or 1. We obtain a 1 answer only when the inputs are different, i.e. when one input is 0 and one is 1. Run and go through the code.\n"
      ]
    },
    {
      "cell_type": "code",
      "metadata": {
        "colab": {
          "base_uri": "https://localhost:8080/"
        },
        "id": "YXoKxuA_6ldb",
        "outputId": "eb77487e-84e0-478f-c6b9-7de1d45776c9"
      },
      "source": [
        "from sklearn.neural_network import MLPClassifier\n",
        "from sklearn.metrics import accuracy_score\n",
        "X=[ [0., 0.], [1., 1.], [0., 1.], [1.,0.]]*1000\n",
        "y=[0,0,1,1]*1000\n",
        "\n",
        "clf = MLPClassifier(solver='lbfgs', alpha=1e-5,hidden_layer_sizes=(1), random_state=1,activation='identity',max_iter=2000,  tol=1e-5,validation_fraction=0)\n",
        "                   \n",
        "clf.fit(X, y)\n",
        "ypred=clf.predict(X)\n",
        "accuracy_score(y, ypred)\n"
      ],
      "execution_count": 1,
      "outputs": [
        {
          "output_type": "execute_result",
          "data": {
            "text/plain": [
              "0.5"
            ]
          },
          "metadata": {
            "tags": []
          },
          "execution_count": 1
        }
      ]
    },
    {
      "cell_type": "markdown",
      "metadata": {
        "id": "sk9eClIV6ldc"
      },
      "source": [
        "**Task 2:**\n",
        "What would you say regarding the performance of the network above? How would you justify the results?\n"
      ]
    },
    {
      "cell_type": "code",
      "metadata": {
        "id": "FsiLX6fk6ldc"
      },
      "source": [
        "# write answer as comments here \n",
        "# the problem is not linear and it cannot be solved using a single layer perceptron\n",
        "#\n",
        "# Also the accuracy is 50% which is no better than a random guess"
      ],
      "execution_count": null,
      "outputs": []
    },
    {
      "cell_type": "markdown",
      "metadata": {
        "id": "oHNqsLe86ldc"
      },
      "source": [
        "**Task 3:**\n",
        "What would be the most minimal changes you could make in order to obtain 100% accuracy on this problem?\n"
      ]
    },
    {
      "cell_type": "code",
      "metadata": {
        "id": "FEJT_Uss6ldc"
      },
      "source": [
        "# code here\n",
        "# we can try adding more hidden layers and changing the activation function"
      ],
      "execution_count": 2,
      "outputs": []
    },
    {
      "cell_type": "code",
      "metadata": {
        "colab": {
          "base_uri": "https://localhost:8080/"
        },
        "id": "fYzYWBhTBYn9",
        "outputId": "f2685857-3163-4e21-d41c-4bb5fc364f26"
      },
      "source": [
        "from sklearn.neural_network import MLPClassifier\n",
        "from sklearn.metrics import accuracy_score\n",
        "X=[ [0., 0.], [1., 1.], [0., 1.], [1.,0.]]*1000\n",
        "y=[0,0,1,1]*1000\n",
        "\n",
        "clf = MLPClassifier(solver='lbfgs', alpha=1e-5,hidden_layer_sizes=(2), random_state=1,activation='tanh',max_iter=2000,  tol=1e-5,validation_fraction=0)\n",
        "                   \n",
        "clf.fit(X, y)\n",
        "ypred=clf.predict(X)\n",
        "accuracy_score(y, ypred)\n"
      ],
      "execution_count": 4,
      "outputs": [
        {
          "output_type": "execute_result",
          "data": {
            "text/plain": [
              "1.0"
            ]
          },
          "metadata": {
            "tags": []
          },
          "execution_count": 4
        }
      ]
    },
    {
      "cell_type": "markdown",
      "metadata": {
        "id": "ggPPh9lr6ldd"
      },
      "source": [
        "**Task 4:**\n",
        "The MNIST dataset is one of the most well-known datasets that is used for machine learning tasks. It contains a set of handwritten digit images with accompanying labels.\n",
        "In the cell below, you are given the code that loads the MNIST dataset and splits data into training and testing.\n",
        "Your task is to create a multilayer perceptron classifier that performs well on MNIST (you should expect a score over 95% on the test data). Do this by completing the code in the cell below, reporting the accuracy and confusion matrix on both testing and training data.\n"
      ]
    },
    {
      "cell_type": "code",
      "metadata": {
        "id": "wEl-Amqb6ldd"
      },
      "source": [
        "import matplotlib.pyplot as plt\n",
        "from sklearn.datasets import fetch_openml\n",
        "\n",
        "mnist = fetch_openml('mnist_784') \n",
        "\n",
        "#  rescale between 0 and 1\n",
        "X, y = mnist.data / 255., mnist.target\n",
        "# train/ test split\n",
        "X_train, X_test = X[:60000], X[60000:]\n",
        "y_train, y_test = y[:60000], y[60000:]\n"
      ],
      "execution_count": 5,
      "outputs": []
    },
    {
      "cell_type": "code",
      "metadata": {
        "colab": {
          "base_uri": "https://localhost:8080/"
        },
        "id": "3KLRouLLD7KD",
        "outputId": "8ddd3b4f-efd4-42d7-d959-91f9d1755983"
      },
      "source": [
        "# create, train mlp model\n",
        "\n",
        "mlp = MLPClassifier(hidden_layer_sizes=(50,),\n",
        "                    max_iter=10, alpha=1e-4,\n",
        "                    solver='sgd', verbose=10, tol=1e-4,\n",
        "                    random_state=1, learning_rate_init=.1)\n",
        "\n",
        "mlp.fit(X_train, y_train)\n",
        "print(f\"Training set accuracy {mlp.score(X_train, y_train)}\")\n",
        "print(f\"Test set accuracy: {mlp.score(X_test, y_test)}\")"
      ],
      "execution_count": 13,
      "outputs": [
        {
          "output_type": "stream",
          "text": [
            "Iteration 1, loss = 0.32009978\n",
            "Iteration 2, loss = 0.15347534\n",
            "Iteration 3, loss = 0.11544755\n",
            "Iteration 4, loss = 0.09279764\n",
            "Iteration 5, loss = 0.07889367\n",
            "Iteration 6, loss = 0.07170497\n",
            "Iteration 7, loss = 0.06282111\n",
            "Iteration 8, loss = 0.05530788\n",
            "Iteration 9, loss = 0.04960484\n",
            "Iteration 10, loss = 0.04645355\n"
          ],
          "name": "stdout"
        },
        {
          "output_type": "stream",
          "text": [
            "/usr/local/lib/python3.7/dist-packages/sklearn/neural_network/_multilayer_perceptron.py:571: ConvergenceWarning: Stochastic Optimizer: Maximum iterations (10) reached and the optimization hasn't converged yet.\n",
            "  % self.max_iter, ConvergenceWarning)\n"
          ],
          "name": "stderr"
        },
        {
          "output_type": "stream",
          "text": [
            "Training set accuracy 0.9868\n",
            "Test set accuracy: 0.97\n"
          ],
          "name": "stdout"
        }
      ]
    },
    {
      "cell_type": "code",
      "metadata": {
        "id": "ZfT27dBP6ldd"
      },
      "source": [
        "import tensorflow as tf\n",
        "def train_mnist_conv():\n",
        " \n",
        "    class myCallback(tf.keras.callbacks.Callback):\n",
        "        def on_epoch_end(self, epoch, logs={}):\n",
        "            if(logs.get('accuracy') > 0.998):\n",
        "                print(\"\\nReached 99.8% accuracy so cancelling training!\")\n",
        "                self.model.stop_training = True\n",
        "\n",
        "    callbacks = myCallback()\n",
        "\n",
        "    \n",
        "    mnist = tf.keras.datasets.mnist\n",
        "    (x_train, y_train),(x_test, y_test) = mnist.load_data()\n",
        "\n",
        "    x_train = x_train.reshape(60000, 28, 28, 1)    \n",
        "    x_train = x_train/ 255.0\n",
        "    x_test = x_test.reshape(10000, 28, 28, 1)    \n",
        "    x_test = x_test/255.0\n",
        "    \n",
        "    \n",
        "    model = tf.keras.models.Sequential([\n",
        "        tf.keras.layers.Conv2D(64, (3,3), activation='relu', input_shape=(28, 28, 1)),\n",
        "        tf.keras.layers.MaxPooling2D(2, 2),\n",
        "        tf.keras.layers.Conv2D(64, (3,3), activation='relu'),\n",
        "        tf.keras.layers.MaxPooling2D(2,2),\n",
        "        tf.keras.layers.Flatten(),\n",
        "        tf.keras.layers.Dense(128, activation='relu'),\n",
        "        tf.keras.layers.Dense(10, activation='softmax')])\n",
        "\n",
        "    model.compile(optimizer='adam',\n",
        "                  loss='sparse_categorical_crossentropy',\n",
        "                  metrics=['accuracy'])\n",
        "    model.summary()\n",
        "    # model fitting\n",
        "    history = model.fit(# YOUR CODE SHOULD START HERE\n",
        "        x_train, y_train, epochs=20, callbacks=[callbacks]\n",
        "              # YOUR CODE SHOULD END HERE\n",
        "    )\n",
        "    # model fitting\n",
        "    classifications = model.predict(x_test)\n",
        "\n",
        "    print(classifications[1])\n",
        "\n",
        "    print(y_test[1])\n",
        "   \n",
        "    return history.epoch, history.history['accuracy'][-1]"
      ],
      "execution_count": 14,
      "outputs": []
    },
    {
      "cell_type": "code",
      "metadata": {
        "colab": {
          "base_uri": "https://localhost:8080/"
        },
        "id": "c-Cql-JYHiqA",
        "outputId": "3630318d-9fcd-4a4e-df77-1857d1cbd23e"
      },
      "source": [
        "_, _ = train_mnist_conv()"
      ],
      "execution_count": 15,
      "outputs": [
        {
          "output_type": "stream",
          "text": [
            "Downloading data from https://storage.googleapis.com/tensorflow/tf-keras-datasets/mnist.npz\n",
            "11493376/11490434 [==============================] - 0s 0us/step\n",
            "Model: \"sequential\"\n",
            "_________________________________________________________________\n",
            "Layer (type)                 Output Shape              Param #   \n",
            "=================================================================\n",
            "conv2d (Conv2D)              (None, 26, 26, 64)        640       \n",
            "_________________________________________________________________\n",
            "max_pooling2d (MaxPooling2D) (None, 13, 13, 64)        0         \n",
            "_________________________________________________________________\n",
            "conv2d_1 (Conv2D)            (None, 11, 11, 64)        36928     \n",
            "_________________________________________________________________\n",
            "max_pooling2d_1 (MaxPooling2 (None, 5, 5, 64)          0         \n",
            "_________________________________________________________________\n",
            "flatten (Flatten)            (None, 1600)              0         \n",
            "_________________________________________________________________\n",
            "dense (Dense)                (None, 128)               204928    \n",
            "_________________________________________________________________\n",
            "dense_1 (Dense)              (None, 10)                1290      \n",
            "=================================================================\n",
            "Total params: 243,786\n",
            "Trainable params: 243,786\n",
            "Non-trainable params: 0\n",
            "_________________________________________________________________\n",
            "Epoch 1/20\n",
            "1875/1875 [==============================] - 91s 48ms/step - loss: 0.1223 - accuracy: 0.9627\n",
            "Epoch 2/20\n",
            "1875/1875 [==============================] - 89s 48ms/step - loss: 0.0413 - accuracy: 0.9871\n",
            "Epoch 3/20\n",
            "1875/1875 [==============================] - 89s 47ms/step - loss: 0.0286 - accuracy: 0.9908\n",
            "Epoch 4/20\n",
            "1875/1875 [==============================] - 89s 47ms/step - loss: 0.0204 - accuracy: 0.9934\n",
            "Epoch 5/20\n",
            "1875/1875 [==============================] - 89s 47ms/step - loss: 0.0144 - accuracy: 0.9950\n",
            "Epoch 6/20\n",
            "1875/1875 [==============================] - 89s 47ms/step - loss: 0.0118 - accuracy: 0.9960\n",
            "Epoch 7/20\n",
            "1875/1875 [==============================] - 89s 47ms/step - loss: 0.0098 - accuracy: 0.9967\n",
            "Epoch 8/20\n",
            "1875/1875 [==============================] - 88s 47ms/step - loss: 0.0082 - accuracy: 0.9973\n",
            "Epoch 9/20\n",
            "1875/1875 [==============================] - 88s 47ms/step - loss: 0.0071 - accuracy: 0.9978\n",
            "Epoch 10/20\n",
            "1875/1875 [==============================] - 88s 47ms/step - loss: 0.0061 - accuracy: 0.9981\n",
            "\n",
            "Reached 99.8% accuracy so cancelling training!\n",
            "[2.2418666e-10 2.7380898e-09 1.0000000e+00 7.4898041e-14 2.1896247e-10\n",
            " 6.2020031e-20 2.0923086e-11 1.1398694e-13 2.6036676e-14 3.6800844e-13]\n",
            "2\n"
          ],
          "name": "stdout"
        }
      ]
    },
    {
      "cell_type": "code",
      "metadata": {
        "id": "JMEDy9WjHonf"
      },
      "source": [
        ""
      ],
      "execution_count": null,
      "outputs": []
    }
  ]
}