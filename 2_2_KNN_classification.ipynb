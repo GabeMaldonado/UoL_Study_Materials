{
  "cells": [
    {
      "cell_type": "markdown",
      "metadata": {
        "id": "view-in-github",
        "colab_type": "text"
      },
      "source": [
        "<a href=\"https://colab.research.google.com/github/GabeMaldonado/UoL_Study_Materials/blob/main/2_2_KNN_classification.ipynb\" target=\"_parent\"><img src=\"https://colab.research.google.com/assets/colab-badge.svg\" alt=\"Open In Colab\"/></a>"
      ]
    },
    {
      "cell_type": "markdown",
      "metadata": {
        "id": "_H4NT2Jd-Uo6"
      },
      "source": [
        "# K-nearest neighbours classification\n",
        "## Instructions:\n",
        "* Go through the notebook and complete the tasks. \n",
        "* Make sure you understand the examples given. If you need help, refer to the Essential readings or the documentation link provided, or go to the Topic 2 discussion forum. \n",
        "* When a question allows a free-form answer (e.g. what do you observe?), create a new markdown cell below and answer the question in the notebook. \n",
        "* Save your notebooks when you are done.\n",
        " \n",
        "**Task 1:**\n",
        "Run the cell below to load our data. Notice the last line, where we add some random Gaussian noise to our data to make the task more challenging (data in real life usually contains some form of noise).\n"
      ]
    },
    {
      "cell_type": "code",
      "execution_count": 1,
      "metadata": {
        "colab": {
          "base_uri": "https://localhost:8080/"
        },
        "id": "_thGi9XX-Uo8",
        "outputId": "36b3953a-ca3c-4ab4-9dda-b419eca9055a"
      },
      "outputs": [
        {
          "output_type": "stream",
          "name": "stdout",
          "text": [
            ".. _iris_dataset:\n",
            "\n",
            "Iris plants dataset\n",
            "--------------------\n",
            "\n",
            "**Data Set Characteristics:**\n",
            "\n",
            "    :Number of Instances: 150 (50 in each of three classes)\n",
            "    :Number of Attributes: 4 numeric, predictive attributes and the class\n",
            "    :Attribute Information:\n",
            "        - sepal length in cm\n",
            "        - sepal width in cm\n",
            "        - petal length in cm\n",
            "        - petal width in cm\n",
            "        - class:\n",
            "                - Iris-Setosa\n",
            "                - Iris-Versicolour\n",
            "                - Iris-Virginica\n",
            "                \n",
            "    :Summary Statistics:\n",
            "\n",
            "    ============== ==== ==== ======= ===== ====================\n",
            "                    Min  Max   Mean    SD   Class Correlation\n",
            "    ============== ==== ==== ======= ===== ====================\n",
            "    sepal length:   4.3  7.9   5.84   0.83    0.7826\n",
            "    sepal width:    2.0  4.4   3.05   0.43   -0.4194\n",
            "    petal length:   1.0  6.9   3.76   1.76    0.9490  (high!)\n",
            "    petal width:    0.1  2.5   1.20   0.76    0.9565  (high!)\n",
            "    ============== ==== ==== ======= ===== ====================\n",
            "\n",
            "    :Missing Attribute Values: None\n",
            "    :Class Distribution: 33.3% for each of 3 classes.\n",
            "    :Creator: R.A. Fisher\n",
            "    :Donor: Michael Marshall (MARSHALL%PLU@io.arc.nasa.gov)\n",
            "    :Date: July, 1988\n",
            "\n",
            "The famous Iris database, first used by Sir R.A. Fisher. The dataset is taken\n",
            "from Fisher's paper. Note that it's the same as in R, but not as in the UCI\n",
            "Machine Learning Repository, which has two wrong data points.\n",
            "\n",
            "This is perhaps the best known database to be found in the\n",
            "pattern recognition literature.  Fisher's paper is a classic in the field and\n",
            "is referenced frequently to this day.  (See Duda & Hart, for example.)  The\n",
            "data set contains 3 classes of 50 instances each, where each class refers to a\n",
            "type of iris plant.  One class is linearly separable from the other 2; the\n",
            "latter are NOT linearly separable from each other.\n",
            "\n",
            ".. topic:: References\n",
            "\n",
            "   - Fisher, R.A. \"The use of multiple measurements in taxonomic problems\"\n",
            "     Annual Eugenics, 7, Part II, 179-188 (1936); also in \"Contributions to\n",
            "     Mathematical Statistics\" (John Wiley, NY, 1950).\n",
            "   - Duda, R.O., & Hart, P.E. (1973) Pattern Classification and Scene Analysis.\n",
            "     (Q327.D83) John Wiley & Sons.  ISBN 0-471-22361-1.  See page 218.\n",
            "   - Dasarathy, B.V. (1980) \"Nosing Around the Neighborhood: A New System\n",
            "     Structure and Classification Rule for Recognition in Partially Exposed\n",
            "     Environments\".  IEEE Transactions on Pattern Analysis and Machine\n",
            "     Intelligence, Vol. PAMI-2, No. 1, 67-71.\n",
            "   - Gates, G.W. (1972) \"The Reduced Nearest Neighbor Rule\".  IEEE Transactions\n",
            "     on Information Theory, May 1972, 431-433.\n",
            "   - See also: 1988 MLC Proceedings, 54-64.  Cheeseman et al\"s AUTOCLASS II\n",
            "     conceptual clustering system finds 3 classes in the data.\n",
            "   - Many, many more ...\n"
          ]
        }
      ],
      "source": [
        "%matplotlib inline\n",
        "\n",
        "from sklearn import datasets\n",
        "import numpy as np\n",
        "import matplotlib.pyplot as plt\n",
        "\n",
        "iris = datasets.load_iris()\n",
        "\n",
        "#view a description of the dataset \n",
        "print(iris.DESCR)\n",
        "\n",
        "#Set X a samples times features matrix, Y equal to the targets\n",
        "X=iris.data \n",
        "y=iris.target \n",
        "\n",
        "\n",
        "#we add some random noise to our data to make the task more challenging\n",
        "X=X+np.random.normal(0,0.4,X.shape)\n"
      ]
    },
    {
      "cell_type": "markdown",
      "metadata": {
        "id": "yjPbyIkP-Uo9"
      },
      "source": [
        "**Task 2:**\n",
        "1.\tHow many data samples do we have?\n",
        "2.\tPrint the value below using shape on ```X``` appropriately. "
      ]
    },
    {
      "cell_type": "code",
      "execution_count": 5,
      "metadata": {
        "colab": {
          "base_uri": "https://localhost:8080/"
        },
        "id": "7O0yxZvt-Uo-",
        "outputId": "e34faf8a-a2bd-4fc4-fdbf-6e356377c43f"
      },
      "outputs": [
        {
          "output_type": "execute_result",
          "data": {
            "text/plain": [
              "150"
            ]
          },
          "metadata": {},
          "execution_count": 5
        }
      ],
      "source": [
        "#Enter code here\n",
        "X.shape[0]\n"
      ]
    },
    {
      "cell_type": "markdown",
      "metadata": {
        "id": "w4bD6FU--Uo-"
      },
      "source": [
        "**Task 3:**\n",
        "1.\tHow many features do we have?\n",
        "2.\tPrint the value below using shape on ```X``` appropriately. \n"
      ]
    },
    {
      "cell_type": "code",
      "execution_count": 6,
      "metadata": {
        "colab": {
          "base_uri": "https://localhost:8080/"
        },
        "id": "HIqWyoHw-Uo-",
        "outputId": "599ef32d-23e1-4f92-a774-c4b3f9b8abc6"
      },
      "outputs": [
        {
          "output_type": "execute_result",
          "data": {
            "text/plain": [
              "4"
            ]
          },
          "metadata": {},
          "execution_count": 6
        }
      ],
      "source": [
        "#Enter code here\n",
        "X.shape[1]"
      ]
    },
    {
      "cell_type": "markdown",
      "metadata": {
        "id": "V2VqcZsa-Uo-"
      },
      "source": [
        "**Task 4:**\n",
        "1.\tHow many classes do we have?\n",
        "2.\tPrint the value below using ```np.unique``` appropriately. \n"
      ]
    },
    {
      "cell_type": "code",
      "execution_count": 8,
      "metadata": {
        "colab": {
          "base_uri": "https://localhost:8080/"
        },
        "id": "xWz-Ow-7-Uo_",
        "outputId": "a6e51b48-89d6-4658-fc98-0fe537e3af6c"
      },
      "outputs": [
        {
          "output_type": "stream",
          "name": "stdout",
          "text": [
            "[0 1 2]\n"
          ]
        }
      ],
      "source": [
        "#Enter code here\n",
        "print(np.unique(y))"
      ]
    },
    {
      "cell_type": "markdown",
      "metadata": {
        "id": "yLnaTxML-Uo_"
      },
      "source": [
        "**Task 5:**\n",
        "1.\tHow many samples do we have that belong to class 1?\n",
        "2.\tPrint this in the cell below using the ```np.where``` function appropriately. \n"
      ]
    },
    {
      "cell_type": "code",
      "source": [
        "import pandas as pd"
      ],
      "metadata": {
        "id": "Op8_NCHd_1Rn"
      },
      "execution_count": 17,
      "outputs": []
    },
    {
      "cell_type": "code",
      "execution_count": 21,
      "metadata": {
        "colab": {
          "base_uri": "https://localhost:8080/"
        },
        "id": "5nvMRO_v-UpA",
        "outputId": "5f8eccb4-9f68-4dbd-db1a-2eb0d0fe0cd1"
      },
      "outputs": [
        {
          "output_type": "stream",
          "name": "stdout",
          "text": [
            "50\n"
          ]
        }
      ],
      "source": [
        "#Enter code here\n",
        "print(len(np.where(y == 1)[0]))"
      ]
    },
    {
      "cell_type": "markdown",
      "metadata": {
        "id": "KUU3xTk4-UpA"
      },
      "source": [
        "**Task 6:** \n",
        "\n",
        "Assume we want to generate a list of shuffled indices of our data. Use the function ```numpy.random.permutation``` to do that. In the cell below, you can already see how to create a list of indices that is not shuffled.\n"
      ]
    },
    {
      "cell_type": "code",
      "execution_count": 23,
      "metadata": {
        "colab": {
          "base_uri": "https://localhost:8080/"
        },
        "id": "1UBRs8db-UpA",
        "outputId": "9c2b3f87-7cb0-4fb2-b005-de819942dbed"
      },
      "outputs": [
        {
          "output_type": "stream",
          "name": "stdout",
          "text": [
            "[0, 1, 2, 3, 4, 5, 6, 7, 8, 9, 10, 11, 12, 13, 14, 15, 16, 17, 18, 19, 20, 21, 22, 23, 24, 25, 26, 27, 28, 29, 30, 31, 32, 33, 34, 35, 36, 37, 38, 39, 40, 41, 42, 43, 44, 45, 46, 47, 48, 49, 50, 51, 52, 53, 54, 55, 56, 57, 58, 59, 60, 61, 62, 63, 64, 65, 66, 67, 68, 69, 70, 71, 72, 73, 74, 75, 76, 77, 78, 79, 80, 81, 82, 83, 84, 85, 86, 87, 88, 89, 90, 91, 92, 93, 94, 95, 96, 97, 98, 99, 100, 101, 102, 103, 104, 105, 106, 107, 108, 109, 110, 111, 112, 113, 114, 115, 116, 117, 118, 119, 120, 121, 122, 123, 124, 125, 126, 127, 128, 129, 130, 131, 132, 133, 134, 135, 136, 137, 138, 139, 140, 141, 142, 143, 144, 145, 146, 147, 148, 149]\n"
          ]
        },
        {
          "output_type": "execute_result",
          "data": {
            "text/plain": [
              "array([ 25, 118, 105,  39, 143,  85,   6, 131,  13, 134,  86,  36, 126,\n",
              "       104,  65, 133,  21,  38, 103,  70, 111,  93,  63,  32, 107,  87,\n",
              "         5,  78,  23, 106, 102,  69,  95, 101,   7, 136,  75, 129, 149,\n",
              "         1, 145, 146, 130,  96,  72,  49, 114,  83, 124, 122,  44,  18,\n",
              "        17,  89,  47, 123,  27,  92,  58,  61, 127, 140,  28,  71, 135,\n",
              "        19, 116,  57,  88, 137, 109,  97,  33,   2, 112,  43,  40,  20,\n",
              "       110,  51,  42,  46,  82,  81, 128,   4,  62, 108,  68,  56, 139,\n",
              "        73,  16,  84,  24,  60, 117,  10,   3,  99, 147,  12,   8,  54,\n",
              "        45,  37,  35,  90, 120,  80,  48,  79,  22,  77,  66,  59,  30,\n",
              "        91,  31,   9,  52, 148,  94,  41, 138, 125,  76,  29,  98,  67,\n",
              "       115,  11,  14, 144,  34,  15,  64,  50, 121,  74,  55, 100, 113,\n",
              "       141, 142,  26,   0,  53, 119, 132])"
            ]
          },
          "metadata": {},
          "execution_count": 23
        }
      ],
      "source": [
        "L=list(range(X.shape[0]))\n",
        "print(L)\n",
        "#Enter code here\n",
        "np.random.permutation(L)\n"
      ]
    },
    {
      "cell_type": "markdown",
      "metadata": {
        "id": "9u_jriCB-UpB"
      },
      "source": [
        "**Task 7:**\n",
        "Here is an example of using the k-NN classifier. We split our data to training and testing (with a 0.2 percentage for our test data), fit on the training data, test on the testing data. \n",
        "Go through the code and make sure you understand it.\n",
        "Now do the same for the next cell, which prints the confusion matrix and the total accuracy. \n",
        "You can find some documentation to help you here: http://scikit-learn.org/stable/modules/generated/sklearn.neighbors.KNeighborsClassifier.html. \n",
        "Note that for this lab, we use the Euclidean distance along with 10 neighbours.\n"
      ]
    },
    {
      "cell_type": "code",
      "execution_count": 24,
      "metadata": {
        "colab": {
          "base_uri": "https://localhost:8080/"
        },
        "id": "cODQSbnB-UpB",
        "outputId": "cb0275ce-4e7f-4a53-c3a9-2775a5aa7eeb"
      },
      "outputs": [
        {
          "output_type": "stream",
          "name": "stdout",
          "text": [
            "[2 0 1 1 2 0 2 0 1 0 0 0 2 2 0 1 1 0 2 2 0 2 1 0 0 2 1 0 2 2]\n",
            "[1 0 1 1 2 0 2 0 1 0 0 0 2 1 0 1 1 0 2 2 0 2 1 0 0 2 1 0 1 1]\n"
          ]
        }
      ],
      "source": [
        "from sklearn.model_selection import train_test_split\n",
        "from sklearn.neighbors import KNeighborsClassifier\n",
        "\n",
        "#split to train and test\n",
        "X_train, X_test, y_train, y_test = train_test_split(X, y, test_size=0.2)\n",
        "#define knn classifier, with 5 neighbors and use the euclidian distance\n",
        "knn=KNeighborsClassifier(n_neighbors=10, metric='euclidean')\n",
        "#define training and testing data, fit the classifier\n",
        "knn.fit(X_train,y_train)\n",
        "#predict values for test data based on training data\n",
        "y_pred=knn.predict(X_test)\n",
        "#print values\n",
        "print(y_test) # true values\n",
        "print(y_pred) # predicted values\n"
      ]
    },
    {
      "cell_type": "code",
      "execution_count": 25,
      "metadata": {
        "colab": {
          "base_uri": "https://localhost:8080/"
        },
        "id": "eq-5WKFx-UpB",
        "outputId": "347f7d4e-ee57-4444-e541-51058978982d"
      },
      "outputs": [
        {
          "output_type": "stream",
          "name": "stdout",
          "text": [
            "[[12  0  0]\n",
            " [ 0  7  0]\n",
            " [ 0  4  7]]\n",
            "0.8666666666666667\n"
          ]
        }
      ],
      "source": [
        "from sklearn.metrics import confusion_matrix\n",
        "from sklearn.metrics import classification_report\n",
        "from sklearn.metrics import accuracy_score\n",
        "print(confusion_matrix(y_test,y_pred))\n",
        "print(accuracy_score(y_test,y_pred))\n"
      ]
    },
    {
      "cell_type": "markdown",
      "metadata": {
        "id": "AGnC04y_-UpB"
      },
      "source": [
        "**Task 8:**\n",
        "Write your <b>own</b> functions that return the confusion matrix given the true and predicted labels, as well as the accuracy. To do so, fill in the code in the next two cells. \n"
      ]
    },
    {
      "cell_type": "code",
      "execution_count": 26,
      "metadata": {
        "colab": {
          "base_uri": "https://localhost:8080/"
        },
        "id": "ukgkf0fG-UpC",
        "outputId": "e64fc96b-6fc7-4d69-b966-e19ac43fb4fa"
      },
      "outputs": [
        {
          "output_type": "stream",
          "name": "stdout",
          "text": [
            "[[12  0  0]\n",
            " [ 0  7  0]\n",
            " [ 0  4  7]]\n"
          ]
        },
        {
          "output_type": "stream",
          "name": "stderr",
          "text": [
            "/usr/local/lib/python3.7/dist-packages/ipykernel_launcher.py:5: DeprecationWarning: `np.int` is a deprecated alias for the builtin `int`. To silence this warning, use `int` by itself. Doing this will not modify any behavior and is safe. When replacing `np.int`, you may wish to use e.g. `np.int64` or `np.int32` to specify the precision. If you wish to review your current use, check the release note link for additional information.\n",
            "Deprecated in NumPy 1.20; for more details and guidance: https://numpy.org/devdocs/release/1.20.0-notes.html#deprecations\n",
            "  \"\"\"\n"
          ]
        }
      ],
      "source": [
        "\n",
        "#create a matrix with entries equal to zero, and subsequently build the confusion matrix\n",
        "#the method should return the confusion matrix in a numpy array\n",
        "def myConfMat(y_ground,y_pred,classno):\n",
        "    C= np.zeros((classno,classno),dtype=np.int)\n",
        "    for i in range(0,len(y_test)):\n",
        "            #complete this line - assign the appropriate value to C[i,j]\n",
        "            C[y_ground[i],y_pred[i]]+=1\n",
        "    return C\n",
        "\n",
        "#note: len(np.unique(y))  indicates the dimensions of the confusion matrix (why?)\n",
        "print(myConfMat(y_test,y_pred,len(np.unique(y))))\n",
        "\n"
      ]
    },
    {
      "cell_type": "code",
      "execution_count": 27,
      "metadata": {
        "colab": {
          "base_uri": "https://localhost:8080/"
        },
        "id": "UW52dj2y-UpC",
        "outputId": "06aad13c-1949-45e2-9bfa-e1eff80eb3be"
      },
      "outputs": [
        {
          "output_type": "stream",
          "name": "stdout",
          "text": [
            "accuracy: 0.87\n"
          ]
        }
      ],
      "source": [
        "# model answers\n",
        "\n",
        "#use the numpy function where to return the accuracy given the true/predicted labels.  i.e., #correct/#total\n",
        "def myAccuracy(y_ground,y_pred):\n",
        "    \n",
        "    correct = np.where(y_ground==y_pred, 1, 0 )\n",
        "    total = len(y_ground)\n",
        "    \n",
        "    return sum(correct)/total\n",
        "    \n",
        "# print the accuracy (as a float to two decimal points)\n",
        "print('accuracy: %.2f' % myAccuracy(y_test,y_pred))\n",
        "\n"
      ]
    },
    {
      "cell_type": "markdown",
      "metadata": {
        "id": "pPC9voyT-UpC"
      },
      "source": [
        "**Optional task:**</span> Write your own functions to calculate class-relative precision and recall. Compare these to the sklearn functions ``precision_score`` and ``recall_score`` on your y_test and y_pred values."
      ]
    },
    {
      "cell_type": "code",
      "execution_count": 28,
      "metadata": {
        "colab": {
          "base_uri": "https://localhost:8080/"
        },
        "id": "cInqK43Q-UpC",
        "outputId": "80593286-9fd4-44df-dd54-f4f526edf784"
      },
      "outputs": [
        {
          "output_type": "stream",
          "name": "stdout",
          "text": [
            "classes:      [0 1 2]\n",
            "my precision: [0. 0. 0.]\n",
            "my recall:    [0. 0. 0.]\n"
          ]
        }
      ],
      "source": [
        "#hint: you can use the output from your myConfMat function above\n",
        "\n",
        "def myPrecision(y_ground,y_pred):\n",
        "    classes = np.unique(y_ground)\n",
        "    precision = np.zeros(classes.shape) \n",
        "    \n",
        "        \n",
        "    return precision\n",
        "\n",
        "\n",
        "def myRecall(y_test,y_pred):\n",
        "    classes = np.unique(y_pred)\n",
        "    recall = np.zeros(classes.shape) \n",
        "    \n",
        "    \n",
        "    return recall\n",
        "\n",
        "print('classes:      %s' % np.unique(y_pred) )    \n",
        "print('my precision: %s' % myPrecision(y_test,y_pred))\n",
        "print('my recall:    %s' % myRecall(y_test,y_pred))\n"
      ]
    },
    {
      "cell_type": "code",
      "source": [
        "#hint: you can use the output from your myConfMat function above\n",
        "\n",
        "def myPrecision(y_ground,y_pred):\n",
        "    classes = np.unique(y_ground)\n",
        "    precision = np.zeros(classes.shape) \n",
        "    \n",
        "    C = myConfMat(y_test,y_pred,len(classes))\n",
        "              \n",
        "    for i in classes:\n",
        "        precision[i] = C[i,i] / sum(C[:,i])\n",
        "        \n",
        "    return precision\n",
        "\n",
        "\n",
        "def myRecall(y_test,y_pred):\n",
        "    classes = np.unique(y_pred)\n",
        "    recall = np.zeros(classes.shape) \n",
        "    \n",
        "    C = myConfMat(y_test,y_pred,len(classes))\n",
        "              \n",
        "    for i in classes:\n",
        "        recall[i] = C[i,i] / sum(C[i,:])\n",
        "    \n",
        "    return recall\n",
        "\n",
        "print('classes:      %s' % np.unique(y_pred) )    \n",
        "print('my precision: %s' % myPrecision(y_test,y_pred))\n",
        "print('my recall:    %s' % myRecall(y_test,y_pred))"
      ],
      "metadata": {
        "colab": {
          "base_uri": "https://localhost:8080/"
        },
        "id": "9pcKhsHFBhm0",
        "outputId": "227a6d68-d65f-4cff-e55f-44bb4aaf5473"
      },
      "execution_count": 31,
      "outputs": [
        {
          "output_type": "stream",
          "name": "stdout",
          "text": [
            "classes:      [0 1 2]\n",
            "my precision: [1.         0.63636364 1.        ]\n",
            "my recall:    [1.         1.         0.63636364]\n"
          ]
        },
        {
          "output_type": "stream",
          "name": "stderr",
          "text": [
            "/usr/local/lib/python3.7/dist-packages/ipykernel_launcher.py:5: DeprecationWarning: `np.int` is a deprecated alias for the builtin `int`. To silence this warning, use `int` by itself. Doing this will not modify any behavior and is safe. When replacing `np.int`, you may wish to use e.g. `np.int64` or `np.int32` to specify the precision. If you wish to review your current use, check the release note link for additional information.\n",
            "Deprecated in NumPy 1.20; for more details and guidance: https://numpy.org/devdocs/release/1.20.0-notes.html#deprecations\n",
            "  \"\"\"\n"
          ]
        }
      ]
    },
    {
      "cell_type": "code",
      "execution_count": 29,
      "metadata": {
        "colab": {
          "base_uri": "https://localhost:8080/"
        },
        "id": "CANlHQYF-UpC",
        "outputId": "a9c5a199-9930-45c6-c2a6-9d7e1e40c1ef"
      },
      "outputs": [
        {
          "output_type": "stream",
          "name": "stdout",
          "text": [
            "library precision: [1.         0.63636364 1.        ]\n",
            "library recall: [1.         1.         0.63636364]\n"
          ]
        }
      ],
      "source": [
        "from sklearn.metrics import precision_score, recall_score \n",
        "# check that your functions do the same thing as the library versions\n",
        "\n",
        "print('library precision: %s' % precision_score(y_test,y_pred,average=None))\n",
        "print('library recall: %s' % recall_score(y_test,y_pred,average=None))\n",
        "\n"
      ]
    },
    {
      "cell_type": "code",
      "source": [
        ""
      ],
      "metadata": {
        "id": "CgEjty4jBZ_N"
      },
      "execution_count": null,
      "outputs": []
    }
  ],
  "metadata": {
    "kernelspec": {
      "display_name": "Python 3",
      "language": "python",
      "name": "python3"
    },
    "language_info": {
      "codemirror_mode": {
        "name": "ipython",
        "version": 3
      },
      "file_extension": ".py",
      "mimetype": "text/x-python",
      "name": "python",
      "nbconvert_exporter": "python",
      "pygments_lexer": "ipython3",
      "version": "3.7.1"
    },
    "colab": {
      "name": "2.2 KNN classification.ipynb",
      "provenance": [],
      "include_colab_link": true
    }
  },
  "nbformat": 4,
  "nbformat_minor": 0
}