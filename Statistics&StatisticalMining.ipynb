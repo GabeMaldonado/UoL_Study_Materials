{
  "nbformat": 4,
  "nbformat_minor": 0,
  "metadata": {
    "colab": {
      "name": "Statistics&StatisticalMining.ipynb",
      "provenance": [],
      "collapsed_sections": [],
      "authorship_tag": "ABX9TyPJ4avaCdg3oUWy9PtkrX2i",
      "include_colab_link": true
    },
    "kernelspec": {
      "name": "python3",
      "display_name": "Python 3"
    },
    "language_info": {
      "name": "python"
    }
  },
  "cells": [
    {
      "cell_type": "markdown",
      "metadata": {
        "id": "view-in-github",
        "colab_type": "text"
      },
      "source": [
        "<a href=\"https://colab.research.google.com/github/GabeMaldonado/UoL_Study_Materials/blob/main/Statistics%26StatisticalMining.ipynb\" target=\"_parent\"><img src=\"https://colab.research.google.com/assets/colab-badge.svg\" alt=\"Open In Colab\"/></a>"
      ]
    },
    {
      "cell_type": "markdown",
      "metadata": {
        "id": "aUFIeKFKW7py"
      },
      "source": [
        "Notes on Statistics and Statistical Mining. DSM030\n",
        "University of London, Goldsmiths\n",
        "\n",
        "\n",
        "## Descriptive Statistics and Inferential Statistics\n",
        "\n",
        "* **Descriptive Statistics** is the branch of statistics that deals with the collection, summary, presentation and analysis of data in order to transform data into information which can be easily understood and interpreted\n",
        "\n",
        "* **Inferential Statistics** is the branch of statistics that involves using data from a sample to make claims, predictions, estimates and test hypotheses about the characteristics of a population. \n",
        "\n",
        "## Population and Sample\n",
        "\n",
        "* **Population** is the set of all possible individuals, or elements, of interest in a particular study.\n",
        "\n",
        "* **Sample** is a subset, or portion, of the population that is representative of the population from which it was selected.\n",
        "\n",
        "* A specific characteristic of a population is called a parameter\n",
        "* A parameter is a fixed population\n",
        "* A specific characteristic of a sample is called a statistic\n",
        "* A sample statistic varies from sample to sample\n",
        "\n",
        "For example:\n",
        "\n",
        "* Population: all the sutdents at a university\n",
        "* Variable of interest: age\n",
        "* Parameter: the average age of all students at the university\n",
        "* Statistics: the average age of sample students at the university\n",
        "\n",
        "## Scales of Measurement\n",
        "\n",
        "* A variable has one of four scales or levels of data measurement:\n",
        "   * nominal\n",
        "   * ordinal\n",
        "   * interval\n",
        "   * ration\n",
        "\n",
        "* The level of measurement determines the amount of information the data contains and is an indicator of the most suitable data summary and statistical analysis. \n",
        "\n",
        "### Nominal Scale\n",
        "* In the nominal scale of measurement, arbitrary labels or names are used to identify a characteristics of the individual. For instance, we have data of how people commute: walk, drive, train, bust, etc. The scale here is nominal beacause labels are used to identify how people go to work. Even if the labels are numeric, there is no order or ranking to it. \n",
        "\n",
        "### Ordinal Scale\n",
        "* In this scale of measurement, the data shows all the properties of nominal data and there is an **order or rank** among the variable's observations.\n",
        "\n",
        "* When numeric codes are used, there is no measurable meaning to the number differences. For instance, variables could be eduation level, from elementary to doctorate level of education. Here the levels can be ranked.\n",
        "\n",
        "### Interval Scale\n",
        "\n",
        "* Interval scales are numeric scales in which data exhibits the properties of ordinal scale and the differences between the values is meaningful and specified on a fixed unit of measure. For instance, SATs test scores are interval data which can be ranked. \n",
        "\n",
        "* Interval scale has no true zero point, which means that zero does not mean the of value but simply indicates another value on the scale. \n",
        "\n",
        "### Ratio Scale\n",
        "\n",
        "* Ratio scale exhibits all the properties of interval data and the ration of any two values is meaningful. This scale also has a true zero point, that is, when the variable equals 0.0-, there is none of that variable. \n",
        "* Other examples of variables which used teh ration scale of measurement are weight, height and time. \n",
        "\n",
        "\n",
        "\n",
        "\n",
        "\n",
        "\n"
      ]
    },
    {
      "cell_type": "markdown",
      "metadata": {
        "id": "aZ8NVZAOraG2"
      },
      "source": [
        "### Types of Data\n",
        "\n",
        "* Data can be classified as either categorical or numerical\n",
        "* Categorical data (also known as Qualitative data) uses names or labels to identify the characteristics of an individual\n",
        "* categorical data uses either the nominal or ordinal scales of measurement and maybe non-numeric or numeric in nature. \n",
        "\n",
        "* Numerical data (also known as quantitative data) have numeric values which indicate how much or how many of a quantity\n",
        "* Numeric data use either the interval or ratio scales of measurement\n",
        "\n",
        "### Categorical variables\n",
        "\n",
        "* Refers to a variable with categorical data such as ethnicity, types of cars, marital status, etc.\n",
        "\n",
        "### Quantitative variables\n",
        "* Refers to a variable with numeric values. For instance, height, weight, number/count of an item, temperature, etc.\n",
        "* Quantitative variables can be discrete or continuous\n",
        "\n",
        "### Statistical Analysis Suitable for Categorical Variables\n",
        "\n",
        "* For categorical variable, data maybe summarized by counting the number of observations in each category or by evaluating the proportion of the observations in each category\n",
        "\n",
        "* The might be cases where numerical data is used for categorical data and arithmetic operations provide no meaningful results. \n",
        "\n",
        "### Statistical Analysis Suitable for Quantitative Variables\n",
        "* Arithmetic operations provide meaningful results for quantitative variables. For example-- for a variable age we can compute the average by adding all the obeservations and dividing by the number of observations.\n",
        "* The average value usually provides meaningful information about the variable and it is easy to interpret. \n",
        "\n",
        "### Frequency Distribution\n",
        "\n",
        "* Frequency distribution is a way of summarizing data in a table which shows the possible categories or classes as well as the corresponding number of observations/frequency in each category\n",
        "* The category or classes in a frequency distribution are nonoverlapping\n",
        "* Frequency distribution can be used to summarize both quantitative and qualitative data. \n",
        "\n",
        "\n",
        "\n"
      ]
    },
    {
      "cell_type": "markdown",
      "metadata": {
        "id": "SdVC1uMwEfLw"
      },
      "source": [
        "### Measures of Location\n",
        "*  Percentiles\n",
        "   *  The *pth* percentile is a value which divides the data into two parts such that at least *p* percent of the observations are less than or equal to this value and at least $(100 - p)$ percent of the obeservations are greater than or equal to this value. In the equation *p* denotes the percentile of interest and *n* denotes the number of observations. If the result of the calculation is not an integer then we must round up to obtain the position of the *pth* percentile. If the result of the calcualtion is an integer then the percentile is the average of the corresponding value and its next value in the data.\n",
        "\n",
        "   *  For instance, for the following data (10, 20, 25, 15, 11, 13, 16, 8, 9, 8, 7, 6)-- the *pth* (75th) percentile is calculated this way:\n",
        "      1. Sort data in ascending order: (6, 7, 8, 8, 9, 10, 11, 13, 15, 16, 20, 25)\n",
        "\n",
        "      2. Compute the position of the *pth* percentile by doing: $\\frac{p}{100} * n$. We have 12 data points so $n=12$\n",
        "\n",
        "           $(\\frac{75}{100}) * 12 = 9$\n",
        "           \n",
        "        So the 75th percentile is the average of the 9th and 10th elements in the data. \n",
        "        $(15 + 16)/2 = 15.5$\n",
        "        Now calculate the 60th percentile:\n",
        "\n",
        "        $(\\frac{60}{100})*12 = 7.2$\n",
        "\n",
        "        Hence the 60th percentile is the 8th observation which is 13.\n",
        "\n",
        "\n",
        "\n",
        "   \n",
        "*  Quartiles\n",
        "   *  Divide the ranked data into four parts with each part containing approximately 25%of the data.\n",
        "   *  The lower, firt, quartile *Q1* is also the *25th* percentile\n",
        "   *  The second quartile *Q2* is also the *50th* percentile. It is the median.\n",
        "   *  The upper quartile *Q3* is also the 75th percentile. \n",
        "\n",
        "\n",
        "\n",
        "### Measures of Variation\n",
        "\n",
        "*  Range\n",
        "  * The simplest measure of variability.\n",
        "  * It is defined as the difference between the largets and the smallest value in a dataset.  \n",
        "\n",
        "*  Interquantile Range (IQR)\n",
        "  * IQR is the measure of spread which can helps us eliminate outliers.\n",
        "  * It calculates the range of the middle 50% of the data. \n",
        "  $IQR = Q3 - Q1$\n",
        "\n",
        "* Variance\n",
        "  * The *variance* is the average of the squared deviations of values from the mean.\n",
        "  * Variance is denoted by $\\sigma^2$ for the entire population and $s^2$ for the sample. \n",
        "\n",
        "* Standard Deviation\n",
        "  * The standard deviation is the most commonly used measure of spread.\n",
        "  * This is because it is expressed in the same unit as the original data whereas the variance is in squared units. \n",
        "  * It is equal to the positive square root of the variance and is denoted by $\\sigma$for the population and $s$ for the sample.\n",
        "  * The standard deviation shows variation around the mean.\n",
        "\n",
        "* Coefficient of Variation\n",
        "  * The coefficient of variation (CV) measures how large the standard deviation is in relation to the mean.\n",
        "  * It is usually given as a percentage and is defined as: \n",
        "  \n",
        "  $CV = (\\frac{s}{x} * 100)\\%$\n",
        "\n",
        "  * It is a dimeansionless number, that is, it is independent of the unit of measurement.\n",
        "  * It also shows the extent of variability in relation to the mean of the population.\n",
        "  * For instance, in finance -- investors calculate how miuch risk (i.e volatility) they can assume in comparison to the amount of return they expect from investments.\n",
        "  * The risk-return trade-off: the lower the CV value the better. \n",
        "\n"
      ]
    },
    {
      "cell_type": "code",
      "metadata": {
        "id": "75mXyFCt5U-X"
      },
      "source": [
        "import pandas as pd\n"
      ],
      "execution_count": 1,
      "outputs": []
    },
    {
      "cell_type": "code",
      "metadata": {
        "id": "PAqod3wjUknm"
      },
      "source": [
        "bulbs = pd.DataFrame([2090, 1900, 2010, 1890, 2010, 1968, 70, 2200, 2012, 1960])"
      ],
      "execution_count": 2,
      "outputs": []
    },
    {
      "cell_type": "code",
      "metadata": {
        "colab": {
          "base_uri": "https://localhost:8080/",
          "height": 297
        },
        "id": "cLBS55eJUn6E",
        "outputId": "21f3e113-be16-4e7c-a900-bd0f7bb1578f"
      },
      "source": [
        "bulbs.describe()\n"
      ],
      "execution_count": 3,
      "outputs": [
        {
          "output_type": "execute_result",
          "data": {
            "text/html": [
              "<div>\n",
              "<style scoped>\n",
              "    .dataframe tbody tr th:only-of-type {\n",
              "        vertical-align: middle;\n",
              "    }\n",
              "\n",
              "    .dataframe tbody tr th {\n",
              "        vertical-align: top;\n",
              "    }\n",
              "\n",
              "    .dataframe thead th {\n",
              "        text-align: right;\n",
              "    }\n",
              "</style>\n",
              "<table border=\"1\" class=\"dataframe\">\n",
              "  <thead>\n",
              "    <tr style=\"text-align: right;\">\n",
              "      <th></th>\n",
              "      <th>0</th>\n",
              "    </tr>\n",
              "  </thead>\n",
              "  <tbody>\n",
              "    <tr>\n",
              "      <th>count</th>\n",
              "      <td>10.000000</td>\n",
              "    </tr>\n",
              "    <tr>\n",
              "      <th>mean</th>\n",
              "      <td>1811.000000</td>\n",
              "    </tr>\n",
              "    <tr>\n",
              "      <th>std</th>\n",
              "      <td>618.318329</td>\n",
              "    </tr>\n",
              "    <tr>\n",
              "      <th>min</th>\n",
              "      <td>70.000000</td>\n",
              "    </tr>\n",
              "    <tr>\n",
              "      <th>25%</th>\n",
              "      <td>1915.000000</td>\n",
              "    </tr>\n",
              "    <tr>\n",
              "      <th>50%</th>\n",
              "      <td>1989.000000</td>\n",
              "    </tr>\n",
              "    <tr>\n",
              "      <th>75%</th>\n",
              "      <td>2011.500000</td>\n",
              "    </tr>\n",
              "    <tr>\n",
              "      <th>max</th>\n",
              "      <td>2200.000000</td>\n",
              "    </tr>\n",
              "  </tbody>\n",
              "</table>\n",
              "</div>"
            ],
            "text/plain": [
              "                 0\n",
              "count    10.000000\n",
              "mean   1811.000000\n",
              "std     618.318329\n",
              "min      70.000000\n",
              "25%    1915.000000\n",
              "50%    1989.000000\n",
              "75%    2011.500000\n",
              "max    2200.000000"
            ]
          },
          "metadata": {
            "tags": []
          },
          "execution_count": 3
        }
      ]
    },
    {
      "cell_type": "code",
      "metadata": {
        "colab": {
          "base_uri": "https://localhost:8080/",
          "height": 297
        },
        "id": "rczcNvgsUrmU",
        "outputId": "65a77f75-7644-4fe7-c46d-cb298e857be0"
      },
      "source": [
        "nums = pd.DataFrame([20,7,2,30,5,24,7,50])\n",
        "nums.describe()"
      ],
      "execution_count": 4,
      "outputs": [
        {
          "output_type": "execute_result",
          "data": {
            "text/html": [
              "<div>\n",
              "<style scoped>\n",
              "    .dataframe tbody tr th:only-of-type {\n",
              "        vertical-align: middle;\n",
              "    }\n",
              "\n",
              "    .dataframe tbody tr th {\n",
              "        vertical-align: top;\n",
              "    }\n",
              "\n",
              "    .dataframe thead th {\n",
              "        text-align: right;\n",
              "    }\n",
              "</style>\n",
              "<table border=\"1\" class=\"dataframe\">\n",
              "  <thead>\n",
              "    <tr style=\"text-align: right;\">\n",
              "      <th></th>\n",
              "      <th>0</th>\n",
              "    </tr>\n",
              "  </thead>\n",
              "  <tbody>\n",
              "    <tr>\n",
              "      <th>count</th>\n",
              "      <td>8.000000</td>\n",
              "    </tr>\n",
              "    <tr>\n",
              "      <th>mean</th>\n",
              "      <td>18.125000</td>\n",
              "    </tr>\n",
              "    <tr>\n",
              "      <th>std</th>\n",
              "      <td>16.365796</td>\n",
              "    </tr>\n",
              "    <tr>\n",
              "      <th>min</th>\n",
              "      <td>2.000000</td>\n",
              "    </tr>\n",
              "    <tr>\n",
              "      <th>25%</th>\n",
              "      <td>6.500000</td>\n",
              "    </tr>\n",
              "    <tr>\n",
              "      <th>50%</th>\n",
              "      <td>13.500000</td>\n",
              "    </tr>\n",
              "    <tr>\n",
              "      <th>75%</th>\n",
              "      <td>25.500000</td>\n",
              "    </tr>\n",
              "    <tr>\n",
              "      <th>max</th>\n",
              "      <td>50.000000</td>\n",
              "    </tr>\n",
              "  </tbody>\n",
              "</table>\n",
              "</div>"
            ],
            "text/plain": [
              "               0\n",
              "count   8.000000\n",
              "mean   18.125000\n",
              "std    16.365796\n",
              "min     2.000000\n",
              "25%     6.500000\n",
              "50%    13.500000\n",
              "75%    25.500000\n",
              "max    50.000000"
            ]
          },
          "metadata": {
            "tags": []
          },
          "execution_count": 4
        }
      ]
    },
    {
      "cell_type": "code",
      "metadata": {
        "colab": {
          "base_uri": "https://localhost:8080/",
          "height": 111
        },
        "id": "HQCEzxO_WyNG",
        "outputId": "00f154b6-2756-42f1-fe31-704b3de79dc8"
      },
      "source": [
        "nums.quantile([.25, .75])"
      ],
      "execution_count": 5,
      "outputs": [
        {
          "output_type": "execute_result",
          "data": {
            "text/html": [
              "<div>\n",
              "<style scoped>\n",
              "    .dataframe tbody tr th:only-of-type {\n",
              "        vertical-align: middle;\n",
              "    }\n",
              "\n",
              "    .dataframe tbody tr th {\n",
              "        vertical-align: top;\n",
              "    }\n",
              "\n",
              "    .dataframe thead th {\n",
              "        text-align: right;\n",
              "    }\n",
              "</style>\n",
              "<table border=\"1\" class=\"dataframe\">\n",
              "  <thead>\n",
              "    <tr style=\"text-align: right;\">\n",
              "      <th></th>\n",
              "      <th>0</th>\n",
              "    </tr>\n",
              "  </thead>\n",
              "  <tbody>\n",
              "    <tr>\n",
              "      <th>0.25</th>\n",
              "      <td>6.5</td>\n",
              "    </tr>\n",
              "    <tr>\n",
              "      <th>0.75</th>\n",
              "      <td>25.5</td>\n",
              "    </tr>\n",
              "  </tbody>\n",
              "</table>\n",
              "</div>"
            ],
            "text/plain": [
              "         0\n",
              "0.25   6.5\n",
              "0.75  25.5"
            ]
          },
          "metadata": {
            "tags": []
          },
          "execution_count": 5
        }
      ]
    },
    {
      "cell_type": "code",
      "metadata": {
        "colab": {
          "base_uri": "https://localhost:8080/",
          "height": 297
        },
        "id": "oSXBp9GDX_bd",
        "outputId": "d500a25a-0c87-4176-ea54-dce252dc36f4"
      },
      "source": [
        "nums_1 = pd.DataFrame([12, 16, 20, 25, 26, 28, 33, 35, 36, 41, 44, 49, 53, 56, 61, 63, 67, 70, 75, 77])\n",
        "nums_1.describe()"
      ],
      "execution_count": 6,
      "outputs": [
        {
          "output_type": "execute_result",
          "data": {
            "text/html": [
              "<div>\n",
              "<style scoped>\n",
              "    .dataframe tbody tr th:only-of-type {\n",
              "        vertical-align: middle;\n",
              "    }\n",
              "\n",
              "    .dataframe tbody tr th {\n",
              "        vertical-align: top;\n",
              "    }\n",
              "\n",
              "    .dataframe thead th {\n",
              "        text-align: right;\n",
              "    }\n",
              "</style>\n",
              "<table border=\"1\" class=\"dataframe\">\n",
              "  <thead>\n",
              "    <tr style=\"text-align: right;\">\n",
              "      <th></th>\n",
              "      <th>0</th>\n",
              "    </tr>\n",
              "  </thead>\n",
              "  <tbody>\n",
              "    <tr>\n",
              "      <th>count</th>\n",
              "      <td>20.000000</td>\n",
              "    </tr>\n",
              "    <tr>\n",
              "      <th>mean</th>\n",
              "      <td>44.350000</td>\n",
              "    </tr>\n",
              "    <tr>\n",
              "      <th>std</th>\n",
              "      <td>20.199726</td>\n",
              "    </tr>\n",
              "    <tr>\n",
              "      <th>min</th>\n",
              "      <td>12.000000</td>\n",
              "    </tr>\n",
              "    <tr>\n",
              "      <th>25%</th>\n",
              "      <td>27.500000</td>\n",
              "    </tr>\n",
              "    <tr>\n",
              "      <th>50%</th>\n",
              "      <td>42.500000</td>\n",
              "    </tr>\n",
              "    <tr>\n",
              "      <th>75%</th>\n",
              "      <td>61.500000</td>\n",
              "    </tr>\n",
              "    <tr>\n",
              "      <th>max</th>\n",
              "      <td>77.000000</td>\n",
              "    </tr>\n",
              "  </tbody>\n",
              "</table>\n",
              "</div>"
            ],
            "text/plain": [
              "               0\n",
              "count  20.000000\n",
              "mean   44.350000\n",
              "std    20.199726\n",
              "min    12.000000\n",
              "25%    27.500000\n",
              "50%    42.500000\n",
              "75%    61.500000\n",
              "max    77.000000"
            ]
          },
          "metadata": {
            "tags": []
          },
          "execution_count": 6
        }
      ]
    },
    {
      "cell_type": "code",
      "metadata": {
        "colab": {
          "base_uri": "https://localhost:8080/",
          "height": 235
        },
        "id": "lew71AACZwJo",
        "outputId": "42e3705a-0454-4741-a47c-a8a7499be276"
      },
      "source": [
        "nums_1.quantile([.10, .25, .33, .50, .75, .90])"
      ],
      "execution_count": 7,
      "outputs": [
        {
          "output_type": "execute_result",
          "data": {
            "text/html": [
              "<div>\n",
              "<style scoped>\n",
              "    .dataframe tbody tr th:only-of-type {\n",
              "        vertical-align: middle;\n",
              "    }\n",
              "\n",
              "    .dataframe tbody tr th {\n",
              "        vertical-align: top;\n",
              "    }\n",
              "\n",
              "    .dataframe thead th {\n",
              "        text-align: right;\n",
              "    }\n",
              "</style>\n",
              "<table border=\"1\" class=\"dataframe\">\n",
              "  <thead>\n",
              "    <tr style=\"text-align: right;\">\n",
              "      <th></th>\n",
              "      <th>0</th>\n",
              "    </tr>\n",
              "  </thead>\n",
              "  <tbody>\n",
              "    <tr>\n",
              "      <th>0.10</th>\n",
              "      <td>19.60</td>\n",
              "    </tr>\n",
              "    <tr>\n",
              "      <th>0.25</th>\n",
              "      <td>27.50</td>\n",
              "    </tr>\n",
              "    <tr>\n",
              "      <th>0.33</th>\n",
              "      <td>33.54</td>\n",
              "    </tr>\n",
              "    <tr>\n",
              "      <th>0.50</th>\n",
              "      <td>42.50</td>\n",
              "    </tr>\n",
              "    <tr>\n",
              "      <th>0.75</th>\n",
              "      <td>61.50</td>\n",
              "    </tr>\n",
              "    <tr>\n",
              "      <th>0.90</th>\n",
              "      <td>70.50</td>\n",
              "    </tr>\n",
              "  </tbody>\n",
              "</table>\n",
              "</div>"
            ],
            "text/plain": [
              "          0\n",
              "0.10  19.60\n",
              "0.25  27.50\n",
              "0.33  33.54\n",
              "0.50  42.50\n",
              "0.75  61.50\n",
              "0.90  70.50"
            ]
          },
          "metadata": {
            "tags": []
          },
          "execution_count": 7
        }
      ]
    },
    {
      "cell_type": "code",
      "metadata": {
        "colab": {
          "base_uri": "https://localhost:8080/",
          "height": 297
        },
        "id": "HIit__wIZ2X-",
        "outputId": "2e94f81c-07ce-4c72-c0de-a9d838e74a38"
      },
      "source": [
        "num_2 = pd.DataFrame([23, 21, 16, 22])\n",
        "num_2.describe()\n"
      ],
      "execution_count": 9,
      "outputs": [
        {
          "output_type": "execute_result",
          "data": {
            "text/html": [
              "<div>\n",
              "<style scoped>\n",
              "    .dataframe tbody tr th:only-of-type {\n",
              "        vertical-align: middle;\n",
              "    }\n",
              "\n",
              "    .dataframe tbody tr th {\n",
              "        vertical-align: top;\n",
              "    }\n",
              "\n",
              "    .dataframe thead th {\n",
              "        text-align: right;\n",
              "    }\n",
              "</style>\n",
              "<table border=\"1\" class=\"dataframe\">\n",
              "  <thead>\n",
              "    <tr style=\"text-align: right;\">\n",
              "      <th></th>\n",
              "      <th>0</th>\n",
              "    </tr>\n",
              "  </thead>\n",
              "  <tbody>\n",
              "    <tr>\n",
              "      <th>count</th>\n",
              "      <td>4.000000</td>\n",
              "    </tr>\n",
              "    <tr>\n",
              "      <th>mean</th>\n",
              "      <td>20.500000</td>\n",
              "    </tr>\n",
              "    <tr>\n",
              "      <th>std</th>\n",
              "      <td>3.109126</td>\n",
              "    </tr>\n",
              "    <tr>\n",
              "      <th>min</th>\n",
              "      <td>16.000000</td>\n",
              "    </tr>\n",
              "    <tr>\n",
              "      <th>25%</th>\n",
              "      <td>19.750000</td>\n",
              "    </tr>\n",
              "    <tr>\n",
              "      <th>50%</th>\n",
              "      <td>21.500000</td>\n",
              "    </tr>\n",
              "    <tr>\n",
              "      <th>75%</th>\n",
              "      <td>22.250000</td>\n",
              "    </tr>\n",
              "    <tr>\n",
              "      <th>max</th>\n",
              "      <td>23.000000</td>\n",
              "    </tr>\n",
              "  </tbody>\n",
              "</table>\n",
              "</div>"
            ],
            "text/plain": [
              "               0\n",
              "count   4.000000\n",
              "mean   20.500000\n",
              "std     3.109126\n",
              "min    16.000000\n",
              "25%    19.750000\n",
              "50%    21.500000\n",
              "75%    22.250000\n",
              "max    23.000000"
            ]
          },
          "metadata": {
            "tags": []
          },
          "execution_count": 9
        }
      ]
    },
    {
      "cell_type": "code",
      "metadata": {
        "colab": {
          "base_uri": "https://localhost:8080/"
        },
        "id": "d85bLQAajwFt",
        "outputId": "1e75bafc-4eb4-4352-843c-51f8ac5de9f1"
      },
      "source": [
        "# calculate the variance\n",
        "num_2.var()"
      ],
      "execution_count": 10,
      "outputs": [
        {
          "output_type": "execute_result",
          "data": {
            "text/plain": [
              "0    9.666667\n",
              "dtype: float64"
            ]
          },
          "metadata": {
            "tags": []
          },
          "execution_count": 10
        }
      ]
    },
    {
      "cell_type": "markdown",
      "metadata": {
        "id": "3re-bwqjf8jz"
      },
      "source": [
        "## Topic 2 -- Data Preprocessing, Correlation, and Probability Overview\n",
        "\n",
        "### Missing Values and data type transformations\n",
        "\n",
        "### Missing Values\n",
        "\n",
        "* It is important to be familiar with the concept of missing values\n",
        "* This is a common probeln in Data Science and Machine Learning\n",
        "* It refers to the problem of having blank entries in the dataset which can be due to multiple reasons\n",
        "* It is important to deal with appropriately\n",
        "\n",
        "**Why is it a problem?**\n",
        "\n",
        "* It adds ambiguity to the analysis\n",
        "* Missing values would make it impossible to accurately caculate descriptive statistics\n",
        "* Hence the observation that contains missing values can be problematic\n",
        "* It can happen in anyb data type (numeric, categorical, etc.)\n",
        "\n",
        "**How do we deal with it?**\n",
        "\n",
        "* The way to deal with it, or handle, missing values depends on several factors (such as the probelm domain, the percentage of missing data and others)\n",
        "* There is no magic nor one single approach/solution to this problem\n",
        "* One common method is to drop columns or rows that contain the missing values or, sometimes, if the column has a large fraction of its data missing\n",
        "* In some instances, droping columns or rows with missing values is not a viable solution so instead we can replace missing data with some value(s)\n",
        "* This technique is known as missing value **imputation**\n",
        "\n",
        "**Missing Values Imputation**\n",
        "\n",
        "* This is an important field in statistics\n",
        "* One methid is to replace the missing values with a fixed value\n",
        "   *  For example, sometimes people use 0 or any other number if the column is numeric\n",
        "   * It is common to replace missing values in an numeric column with the mean or median of existing values in that column\n",
        "   * If the column is categorical the mode of existing entires is used\n",
        "* Another method is to make educated guesses about the values of missing data using machine/statistical learning models\n",
        "* Also there are existing methods, specifically designed for analyzing data with missing values.\n",
        "\n",
        "### Data type tranformation\n",
        "\n",
        "* It is common in Data Science and Machine Learning to transform data from one type to another. For example:\n",
        "   * Categorical to numeric\n",
        "   * Numeric to category\n",
        "* A typical situation is when we'd like to use a modeling technique that can only deal with numeric data to model or anlyze categorical data (e.g. artificial neural networks)\n",
        "* This is known as *encoding*\n",
        "* A common technique is *binary encoding* or *one-hot-encoding* which is done like this:\n",
        "   1. If the categorical variable has *n* categories then create *n* new binary columns in the data\n",
        "   2. For each row, we set all values in those columns to 0 except the colukn that represents the categorical value in that row -- we set it to 1.\n",
        "   3. It is possible to create *n-1* instead of *n* columns (because one categorical value can be assumed when all values in the *n-1* columns for the row are 0)\n",
        "\n",
        "* Numerical to categorical transformation is known as *binning* or *discretization*\n",
        "* It tranforms numerica data into bins or intervals\n",
        "* There are multiple wats of data binning:\n",
        "   1. Supervised: by involving the class or target column. An example of this is the entropy-based binning.\n",
        "   2. Unsupervised: by not involving the class or target column. Two examples are equal width binning and equal frequency binning. \n",
        "   $w = \\frac{max - min}{n}$\n",
        "   \n",
        "\n",
        "\n",
        "\n",
        "\n",
        "\n",
        "\n",
        "\n"
      ]
    },
    {
      "cell_type": "markdown",
      "metadata": {
        "id": "6ld7HsiYp74y"
      },
      "source": [
        "### Correlation, Covariance, Heatmaps and Scatter Plots\n",
        "\n",
        "### Correlation\n",
        "\n",
        "* Quantifies the strenght of a relationship between two numeric variables\n",
        "* Usually we are interested in the linear correlation between two numeric variables\n",
        "* Variables **X** and **Y** (each with measured data) are said to be positively correlated if high values of **X** got with high values of **Y** and low values of **X** go with low values of **Y**\n",
        "* If high values of **X** go with low values of **Y** and vice versa, then the variables are negatively correlated\n",
        "\n",
        "### Key terms for correlation\n",
        "**Correlation coefficient** -- a metric that measures the extent to which numeric variables are associated with one or another. The correlation coefficient always lies between +1 (perfect positice correlation) and -1 (perfect negative correlation). However, variables can have a non-linear relationship, in which case the correlation coefficient may not be a useful metric. \n",
        "\n",
        "**Correlation matrix** -- a table where the variables are shown on both rows and columns and the cell vallues are the correlations between the variables\n",
        "\n",
        "**Scatterplot** -- a plot in which the x-axis is the value of one variable and the y-axis is the value of another. Using a scatter plot it is possible to determine if the two variables are correlated\n",
        "\n",
        "**Variance and Covariance**\n",
        "\n",
        "* The variance of a variable is the average of the square deviations of values from the mean. \n",
        "\n",
        "* Covariance is a measure of the extent to which one variable varies in concert with another (i.e., similar magnitude and direction)\n",
        "\n",
        "\n",
        "\n",
        "\n",
        "\n",
        "\n",
        "\n"
      ]
    },
    {
      "cell_type": "markdown",
      "metadata": {
        "id": "crYUQedcA5Ms"
      },
      "source": [
        "### Probability Overview\n",
        "\n",
        "**What is probability?**\n",
        "\n",
        "* Probability may be viewed as the numerical measure of likelihood or chance that an event will occur\n",
        "* We are interested in defining what is meant by the probability of an event *A*, that is, the likelihood of *A* occuring denoted by $P(A)$\n",
        "* A natural question to ask is: *what values can probability take or how do we measure probability?*\n",
        "\n",
        "**Probability Scale**\n",
        "\n",
        "* Probability values are assigned on a scle from 0 to 1\n",
        "* A probability value neat 0 indicates an event is unlikely to occur also known as an **impossible event**\n",
        "* A probability of 0.5 indicates and event is as likely as it unlikely to occur\n",
        "* A probability close to 1 indicates an event is very likely to occur also known as a **certain event**\n",
        "\n",
        "**Assigning Probabilities**\n",
        "\n",
        "* We wish to look at how probabilities can be assigned to experimental outcomes\n",
        "* There are two approaches: the *classical approach* and the *relative frequency approach*\n",
        "* Regardless of the approach used, there are two basic requirements for assigning probabilities\n",
        "  1. Let $Bi$ denote the *ith* experimental outcome and $P(Bi)$ its probability\n",
        "  2. The sum of all probabilities of all experimental outcomes is equal to 1. \n",
        "\n",
        "**The Classical Approach**\n",
        "\n",
        "* This method is appropriate for assigning probabilities when there are finite number of experimental outcomes, each of which are equally likely\n",
        "* If there are *n* possible outcomes then a probability of *1/n* is assigned to each experimental outcome\n",
        "* Note that the two basic requirements for assigning probabilities are automatically satisfied using this approach.\n",
        "An exaple of this approach is rolling a six-sided die. There are six possible outcomes: \n",
        "\n",
        "$S= {1, 2, 3, 4, 5, 6}$\n",
        "\n",
        "$P(1) = P(2) = P(3) = P(4) = P(5) = P(6) = 1/6$\n",
        "\n",
        "\n",
        "**The Relative Frequency Approach**\n",
        "\n",
        "* This approach is appropriate when data are available to estimate the proportion of time the experimental outcome will occur if we repeat the experiment a large number of times\n",
        "* It is often used to determine probabilities for a particular population\n",
        "* The relative frequncy probability is the limit of the proportion of times event *A* occurs in a large number of *n* trials. It is given by:\n",
        "\n",
        "$$P(A) = \\frac{n_A}{n} $$\n",
        "\n",
        "where $n_A$ denotes the number of outcomes for *A* and *n* denotes the total number of trials. \n",
        "\n",
        "\n",
        "\n"
      ]
    },
    {
      "cell_type": "markdown",
      "metadata": {
        "id": "__Bi5NNAKewZ"
      },
      "source": [
        "### Probability Axioms\n",
        "\n",
        "* A probability space consists of a sample space *S* together with a probability function *P* which takes an event *A $\\subseteq$ S* and returns $P(A)$ a number between 0 and 1.\n",
        "* The function must satisfy the following axioms:\n",
        "\n",
        "$P(A) \\geq 0$\n",
        "\n",
        "$P(S) = 1$\n",
        "\n",
        "$P(A_1 \\cup A_2 ... A_k) = P(A_1) + P(A_2) +...+ P(A_k) where A_i \\cap A_j = 0 \\; for \\; i  \\neq j $\n",
        "\n",
        "***Addition Rule***\n",
        "\n",
        "* Let *A* and *B* be two events. Then the probability that either of them will occur is:\n",
        "\n",
        "$P(A \\cup B) = P(A) + P(B) - P(A \\cap B)$\n",
        "\n",
        "* Read as $P(A \\; or \\; B) = P(A) + P(B) - P(A \\; and \\; B)$\n",
        "\n",
        "* If we know that the two events are *mutually exclusive* (i.e. they cannot occur at the same time) then:\n",
        "\n",
        "$P(A \\cup B) = P(A) + P(B)$\n",
        "\n",
        "**Example**\n",
        "\n",
        "* If a single card is randomly picked from a regular pack of cards, what is the probability that the card is either a jack or a diamond?\n",
        "* Let *A* be the event of picking a jack and *B* the event of picking a diamond. There are only 4 jacks in the pack and there are 13 diamonds.\n",
        "\n",
        "* $P(A) = 4/52 \\;\\;\\;\\;\\;\\;\\; P(B) = 13/52$ \n",
        "\n",
        "* Are the two events mutually exclusive? **NO**\n",
        "\n",
        "**SOLUTION**\n",
        "\n",
        "$P(A or B) = (4/52) + (13/52) - (1/52) = 16/52 = 4/13$\n",
        "\n",
        "\n",
        "\n",
        "\n"
      ]
    },
    {
      "cell_type": "markdown",
      "metadata": {
        "id": "K3_dHcpNaaRh"
      },
      "source": [
        "### Conditional Probability\n",
        "\n",
        "* We use the notation $P(A | B)$ to denote the conditional  probability of event *A* given that event *B* has occurred.\n",
        "* Event *B* is the **conditioning event**\n",
        "\n",
        "#### Definition of Conditional Probability\n",
        "\n",
        "* For any two events A and B, the conditional probability of A given that B has occurred is defined by:\n",
        "\n",
        "$$P(A|B) = \\frac{P(A \\cap B)}{P(B)} \\; provided \\; P(B) > 0$$\n",
        "\n",
        "* In terms of frequency, this expression can be viewed as:\n",
        "\n",
        "$$\\frac{number \\; of\\; outcomes \\; in \\; both \\; A \\; and \\; B}{number \\; of \\; outcomes \\; in \\; B}$$\n",
        "\n",
        "**EXAMPLE**\n",
        "\n",
        "* In a high school, 50% of female students have black hair, 30% have blue eyes and 15% have both-- black hair and blue eyes. A female student is selected at random. Find the following probabilities:\n",
        "\n",
        "   a. Gien that the student has black hair, find the probability that she has blue eyes\n",
        "\n",
        "   b. Given that the student has blue eyes, find the probability that she has black hair\n",
        "   \n",
        "   c. Find the probability that the student has either black hair or blue eyes or both.\n",
        "\n",
        "To solve this:\n",
        "Find the probabilities for each event:\n",
        "\n",
        "$$P(A) = 50\\% = 0.5 $$\n",
        "\n",
        "$$P(B) = 30\\% = 0.3 $$\n",
        "\n",
        "$$P(A \\cap B) = 15\\% = 0.15$$\n",
        "\n",
        "A Venn diagram can help us better see the relationship\n",
        "\n"
      ]
    },
    {
      "cell_type": "code",
      "metadata": {
        "colab": {
          "base_uri": "https://localhost:8080/",
          "height": 251
        },
        "id": "0B_P1yNuj3qQ",
        "outputId": "5dcfebfd-feb5-4f6c-ee8c-d89df95646db"
      },
      "source": [
        "import matplotlib.pyplot as plt\n",
        "from matplotlib_venn import venn2\n",
        "\n",
        "# Use the venn2 function\n",
        "venn2(subsets = (0.35, 0.15, 0.15), set_labels = ('A', 'B'))\n",
        "plt.show()"
      ],
      "execution_count": 2,
      "outputs": [
        {
          "output_type": "display_data",
          "data": {
            "image/png": "[encoded data removed]",
            "text/plain": [
              "<Figure size 432x288 with 1 Axes>"
            ]
          },
          "metadata": {
            "tags": []
          }
        }
      ]
    },
    {
      "cell_type": "markdown",
      "metadata": {
        "id": "9AeX0CXAgX_t"
      },
      "source": [
        "**SOLUTION**\n",
        "\n",
        "a. $P(B|A) = \\frac{P(A \\cap B)}{P(A)} = \\frac{0.15}{0.5} = 0.3$\n",
        "\n",
        "b. $P(A|B) = \\frac{P(A \\cap B}{P(B)} = \\frac{0.15}{0.3} = 0.5$\n",
        "\n",
        "c. $P(A \\cup B) = 0.35 + 0.15 +0.15 = 0.65$"
      ]
    },
    {
      "cell_type": "code",
      "metadata": {
        "id": "q0sngX2hfEMx"
      },
      "source": [
        ""
      ],
      "execution_count": null,
      "outputs": []
    }
  ]
}