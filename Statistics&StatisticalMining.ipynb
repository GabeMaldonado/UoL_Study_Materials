{
  "nbformat": 4,
  "nbformat_minor": 0,
  "metadata": {
    "colab": {
      "name": "Statistics&StatisticalMining.ipynb",
      "provenance": [],
      "collapsed_sections": [],
      "authorship_tag": "ABX9TyPVJ2MS+XZN4Uo8RaiXWbac",
      "include_colab_link": true
    },
    "kernelspec": {
      "name": "python3",
      "display_name": "Python 3"
    },
    "language_info": {
      "name": "python"
    }
  },
  "cells": [
    {
      "cell_type": "markdown",
      "metadata": {
        "id": "view-in-github",
        "colab_type": "text"
      },
      "source": [
        "<a href=\"https://colab.research.google.com/github/GabeMaldonado/UoL_Study_Materials/blob/main/Statistics%26StatisticalMining.ipynb\" target=\"_parent\"><img src=\"https://colab.research.google.com/assets/colab-badge.svg\" alt=\"Open In Colab\"/></a>"
      ]
    },
    {
      "cell_type": "markdown",
      "metadata": {
        "id": "aUFIeKFKW7py"
      },
      "source": [
        "Notes on Statistics and Statistical Mining. DSM030\n",
        "University of London, Goldsmiths\n",
        "\n",
        "\n",
        "## Descriptive Statistics and Inferential Statistics\n",
        "\n",
        "* **Descriptive Statistics** is the branch of statistics that deals with the collection, summary, presentation and analysis of data in order to transform data into information which can be easily understood and interpreted\n",
        "\n",
        "* **Inferential Statistics** is the branch of statistics that involves using data from a sample to make claims, predictions, estimates and test hypotheses about the characteristics of a population. \n",
        "\n",
        "## Population and Sample\n",
        "\n",
        "* **Population** is the set of all possible individuals, or elements, of interest in a particular study.\n",
        "\n",
        "* **Sample** is a subset, or portion, of the population that is representative of the population from which it was selected.\n",
        "\n",
        "* A specific characteristic of a population is called a parameter\n",
        "* A parameter is a fixed population\n",
        "* A specific characteristic of a sample is called a statistic\n",
        "* A sample statistic varies from sample to sample\n",
        "\n",
        "For example:\n",
        "\n",
        "* Population: all the sutdents at a university\n",
        "* Variable of interest: age\n",
        "* Parameter: the average age of all students at the university\n",
        "* Statistics: the average age of sample students at the university\n",
        "\n",
        "## Scales of Measurement\n",
        "\n",
        "* A variable has one of four scales or levels of data measurement:\n",
        "   * nominal\n",
        "   * ordinal\n",
        "   * interval\n",
        "   * ration\n",
        "\n",
        "* The level of measurement determines the amount of information the data contains and is an indicator of the most suitable data summary and statistical analysis. \n",
        "\n",
        "### Nominal Scale\n",
        "* In the nominal scale of measurement, arbitrary labels or names are used to identify a characteristics of the individual. For instance, we have data of how people commute: walk, drive, train, bust, etc. The scale here is nominal beacause labels are used to identify how people go to work. Even if the labels are numeric, there is no order or ranking to it. \n",
        "\n",
        "### Ordinal Scale\n",
        "* In this scale of measurement, the data shows all the properties of nominal data and there is an **order or rank** among the variable's observations.\n",
        "\n",
        "* When numeric codes are used, there is no measurable meaning to the number differences. For instance, variables could be eduation level, from elementary to doctorate level of education. Here the levels can be ranked.\n",
        "\n",
        "### Interval Scale\n",
        "\n",
        "* Interval scales are numeric scales in which data exhibits the properties of ordinal scale and the differences between the values is meaningful and specified on a fixed unit of measure. For instance, SATs test scores are interval data which can be ranked. \n",
        "\n",
        "* Interval scale has no true zero point, which means that zero does not mean the of value but simply indicates another value on the scale. \n",
        "\n",
        "### Ratio Scale\n",
        "\n",
        "* Ratio scale exhibits all the properties of interval data and the ration of any two values is meaningful. This scale also has a true zero point, that is, when the variable equals 0.0-, there is none of that variable. \n",
        "* Other examples of variables which used teh ration scale of measurement are weight, height and time. \n",
        "\n",
        "\n",
        "\n",
        "\n",
        "\n",
        "\n"
      ]
    },
    {
      "cell_type": "markdown",
      "metadata": {
        "id": "aZ8NVZAOraG2"
      },
      "source": [
        "### Types of Data\n",
        "\n",
        "* Data can be classified as either categorical or numerical\n",
        "* Categorical data (also known as Qualitative data) uses names or labels to identify the characteristics of an individual\n",
        "* categorical data uses either the nominal or ordinal scales of measurement and maybe non-numeric or numeric in nature. \n",
        "\n",
        "* Numerical data (also known as quantitative data) have numeric values which indicate how much or how many of a quantity\n",
        "* Numeric data use either the interval or ratio scales of measurement\n",
        "\n",
        "### Categorical variables\n",
        "\n",
        "* Refers to a variable with categorical data such as ethnicity, types of cars, marital status, etc.\n",
        "\n",
        "### quantitative variables\n",
        "* Refers to a variable with numeric values. For instance, height, weight, number/count of an item, temperature, etc.\n",
        "* Quantitative variables can be discrete or continuous\n",
        "\n",
        "### Statistical Analysis Suitable for Categorical Variables\n",
        "\n",
        "* For categorical variable, data maybe summarized by counting the number of observations in each category or by evaluating the proportion of the observations in each category\n",
        "\n",
        "* The might be cases where numerical data is used for categorical data and arithmetic operations provide no meaningful results. \n",
        "\n",
        "### Statistical Analysis Suitable for Quantitative Variables\n",
        "* Arithmetic operations provide meaningful results for quantitative variables. For example-- for a variable age we can compute the average by adding all the obeservations and dividing by the number of observations.\n",
        "* The average value usually provides meaningful information about the variable and it is easy to interpret. \n",
        "\n",
        "### Frequency Distribution\n",
        "\n",
        "* Frequency distribution is a way of summarizing data in a table which shows the possible categories or classes as well as the corresponding number of observations/frequency in each category\n",
        "* The category or classes in a frequency distribution are nonoverlapping\n",
        "* Frequency distribution can be used to summarize both quantitative and qualitative data. \n",
        "\n",
        "\n",
        "\n"
      ]
    },
    {
      "cell_type": "code",
      "metadata": {
        "id": "75mXyFCt5U-X"
      },
      "source": [
        ""
      ],
      "execution_count": null,
      "outputs": []
    }
  ]
}