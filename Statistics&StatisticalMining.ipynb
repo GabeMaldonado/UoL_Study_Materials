{
  "nbformat": 4,
  "nbformat_minor": 0,
  "metadata": {
    "colab": {
      "name": "Statistics&StatisticalMining.ipynb",
      "provenance": [],
      "collapsed_sections": [],
      "authorship_tag": "ABX9TyPJ8soZCKvyMCI3h/D125jc",
      "include_colab_link": true
    },
    "kernelspec": {
      "name": "python3",
      "display_name": "Python 3"
    },
    "language_info": {
      "name": "python"
    }
  },
  "cells": [
    {
      "cell_type": "markdown",
      "metadata": {
        "id": "view-in-github",
        "colab_type": "text"
      },
      "source": [
        "<a href=\"https://colab.research.google.com/github/GabeMaldonado/UoL_Study_Materials/blob/main/Statistics%26StatisticalMining.ipynb\" target=\"_parent\"><img src=\"https://colab.research.google.com/assets/colab-badge.svg\" alt=\"Open In Colab\"/></a>"
      ]
    },
    {
      "cell_type": "markdown",
      "metadata": {
        "id": "aUFIeKFKW7py"
      },
      "source": [
        "Notes on Statistics and Statistical Mining. DSM030\n",
        "University of London, Goldsmiths\n",
        "\n",
        "\n",
        "## Descriptive Statistics and Inferential Statistics\n",
        "\n",
        "* **Descriptive Statistics** is the branch of statistics that deals with the collection, summary, presentation and analysis of data in order to transform data into information which can be easily understood and interpreted\n",
        "\n",
        "* **Inferential Statistics** is the branch of statistics that involves using data from a sample to make claims, predictions, estimates and test hypotheses about the characteristics of a population. \n",
        "\n",
        "## Population and Sample\n",
        "\n",
        "* **Population** is the set of all possible individuals, or elements, of interest in a particular study.\n",
        "\n",
        "* **Sample** is a subset, or portion, of the population that is representative of the population from which it was selected.\n",
        "\n",
        "* A specific characteristic of a population is called a parameter\n",
        "* A parameter is a fixed population\n",
        "* A specific characteristic of a sample is called a statistic\n",
        "* A sample statistic varies from sample to sample\n",
        "\n",
        "For example:\n",
        "\n",
        "* Population: all the sutdents at a university\n",
        "* Variable of interest: age\n",
        "* Parameter: the average age of all students at the university\n",
        "* Statistics: the average age of sample students at the university\n",
        "\n",
        "## Scales of Measurement\n",
        "\n",
        "* A variable has one of four scales or levels of data measurement:\n",
        "   * nominal\n",
        "   * ordinal\n",
        "   * interval\n",
        "   * ration\n",
        "\n",
        "* The level of measurement determines the amount of information the data contains and is an indicator of the most suitable data summary and statistical analysis. \n",
        "\n",
        "### Nominal Scale\n",
        "* In the nominal scale of measurement, arbitrary labels or names are used to identify a characteristics of the individual. For instance, we have data of how people commute: walk, drive, train, bust, etc. The scale here is nominal beacause labels are used to identify how people go to work. Even if the labels are numeric, there is no order or ranking to it. \n",
        "\n",
        "### Ordinal Scale\n",
        "* In this scale of measurement, the data shows all the properties of nominal data and there is an **order or rank** among the variable's observations.\n",
        "\n",
        "* When numeric codes are used, there is no measurable meaning to the number differences. For instance, variables could be eduation level, from elementary to doctorate level of education. Here the levels can be ranked.\n",
        "\n",
        "### Interval Scale\n",
        "\n",
        "* Interval scales are numeric scales in which data exhibits the properties of ordinal scale and the differences between the values is meaningful and specified on a fixed unit of measure. For instance, SATs test scores are interval data which can be ranked. \n",
        "\n",
        "* Interval scale has no true zero point, which means that zero does not mean the of value but simply indicates another value on the scale. \n",
        "\n",
        "### Ratio Scale\n",
        "\n",
        "* Ratio scale exhibits all the properties of interval data and the ration of any two values is meaningful. This scale also has a true zero point, that is, when the variable equals 0.0-, there is none of that variable. \n",
        "* Other examples of variables which used teh ration scale of measurement are weight, height and time. \n",
        "\n",
        "\n",
        "\n",
        "\n",
        "\n",
        "\n"
      ]
    },
    {
      "cell_type": "markdown",
      "metadata": {
        "id": "aZ8NVZAOraG2"
      },
      "source": [
        "### Types of Data\n",
        "\n",
        "* Data can be classified as either categorical or numerical\n",
        "* Categorical data (also known as Qualitative data) uses names or labels to identify the characteristics of an individual\n",
        "* categorical data uses either the nominal or ordinal scales of measurement and maybe non-numeric or numeric in nature. \n",
        "\n",
        "* Numerical data (also known as quantitative data) have numeric values which indicate how much or how many of a quantity\n",
        "* Numeric data use either the interval or ratio scales of measurement\n",
        "\n",
        "### Categorical variables\n",
        "\n",
        "* Refers to a variable with categorical data such as ethnicity, types of cars, marital status, etc.\n",
        "\n",
        "### Quantitative variables\n",
        "* Refers to a variable with numeric values. For instance, height, weight, number/count of an item, temperature, etc.\n",
        "* Quantitative variables can be discrete or continuous\n",
        "\n",
        "### Statistical Analysis Suitable for Categorical Variables\n",
        "\n",
        "* For categorical variable, data maybe summarized by counting the number of observations in each category or by evaluating the proportion of the observations in each category\n",
        "\n",
        "* The might be cases where numerical data is used for categorical data and arithmetic operations provide no meaningful results. \n",
        "\n",
        "### Statistical Analysis Suitable for Quantitative Variables\n",
        "* Arithmetic operations provide meaningful results for quantitative variables. For example-- for a variable age we can compute the average by adding all the obeservations and dividing by the number of observations.\n",
        "* The average value usually provides meaningful information about the variable and it is easy to interpret. \n",
        "\n",
        "### Frequency Distribution\n",
        "\n",
        "* Frequency distribution is a way of summarizing data in a table which shows the possible categories or classes as well as the corresponding number of observations/frequency in each category\n",
        "* The category or classes in a frequency distribution are nonoverlapping\n",
        "* Frequency distribution can be used to summarize both quantitative and qualitative data. \n",
        "\n",
        "\n",
        "\n"
      ]
    },
    {
      "cell_type": "markdown",
      "metadata": {
        "id": "SdVC1uMwEfLw"
      },
      "source": [
        "### Measures of Location\n",
        "*  Percentiles\n",
        "   *  The *pth* percentile is a value which divides the data into two parts such that at least *p* percent of the observations are less than or equal to this value and at least $(100 - p)$ percent of the obeservations are greater than or equal to this value. In the equation *p* denotes the percentile of interest and *n* denotes the number of observations. If the result of the calculation is not an integer then we must round up to obtain the position of the *pth* percentile. If the result of the calcualtion is an integer then the percentile is the average of the corresponding value and its next value in the data.\n",
        "\n",
        "   *  For instance, for the following data (10, 20, 25, 15, 11, 13, 16, 8, 9, 8, 7, 6)-- the *pth* (75th) percentile is calculated this way:\n",
        "      1. Sort data in ascending order: (6, 7, 8, 8, 9, 10, 11, 13, 15, 16, 20, 25)\n",
        "\n",
        "      2. Compute the position of the *pth* percentile by doing: $\\frac{p}{100} * n$. We have 12 data points so $n=12$\n",
        "\n",
        "           $(\\frac{75}{100}) * 12 = 9$\n",
        "           \n",
        "        So the 75th percentile is the average of the 9th and 10th elements in the data. \n",
        "        $(15 + 16)/2 = 15.5$\n",
        "        Now calculate the 60th percentile:\n",
        "\n",
        "        $(\\frac{60}{100})*12 = 7.2$\n",
        "\n",
        "        Hence the 60th percentile is the 8th observation which is 13.\n",
        "\n",
        "\n",
        "\n",
        "   \n",
        "*  Quartiles\n",
        "   *  Divide the ranked data into four parts with each part containing approximately 25%of the data.\n",
        "   *  The lower, firt, quartile *Q1* is also the *25th* percentile\n",
        "   *  The second quartile *Q2* is also the *50th* percentile. It is the median.\n",
        "   *  The upper quartile *Q3* is also the 75th percentile. \n",
        "\n",
        "\n",
        "\n",
        "### Measures of Variation\n",
        "\n",
        "*  Range\n",
        "  * The simplest measure of variability.\n",
        "  * It is defined as the difference between the largets and the smallest value in a dataset.  \n",
        "\n",
        "*  Interquantile Range (IQR)\n",
        "  * IQR is the measure of spread which can helps us eliminate outliers.\n",
        "  * It calculates the range of the middle 50% of the data. \n",
        "  $IQR = Q3 - Q1$\n",
        "\n",
        "  \n"
      ]
    },
    {
      "cell_type": "code",
      "metadata": {
        "id": "75mXyFCt5U-X"
      },
      "source": [
        "import pandas as pd\n"
      ],
      "execution_count": 1,
      "outputs": []
    },
    {
      "cell_type": "code",
      "metadata": {
        "id": "PAqod3wjUknm"
      },
      "source": [
        "bulbs = pd.DataFrame([2090, 1900, 2010, 1890, 2010, 1968, 70, 2200, 2012, 1960])"
      ],
      "execution_count": 5,
      "outputs": []
    },
    {
      "cell_type": "code",
      "metadata": {
        "colab": {
          "base_uri": "https://localhost:8080/",
          "height": 297
        },
        "id": "cLBS55eJUn6E",
        "outputId": "cfd7d277-f032-47f4-9fed-a0dc5fb7088b"
      },
      "source": [
        "bulbs.describe()\n"
      ],
      "execution_count": 7,
      "outputs": [
        {
          "output_type": "execute_result",
          "data": {
            "text/html": [
              "<div>\n",
              "<style scoped>\n",
              "    .dataframe tbody tr th:only-of-type {\n",
              "        vertical-align: middle;\n",
              "    }\n",
              "\n",
              "    .dataframe tbody tr th {\n",
              "        vertical-align: top;\n",
              "    }\n",
              "\n",
              "    .dataframe thead th {\n",
              "        text-align: right;\n",
              "    }\n",
              "</style>\n",
              "<table border=\"1\" class=\"dataframe\">\n",
              "  <thead>\n",
              "    <tr style=\"text-align: right;\">\n",
              "      <th></th>\n",
              "      <th>0</th>\n",
              "    </tr>\n",
              "  </thead>\n",
              "  <tbody>\n",
              "    <tr>\n",
              "      <th>count</th>\n",
              "      <td>10.000000</td>\n",
              "    </tr>\n",
              "    <tr>\n",
              "      <th>mean</th>\n",
              "      <td>1811.000000</td>\n",
              "    </tr>\n",
              "    <tr>\n",
              "      <th>std</th>\n",
              "      <td>618.318329</td>\n",
              "    </tr>\n",
              "    <tr>\n",
              "      <th>min</th>\n",
              "      <td>70.000000</td>\n",
              "    </tr>\n",
              "    <tr>\n",
              "      <th>25%</th>\n",
              "      <td>1915.000000</td>\n",
              "    </tr>\n",
              "    <tr>\n",
              "      <th>50%</th>\n",
              "      <td>1989.000000</td>\n",
              "    </tr>\n",
              "    <tr>\n",
              "      <th>75%</th>\n",
              "      <td>2011.500000</td>\n",
              "    </tr>\n",
              "    <tr>\n",
              "      <th>max</th>\n",
              "      <td>2200.000000</td>\n",
              "    </tr>\n",
              "  </tbody>\n",
              "</table>\n",
              "</div>"
            ],
            "text/plain": [
              "                 0\n",
              "count    10.000000\n",
              "mean   1811.000000\n",
              "std     618.318329\n",
              "min      70.000000\n",
              "25%    1915.000000\n",
              "50%    1989.000000\n",
              "75%    2011.500000\n",
              "max    2200.000000"
            ]
          },
          "metadata": {
            "tags": []
          },
          "execution_count": 7
        }
      ]
    },
    {
      "cell_type": "code",
      "metadata": {
        "colab": {
          "base_uri": "https://localhost:8080/",
          "height": 297
        },
        "id": "rczcNvgsUrmU",
        "outputId": "f9b63695-7629-4214-af9d-22592916293d"
      },
      "source": [
        "nums = pd.DataFrame([20,7,2,30,5,24,7,50])\n",
        "nums.describe()"
      ],
      "execution_count": 2,
      "outputs": [
        {
          "output_type": "execute_result",
          "data": {
            "text/html": [
              "<div>\n",
              "<style scoped>\n",
              "    .dataframe tbody tr th:only-of-type {\n",
              "        vertical-align: middle;\n",
              "    }\n",
              "\n",
              "    .dataframe tbody tr th {\n",
              "        vertical-align: top;\n",
              "    }\n",
              "\n",
              "    .dataframe thead th {\n",
              "        text-align: right;\n",
              "    }\n",
              "</style>\n",
              "<table border=\"1\" class=\"dataframe\">\n",
              "  <thead>\n",
              "    <tr style=\"text-align: right;\">\n",
              "      <th></th>\n",
              "      <th>0</th>\n",
              "    </tr>\n",
              "  </thead>\n",
              "  <tbody>\n",
              "    <tr>\n",
              "      <th>count</th>\n",
              "      <td>8.000000</td>\n",
              "    </tr>\n",
              "    <tr>\n",
              "      <th>mean</th>\n",
              "      <td>18.125000</td>\n",
              "    </tr>\n",
              "    <tr>\n",
              "      <th>std</th>\n",
              "      <td>16.365796</td>\n",
              "    </tr>\n",
              "    <tr>\n",
              "      <th>min</th>\n",
              "      <td>2.000000</td>\n",
              "    </tr>\n",
              "    <tr>\n",
              "      <th>25%</th>\n",
              "      <td>6.500000</td>\n",
              "    </tr>\n",
              "    <tr>\n",
              "      <th>50%</th>\n",
              "      <td>13.500000</td>\n",
              "    </tr>\n",
              "    <tr>\n",
              "      <th>75%</th>\n",
              "      <td>25.500000</td>\n",
              "    </tr>\n",
              "    <tr>\n",
              "      <th>max</th>\n",
              "      <td>50.000000</td>\n",
              "    </tr>\n",
              "  </tbody>\n",
              "</table>\n",
              "</div>"
            ],
            "text/plain": [
              "               0\n",
              "count   8.000000\n",
              "mean   18.125000\n",
              "std    16.365796\n",
              "min     2.000000\n",
              "25%     6.500000\n",
              "50%    13.500000\n",
              "75%    25.500000\n",
              "max    50.000000"
            ]
          },
          "metadata": {
            "tags": []
          },
          "execution_count": 2
        }
      ]
    },
    {
      "cell_type": "code",
      "metadata": {
        "colab": {
          "base_uri": "https://localhost:8080/",
          "height": 111
        },
        "id": "HQCEzxO_WyNG",
        "outputId": "ec40c58d-2115-43e3-9d35-c8fc512209b2"
      },
      "source": [
        "nums.quantile([.25, .75])"
      ],
      "execution_count": 4,
      "outputs": [
        {
          "output_type": "execute_result",
          "data": {
            "text/html": [
              "<div>\n",
              "<style scoped>\n",
              "    .dataframe tbody tr th:only-of-type {\n",
              "        vertical-align: middle;\n",
              "    }\n",
              "\n",
              "    .dataframe tbody tr th {\n",
              "        vertical-align: top;\n",
              "    }\n",
              "\n",
              "    .dataframe thead th {\n",
              "        text-align: right;\n",
              "    }\n",
              "</style>\n",
              "<table border=\"1\" class=\"dataframe\">\n",
              "  <thead>\n",
              "    <tr style=\"text-align: right;\">\n",
              "      <th></th>\n",
              "      <th>0</th>\n",
              "    </tr>\n",
              "  </thead>\n",
              "  <tbody>\n",
              "    <tr>\n",
              "      <th>0.25</th>\n",
              "      <td>6.5</td>\n",
              "    </tr>\n",
              "    <tr>\n",
              "      <th>0.75</th>\n",
              "      <td>25.5</td>\n",
              "    </tr>\n",
              "  </tbody>\n",
              "</table>\n",
              "</div>"
            ],
            "text/plain": [
              "         0\n",
              "0.25   6.5\n",
              "0.75  25.5"
            ]
          },
          "metadata": {
            "tags": []
          },
          "execution_count": 4
        }
      ]
    },
    {
      "cell_type": "code",
      "metadata": {
        "colab": {
          "base_uri": "https://localhost:8080/",
          "height": 297
        },
        "id": "oSXBp9GDX_bd",
        "outputId": "d434e6e2-1856-4de5-fe0c-1930cc2e9374"
      },
      "source": [
        "nums_1 = pd.DataFrame([12, 16, 20, 25, 26, 28, 33, 35, 36, 41, 44, 49, 53, 56, 61, 63, 67, 70, 75, 77])\n",
        "nums_1.describe()"
      ],
      "execution_count": 5,
      "outputs": [
        {
          "output_type": "execute_result",
          "data": {
            "text/html": [
              "<div>\n",
              "<style scoped>\n",
              "    .dataframe tbody tr th:only-of-type {\n",
              "        vertical-align: middle;\n",
              "    }\n",
              "\n",
              "    .dataframe tbody tr th {\n",
              "        vertical-align: top;\n",
              "    }\n",
              "\n",
              "    .dataframe thead th {\n",
              "        text-align: right;\n",
              "    }\n",
              "</style>\n",
              "<table border=\"1\" class=\"dataframe\">\n",
              "  <thead>\n",
              "    <tr style=\"text-align: right;\">\n",
              "      <th></th>\n",
              "      <th>0</th>\n",
              "    </tr>\n",
              "  </thead>\n",
              "  <tbody>\n",
              "    <tr>\n",
              "      <th>count</th>\n",
              "      <td>20.000000</td>\n",
              "    </tr>\n",
              "    <tr>\n",
              "      <th>mean</th>\n",
              "      <td>44.350000</td>\n",
              "    </tr>\n",
              "    <tr>\n",
              "      <th>std</th>\n",
              "      <td>20.199726</td>\n",
              "    </tr>\n",
              "    <tr>\n",
              "      <th>min</th>\n",
              "      <td>12.000000</td>\n",
              "    </tr>\n",
              "    <tr>\n",
              "      <th>25%</th>\n",
              "      <td>27.500000</td>\n",
              "    </tr>\n",
              "    <tr>\n",
              "      <th>50%</th>\n",
              "      <td>42.500000</td>\n",
              "    </tr>\n",
              "    <tr>\n",
              "      <th>75%</th>\n",
              "      <td>61.500000</td>\n",
              "    </tr>\n",
              "    <tr>\n",
              "      <th>max</th>\n",
              "      <td>77.000000</td>\n",
              "    </tr>\n",
              "  </tbody>\n",
              "</table>\n",
              "</div>"
            ],
            "text/plain": [
              "               0\n",
              "count  20.000000\n",
              "mean   44.350000\n",
              "std    20.199726\n",
              "min    12.000000\n",
              "25%    27.500000\n",
              "50%    42.500000\n",
              "75%    61.500000\n",
              "max    77.000000"
            ]
          },
          "metadata": {
            "tags": []
          },
          "execution_count": 5
        }
      ]
    },
    {
      "cell_type": "code",
      "metadata": {
        "colab": {
          "base_uri": "https://localhost:8080/",
          "height": 235
        },
        "id": "lew71AACZwJo",
        "outputId": "2e968d46-3122-4ff2-e2a6-71d2cf7f5bde"
      },
      "source": [
        "nums.quantile([.10, .25, .33, .50, .75, .90])"
      ],
      "execution_count": 7,
      "outputs": [
        {
          "output_type": "execute_result",
          "data": {
            "text/html": [
              "<div>\n",
              "<style scoped>\n",
              "    .dataframe tbody tr th:only-of-type {\n",
              "        vertical-align: middle;\n",
              "    }\n",
              "\n",
              "    .dataframe tbody tr th {\n",
              "        vertical-align: top;\n",
              "    }\n",
              "\n",
              "    .dataframe thead th {\n",
              "        text-align: right;\n",
              "    }\n",
              "</style>\n",
              "<table border=\"1\" class=\"dataframe\">\n",
              "  <thead>\n",
              "    <tr style=\"text-align: right;\">\n",
              "      <th></th>\n",
              "      <th>0</th>\n",
              "    </tr>\n",
              "  </thead>\n",
              "  <tbody>\n",
              "    <tr>\n",
              "      <th>0.10</th>\n",
              "      <td>4.1</td>\n",
              "    </tr>\n",
              "    <tr>\n",
              "      <th>0.25</th>\n",
              "      <td>6.5</td>\n",
              "    </tr>\n",
              "    <tr>\n",
              "      <th>0.33</th>\n",
              "      <td>7.0</td>\n",
              "    </tr>\n",
              "    <tr>\n",
              "      <th>0.50</th>\n",
              "      <td>13.5</td>\n",
              "    </tr>\n",
              "    <tr>\n",
              "      <th>0.75</th>\n",
              "      <td>25.5</td>\n",
              "    </tr>\n",
              "    <tr>\n",
              "      <th>0.90</th>\n",
              "      <td>36.0</td>\n",
              "    </tr>\n",
              "  </tbody>\n",
              "</table>\n",
              "</div>"
            ],
            "text/plain": [
              "         0\n",
              "0.10   4.1\n",
              "0.25   6.5\n",
              "0.33   7.0\n",
              "0.50  13.5\n",
              "0.75  25.5\n",
              "0.90  36.0"
            ]
          },
          "metadata": {
            "tags": []
          },
          "execution_count": 7
        }
      ]
    },
    {
      "cell_type": "code",
      "metadata": {
        "id": "HIit__wIZ2X-"
      },
      "source": [
        ""
      ],
      "execution_count": null,
      "outputs": []
    }
  ]
}