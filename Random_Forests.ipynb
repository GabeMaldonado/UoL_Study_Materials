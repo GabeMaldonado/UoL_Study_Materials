{
  "nbformat": 4,
  "nbformat_minor": 0,
  "metadata": {
    "kernelspec": {
      "display_name": "Python 3",
      "language": "python",
      "name": "python3"
    },
    "language_info": {
      "codemirror_mode": {
        "name": "ipython",
        "version": 3
      },
      "file_extension": ".py",
      "mimetype": "text/x-python",
      "name": "python",
      "nbconvert_exporter": "python",
      "pygments_lexer": "ipython3",
      "version": "3.7.1"
    },
    "colab": {
      "name": "Random Forests.ipynb",
      "provenance": [],
      "collapsed_sections": [],
      "include_colab_link": true
    }
  },
  "cells": [
    {
      "cell_type": "markdown",
      "metadata": {
        "id": "view-in-github",
        "colab_type": "text"
      },
      "source": [
        "<a href=\"https://colab.research.google.com/github/GabeMaldonado/UoL_Study_Materials/blob/main/Random_Forests.ipynb\" target=\"_parent\"><img src=\"https://colab.research.google.com/assets/colab-badge.svg\" alt=\"Open In Colab\"/></a>"
      ]
    },
    {
      "cell_type": "markdown",
      "metadata": {
        "id": "RB0OS_WnnFh3"
      },
      "source": [
        "# Random Forests\n",
        "## Instructions:\n",
        "\n",
        "* Go through the notebook and complete the tasks. \n",
        "* Make sure you understand the examples given. If you need help, refer to the Essential readings or the documentation link provided, or go to the Topic 6 discussion forum. \n",
        "* Save your notebooks when you are done.\n",
        " \n",
        "**Task 1:**\n",
        "Run the code below to load the breast cancer diagnosis dataset. Use this data to train and test 1) a decision tree classifier, and then 2) a random forest classifier. Use the scikit-learn classes, ```DecisionTreeClassifier``` and ```RandomForestClassifier``` Compare and contrast the results using the relevant classifier evaluation methods in ```sklearn.metrics```."
      ]
    },
    {
      "cell_type": "code",
      "metadata": {
        "colab": {
          "base_uri": "https://localhost:8080/"
        },
        "id": "27D8CQDenFh6",
        "outputId": "d853bcaa-e125-46b9-8597-b6e9b6107726"
      },
      "source": [
        "import numpy as np\n",
        "import matplotlib.pyplot as plt\n",
        "from sklearn.tree import DecisionTreeClassifier\n",
        "from sklearn.ensemble import RandomForestClassifier\n",
        "from sklearn.model_selection import train_test_split\n",
        "from sklearn import datasets\n",
        "from sklearn import metrics\n",
        "\n",
        "# Load the breast cancer diagnosis dataset\n",
        "breast_cancer = datasets.load_breast_cancer()\n",
        "print(breast_cancer.DESCR)\n",
        "\n",
        "X = breast_cancer.data\n",
        "y = breast_cancer.target\n",
        "feature_names = breast_cancer.feature_names\n",
        "\n",
        "# separate the data into training and test sets\n",
        "X_train, X_test, y_train, y_test = train_test_split(\n",
        "    X, y, test_size=0.3, random_state=4)\n",
        "\n"
      ],
      "execution_count": 1,
      "outputs": [
        {
          "output_type": "stream",
          "text": [
            ".. _breast_cancer_dataset:\n",
            "\n",
            "Breast cancer wisconsin (diagnostic) dataset\n",
            "--------------------------------------------\n",
            "\n",
            "**Data Set Characteristics:**\n",
            "\n",
            "    :Number of Instances: 569\n",
            "\n",
            "    :Number of Attributes: 30 numeric, predictive attributes and the class\n",
            "\n",
            "    :Attribute Information:\n",
            "        - radius (mean of distances from center to points on the perimeter)\n",
            "        - texture (standard deviation of gray-scale values)\n",
            "        - perimeter\n",
            "        - area\n",
            "        - smoothness (local variation in radius lengths)\n",
            "        - compactness (perimeter^2 / area - 1.0)\n",
            "        - concavity (severity of concave portions of the contour)\n",
            "        - concave points (number of concave portions of the contour)\n",
            "        - symmetry \n",
            "        - fractal dimension (\"coastline approximation\" - 1)\n",
            "\n",
            "        The mean, standard error, and \"worst\" or largest (mean of the three\n",
            "        largest values) of these features were computed for each image,\n",
            "        resulting in 30 features.  For instance, field 3 is Mean Radius, field\n",
            "        13 is Radius SE, field 23 is Worst Radius.\n",
            "\n",
            "        - class:\n",
            "                - WDBC-Malignant\n",
            "                - WDBC-Benign\n",
            "\n",
            "    :Summary Statistics:\n",
            "\n",
            "    ===================================== ====== ======\n",
            "                                           Min    Max\n",
            "    ===================================== ====== ======\n",
            "    radius (mean):                        6.981  28.11\n",
            "    texture (mean):                       9.71   39.28\n",
            "    perimeter (mean):                     43.79  188.5\n",
            "    area (mean):                          143.5  2501.0\n",
            "    smoothness (mean):                    0.053  0.163\n",
            "    compactness (mean):                   0.019  0.345\n",
            "    concavity (mean):                     0.0    0.427\n",
            "    concave points (mean):                0.0    0.201\n",
            "    symmetry (mean):                      0.106  0.304\n",
            "    fractal dimension (mean):             0.05   0.097\n",
            "    radius (standard error):              0.112  2.873\n",
            "    texture (standard error):             0.36   4.885\n",
            "    perimeter (standard error):           0.757  21.98\n",
            "    area (standard error):                6.802  542.2\n",
            "    smoothness (standard error):          0.002  0.031\n",
            "    compactness (standard error):         0.002  0.135\n",
            "    concavity (standard error):           0.0    0.396\n",
            "    concave points (standard error):      0.0    0.053\n",
            "    symmetry (standard error):            0.008  0.079\n",
            "    fractal dimension (standard error):   0.001  0.03\n",
            "    radius (worst):                       7.93   36.04\n",
            "    texture (worst):                      12.02  49.54\n",
            "    perimeter (worst):                    50.41  251.2\n",
            "    area (worst):                         185.2  4254.0\n",
            "    smoothness (worst):                   0.071  0.223\n",
            "    compactness (worst):                  0.027  1.058\n",
            "    concavity (worst):                    0.0    1.252\n",
            "    concave points (worst):               0.0    0.291\n",
            "    symmetry (worst):                     0.156  0.664\n",
            "    fractal dimension (worst):            0.055  0.208\n",
            "    ===================================== ====== ======\n",
            "\n",
            "    :Missing Attribute Values: None\n",
            "\n",
            "    :Class Distribution: 212 - Malignant, 357 - Benign\n",
            "\n",
            "    :Creator:  Dr. William H. Wolberg, W. Nick Street, Olvi L. Mangasarian\n",
            "\n",
            "    :Donor: Nick Street\n",
            "\n",
            "    :Date: November, 1995\n",
            "\n",
            "This is a copy of UCI ML Breast Cancer Wisconsin (Diagnostic) datasets.\n",
            "https://goo.gl/U2Uwz2\n",
            "\n",
            "Features are computed from a digitized image of a fine needle\n",
            "aspirate (FNA) of a breast mass.  They describe\n",
            "characteristics of the cell nuclei present in the image.\n",
            "\n",
            "Separating plane described above was obtained using\n",
            "Multisurface Method-Tree (MSM-T) [K. P. Bennett, \"Decision Tree\n",
            "Construction Via Linear Programming.\" Proceedings of the 4th\n",
            "Midwest Artificial Intelligence and Cognitive Science Society,\n",
            "pp. 97-101, 1992], a classification method which uses linear\n",
            "programming to construct a decision tree.  Relevant features\n",
            "were selected using an exhaustive search in the space of 1-4\n",
            "features and 1-3 separating planes.\n",
            "\n",
            "The actual linear program used to obtain the separating plane\n",
            "in the 3-dimensional space is that described in:\n",
            "[K. P. Bennett and O. L. Mangasarian: \"Robust Linear\n",
            "Programming Discrimination of Two Linearly Inseparable Sets\",\n",
            "Optimization Methods and Software 1, 1992, 23-34].\n",
            "\n",
            "This database is also available through the UW CS ftp server:\n",
            "\n",
            "ftp ftp.cs.wisc.edu\n",
            "cd math-prog/cpo-dataset/machine-learn/WDBC/\n",
            "\n",
            ".. topic:: References\n",
            "\n",
            "   - W.N. Street, W.H. Wolberg and O.L. Mangasarian. Nuclear feature extraction \n",
            "     for breast tumor diagnosis. IS&T/SPIE 1993 International Symposium on \n",
            "     Electronic Imaging: Science and Technology, volume 1905, pages 861-870,\n",
            "     San Jose, CA, 1993.\n",
            "   - O.L. Mangasarian, W.N. Street and W.H. Wolberg. Breast cancer diagnosis and \n",
            "     prognosis via linear programming. Operations Research, 43(4), pages 570-577, \n",
            "     July-August 1995.\n",
            "   - W.H. Wolberg, W.N. Street, and O.L. Mangasarian. Machine learning techniques\n",
            "     to diagnose breast cancer from fine-needle aspirates. Cancer Letters 77 (1994) \n",
            "     163-171.\n"
          ],
          "name": "stdout"
        }
      ]
    },
    {
      "cell_type": "code",
      "metadata": {
        "colab": {
          "base_uri": "https://localhost:8080/"
        },
        "id": "oa28qKRBsOFk",
        "outputId": "726b6e91-a382-4ee5-c748-d75ad48c8afe"
      },
      "source": [
        "# create a Decision Tree Classifier\n",
        "dt = DecisionTreeClassifier()\n",
        "dt.fit(X_train, y_train)\n",
        "print(dt)\n",
        "print(f\"Test score: {dt.score(X_test, y_test)}\")\n",
        "\n",
        "# Predict on test data\n",
        "\n",
        "y_dt_pred = dt.predict(X_test)\n",
        "print(metrics.classification_report(y_test, y_dt_pred))"
      ],
      "execution_count": 2,
      "outputs": [
        {
          "output_type": "stream",
          "text": [
            "DecisionTreeClassifier(ccp_alpha=0.0, class_weight=None, criterion='gini',\n",
            "                       max_depth=None, max_features=None, max_leaf_nodes=None,\n",
            "                       min_impurity_decrease=0.0, min_impurity_split=None,\n",
            "                       min_samples_leaf=1, min_samples_split=2,\n",
            "                       min_weight_fraction_leaf=0.0, presort='deprecated',\n",
            "                       random_state=None, splitter='best')\n",
            "Test score: 0.9064327485380117\n",
            "              precision    recall  f1-score   support\n",
            "\n",
            "           0       0.80      0.94      0.86        54\n",
            "           1       0.97      0.89      0.93       117\n",
            "\n",
            "    accuracy                           0.91       171\n",
            "   macro avg       0.88      0.92      0.90       171\n",
            "weighted avg       0.92      0.91      0.91       171\n",
            "\n"
          ],
          "name": "stdout"
        }
      ]
    },
    {
      "cell_type": "code",
      "metadata": {
        "colab": {
          "base_uri": "https://localhost:8080/"
        },
        "id": "gMtSUC1-t7eh",
        "outputId": "08150ac2-424d-423e-a4ce-f83e49141485"
      },
      "source": [
        "rf = RandomForestClassifier(n_estimators=100, \n",
        "                                bootstrap=False)\n",
        "rf.fit(X_train, y_train)\n",
        "print(rf)\n",
        "print('test score: %s' % rf.score(X_test, y_test) )\n",
        "\n",
        "# Predict on the test data\n",
        "y_rf = rf.predict(X_test)\n",
        "\n",
        "# Evaluate the error using root mean square\n",
        "print( metrics.classification_report(y_test, y_rf))"
      ],
      "execution_count": 3,
      "outputs": [
        {
          "output_type": "stream",
          "text": [
            "RandomForestClassifier(bootstrap=False, ccp_alpha=0.0, class_weight=None,\n",
            "                       criterion='gini', max_depth=None, max_features='auto',\n",
            "                       max_leaf_nodes=None, max_samples=None,\n",
            "                       min_impurity_decrease=0.0, min_impurity_split=None,\n",
            "                       min_samples_leaf=1, min_samples_split=2,\n",
            "                       min_weight_fraction_leaf=0.0, n_estimators=100,\n",
            "                       n_jobs=None, oob_score=False, random_state=None,\n",
            "                       verbose=0, warm_start=False)\n",
            "test score: 0.9415204678362573\n",
            "              precision    recall  f1-score   support\n",
            "\n",
            "           0       0.87      0.96      0.91        54\n",
            "           1       0.98      0.93      0.96       117\n",
            "\n",
            "    accuracy                           0.94       171\n",
            "   macro avg       0.92      0.95      0.93       171\n",
            "weighted avg       0.95      0.94      0.94       171\n",
            "\n"
          ],
          "name": "stdout"
        }
      ]
    },
    {
      "cell_type": "markdown",
      "metadata": {
        "id": "ZAXkx2HonFh8"
      },
      "source": [
        "## Evaluate feature importance\n",
        "One of the useful things about Random Forests is that they provide a way to automatically evaluate the importance of how much each feature contributes towards the model performance. For more on the random forests ```feature_importance``` method in scikit-learn, see https://scikit-learn.org/stable/auto_examples/ensemble/plot_forest_importances.html\n",
        "\n",
        "**Task 2** Calculate and print a sorted list of all the features used above. Select the top 10 features,  then use these to train and test a new classifier, and evaluate the result.\n"
      ]
    },
    {
      "cell_type": "code",
      "metadata": {
        "colab": {
          "base_uri": "https://localhost:8080/"
        },
        "id": "1NtvVXUgnFh9",
        "outputId": "92af5255-7873-4871-c7cd-2e73228000a0"
      },
      "source": [
        "# get features and weights\n",
        "feature_importance = sorted(zip(rf.feature_importances_, feature_names), reverse=True) \n",
        "\n",
        "# print a sorted list ofmfeature importances\n",
        "print(\"Importance \\t feature name\")\n",
        "print(\"\\n\".join([\"{} \\t\\t {}\".format(round(i,3), f) for i, f in feature_importance]))"
      ],
      "execution_count": 4,
      "outputs": [
        {
          "output_type": "stream",
          "text": [
            "Importance \t feature name\n",
            "0.182 \t\t worst area\n",
            "0.147 \t\t worst perimeter\n",
            "0.109 \t\t worst radius\n",
            "0.099 \t\t mean concave points\n",
            "0.076 \t\t worst concave points\n",
            "0.071 \t\t mean area\n",
            "0.059 \t\t mean radius\n",
            "0.038 \t\t mean perimeter\n",
            "0.028 \t\t radius error\n",
            "0.022 \t\t mean concavity\n",
            "0.022 \t\t area error\n",
            "0.021 \t\t worst concavity\n",
            "0.019 \t\t worst texture\n",
            "0.014 \t\t perimeter error\n",
            "0.012 \t\t worst smoothness\n",
            "0.011 \t\t mean texture\n",
            "0.009 \t\t worst compactness\n",
            "0.009 \t\t concavity error\n",
            "0.007 \t\t mean compactness\n",
            "0.006 \t\t mean smoothness\n",
            "0.005 \t\t worst symmetry\n",
            "0.005 \t\t worst fractal dimension\n",
            "0.005 \t\t symmetry error\n",
            "0.005 \t\t smoothness error\n",
            "0.004 \t\t texture error\n",
            "0.004 \t\t compactness error\n",
            "0.004 \t\t mean symmetry\n",
            "0.002 \t\t mean fractal dimension\n",
            "0.002 \t\t concave points error\n",
            "0.002 \t\t fractal dimension error\n"
          ],
          "name": "stdout"
        }
      ]
    },
    {
      "cell_type": "code",
      "metadata": {
        "colab": {
          "base_uri": "https://localhost:8080/",
          "height": 297
        },
        "id": "VkPbQ9374FPQ",
        "outputId": "689e2229-15bb-4d3a-fde1-3dbcee5eefd4"
      },
      "source": [
        "import pandas as pd\n",
        "importances = rf.feature_importances_\n",
        "forest_importances = pd.Series(importances,index=feature_names )\n",
        "fig, ax = plt.subplots()\n",
        "forest_importances.plot.bar()\n",
        "ax.set_title(\"Feature Importances\")\n",
        "ax.set_ylabel(\"Values\")\n",
        "fig.tight_layout()"
      ],
      "execution_count": 18,
      "outputs": [
        {
          "output_type": "display_data",
          "data": {
            "image/png": "[encoded data removed]",
            "text/plain": [
              "<Figure size 432x288 with 1 Axes>"
            ]
          },
          "metadata": {
            "tags": [],
            "needs_background": "light"
          }
        }
      ]
    },
    {
      "cell_type": "code",
      "metadata": {
        "id": "wcDMJOP7nFh9"
      },
      "source": [
        "# evaluate using only top 10 features\n",
        "selection = [f for (i,f) in feature_importance[:10]]"
      ],
      "execution_count": 5,
      "outputs": []
    },
    {
      "cell_type": "code",
      "metadata": {
        "colab": {
          "base_uri": "https://localhost:8080/"
        },
        "id": "ifGJVtZDy95q",
        "outputId": "5a988961-4510-4510-f452-333f7c5c82a4"
      },
      "source": [
        "selection"
      ],
      "execution_count": 6,
      "outputs": [
        {
          "output_type": "execute_result",
          "data": {
            "text/plain": [
              "['worst area',\n",
              " 'worst perimeter',\n",
              " 'worst radius',\n",
              " 'mean concave points',\n",
              " 'worst concave points',\n",
              " 'mean area',\n",
              " 'mean radius',\n",
              " 'mean perimeter',\n",
              " 'radius error',\n",
              " 'mean concavity']"
            ]
          },
          "metadata": {
            "tags": []
          },
          "execution_count": 6
        }
      ]
    },
    {
      "cell_type": "code",
      "metadata": {
        "colab": {
          "base_uri": "https://localhost:8080/"
        },
        "id": "toQu7JYsy_JX",
        "outputId": "193cd40f-991b-4a6d-c366-38b62e74cabb"
      },
      "source": [
        "# find indexes for those features\n",
        "selected_indices = [[x for x in feature_names].index(f) for f in selection]\n",
        "selected_indices"
      ],
      "execution_count": 7,
      "outputs": [
        {
          "output_type": "execute_result",
          "data": {
            "text/plain": [
              "[23, 22, 20, 7, 27, 3, 0, 2, 10, 6]"
            ]
          },
          "metadata": {
            "tags": []
          },
          "execution_count": 7
        }
      ]
    },
    {
      "cell_type": "code",
      "metadata": {
        "id": "r8eszj0hzVPb"
      },
      "source": [
        "# retrieve data using the ondices\n",
        "\n",
        "X2 = [d[selected_indices] for d in breast_cancer.data]\n"
      ],
      "execution_count": 9,
      "outputs": []
    },
    {
      "cell_type": "code",
      "metadata": {
        "colab": {
          "base_uri": "https://localhost:8080/"
        },
        "id": "ThQ26Sdc0EZk",
        "outputId": "17db553d-68d5-4616-e1c3-cb38636b42d9"
      },
      "source": [
        "feature_names2 = breast_cancer.feature_names[selected_indices]\n",
        "feature_names2"
      ],
      "execution_count": 10,
      "outputs": [
        {
          "output_type": "execute_result",
          "data": {
            "text/plain": [
              "array(['worst area', 'worst perimeter', 'worst radius',\n",
              "       'mean concave points', 'worst concave points', 'mean area',\n",
              "       'mean radius', 'mean perimeter', 'radius error', 'mean concavity'],\n",
              "      dtype='<U23')"
            ]
          },
          "metadata": {
            "tags": []
          },
          "execution_count": 10
        }
      ]
    },
    {
      "cell_type": "code",
      "metadata": {
        "id": "Mb8SOVyr0SsH"
      },
      "source": [
        "# separate data into training and test sets\n",
        "\n",
        "X2_train, X2_test, y_train, y_test = train_test_split(X2, y, test_size = 0.3, random_state=4) "
      ],
      "execution_count": 12,
      "outputs": []
    },
    {
      "cell_type": "code",
      "metadata": {
        "colab": {
          "base_uri": "https://localhost:8080/"
        },
        "id": "qFMj7sKu0qz5",
        "outputId": "e58f5f2f-6448-4110-8a9c-8975bd89bad8"
      },
      "source": [
        "# create a decision tree classifier and train it on the data\n",
        "dt = DecisionTreeClassifier()\n",
        "dt.fit(X2_train, y_train)\n",
        "print(dt)\n",
        "print(f\"Test Score: {dt.score(X2_test, y_test)}\")\n",
        "\n",
        "# predict on test data\n",
        "\n",
        "y_dt = dt.predict(X2_test)\n",
        "print(metrics.classification_report(y_test, y_dt))"
      ],
      "execution_count": 13,
      "outputs": [
        {
          "output_type": "stream",
          "text": [
            "DecisionTreeClassifier(ccp_alpha=0.0, class_weight=None, criterion='gini',\n",
            "                       max_depth=None, max_features=None, max_leaf_nodes=None,\n",
            "                       min_impurity_decrease=0.0, min_impurity_split=None,\n",
            "                       min_samples_leaf=1, min_samples_split=2,\n",
            "                       min_weight_fraction_leaf=0.0, presort='deprecated',\n",
            "                       random_state=None, splitter='best')\n",
            "Test Score: 0.9064327485380117\n",
            "              precision    recall  f1-score   support\n",
            "\n",
            "           0       0.82      0.91      0.86        54\n",
            "           1       0.95      0.91      0.93       117\n",
            "\n",
            "    accuracy                           0.91       171\n",
            "   macro avg       0.89      0.91      0.89       171\n",
            "weighted avg       0.91      0.91      0.91       171\n",
            "\n"
          ],
          "name": "stdout"
        }
      ]
    },
    {
      "cell_type": "code",
      "metadata": {
        "id": "MuMOTQ9r1QUC"
      },
      "source": [
        " "
      ],
      "execution_count": null,
      "outputs": []
    }
  ]
}