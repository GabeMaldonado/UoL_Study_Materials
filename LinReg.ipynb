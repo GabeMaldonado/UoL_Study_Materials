{
  "nbformat": 4,
  "nbformat_minor": 0,
  "metadata": {
    "kernelspec": {
      "display_name": "Python 3",
      "language": "python",
      "name": "python3"
    },
    "language_info": {
      "codemirror_mode": {
        "name": "ipython",
        "version": 3
      },
      "file_extension": ".py",
      "mimetype": "text/x-python",
      "name": "python",
      "nbconvert_exporter": "python",
      "pygments_lexer": "ipython3",
      "version": "3.7.6"
    },
    "colab": {
      "name": "LinReg.ipynb",
      "provenance": [],
      "include_colab_link": true
    }
  },
  "cells": [
    {
      "cell_type": "markdown",
      "metadata": {
        "id": "view-in-github",
        "colab_type": "text"
      },
      "source": [
        "<a href=\"https://colab.research.google.com/github/GabeMaldonado/UoL_Study_Materials/blob/main/LinReg.ipynb\" target=\"_parent\"><img src=\"https://colab.research.google.com/assets/colab-badge.svg\" alt=\"Open In Colab\"/></a>"
      ]
    },
    {
      "cell_type": "markdown",
      "metadata": {
        "id": "cKUTRLW8pT-D"
      },
      "source": [
        "### Import Libraries"
      ]
    },
    {
      "cell_type": "code",
      "metadata": {
        "colab": {
          "base_uri": "https://localhost:8080/"
        },
        "id": "iA483RyYpT-F",
        "outputId": "b5a96b0d-7477-4757-b6f9-42036d9323d6"
      },
      "source": [
        "import numpy as np\n",
        "import pandas as pd\n",
        "import matplotlib.pyplot as plt\n",
        "from scipy.optimize import curve_fit\n",
        "from scipy.stats import linregress \n",
        "from sklearn.linear_model import LinearRegression\n",
        "from sklearn.model_selection import train_test_split\n",
        "import statsmodels.api as sm"
      ],
      "execution_count": 1,
      "outputs": [
        {
          "output_type": "stream",
          "name": "stderr",
          "text": [
            "/usr/local/lib/python3.7/dist-packages/statsmodels/tools/_testing.py:19: FutureWarning: pandas.util.testing is deprecated. Use the functions in the public API at pandas.testing instead.\n",
            "  import pandas.util.testing as tm\n"
          ]
        }
      ]
    },
    {
      "cell_type": "markdown",
      "metadata": {
        "id": "YlT3Q9hLpT-G"
      },
      "source": [
        "### Simple Data for Simple Linear Regression"
      ]
    },
    {
      "cell_type": "code",
      "metadata": {
        "id": "m9NilAYKpT-H"
      },
      "source": [
        "# Independent variable\n",
        "x = np.array([210,290,250,500,310,430,455,380,535,510])\n",
        "# Dependent variable\n",
        "y = np.array([5,7,6,13,8,11,12,10,15,14])\n"
      ],
      "execution_count": 2,
      "outputs": []
    },
    {
      "cell_type": "markdown",
      "metadata": {
        "id": "3fe0N5JopT-H"
      },
      "source": [
        "### Plot Data"
      ]
    },
    {
      "cell_type": "code",
      "metadata": {
        "colab": {
          "base_uri": "https://localhost:8080/",
          "height": 533
        },
        "id": "hmYFDmjbpT-H",
        "outputId": "8a0762af-dfaf-4c77-cd13-6bb3c58d3811"
      },
      "source": [
        "#Plot the data along\n",
        "plt.figure(figsize=(6,6), dpi=100)\n",
        "plt.plot(x, y, 'o', label='original data')\n",
        "plt.xlabel('Distance in KM') # X axis data label\n",
        "plt.ylabel('Delivery Time in Days') # Y axis data label\n",
        "plt.legend()\n",
        "plt.show()"
      ],
      "execution_count": 3,
      "outputs": [
        {
          "output_type": "display_data",
          "data": {
            "image/png": "[encoded data removed]",
            "text/plain": [
              "<Figure size 600x600 with 1 Axes>"
            ]
          },
          "metadata": {
            "needs_background": "light"
          }
        }
      ]
    },
    {
      "cell_type": "code",
      "metadata": {
        "colab": {
          "base_uri": "https://localhost:8080/"
        },
        "id": "WLIYLBd-pT-H",
        "outputId": "3c5e931b-ebed-49ec-d588-dd17f7cab512"
      },
      "source": [
        "# Means of indep and dep variables\n",
        "xbar = np.mean(x)\n",
        "ybar = np.mean(y)\n",
        "# Apply equations to find b and a\n",
        "b = np.sum((x - xbar)*(y - ybar)) / np.sum((x - xbar)**2)\n",
        "a = ybar - b * xbar\n",
        "# Plug in the values of the dep variable into the line equation to obtain yhat\n",
        "yhat = a + b * x\n",
        "\n",
        "# Compute the error (i.e. residuals)\n",
        "error = y - yhat\n",
        "\n",
        "# Compute metrics\n",
        "SE = error**2 # squared error\n",
        "MSE = np.mean(SE) # mean squared error\n",
        "RMSE = np.sqrt(MSE) # Root Mean Squared Error, RMSE\n",
        "\n",
        "SST = np.sum((y - ybar)**2)\n",
        "SSR = np.sum((yhat - ybar)**2)\n",
        "Rsquared = SSR/SST\n",
        "print('RMSE =',RMSE)\n",
        "print('Rsquared =',Rsquared)\n",
        "# This should give you the same result for Rsquared\n",
        "#Rsquared = 1.0 - (np.var(error) / np.var(y))"
      ],
      "execution_count": 4,
      "outputs": [
        {
          "output_type": "stream",
          "name": "stdout",
          "text": [
            "RMSE = 0.2826568151739089\n",
            "Rsquared = 0.9926634641722439\n"
          ]
        }
      ]
    },
    {
      "cell_type": "code",
      "metadata": {
        "colab": {
          "base_uri": "https://localhost:8080/",
          "height": 533
        },
        "id": "ddt68j1qpT-I",
        "outputId": "563e4dcc-52b4-4cca-8d27-1d33afc345f1"
      },
      "source": [
        "#Plot the data along with the fitted line:\n",
        "plt.figure(figsize=(6,6), dpi=100)\n",
        "plt.plot(x, y, 'o', label='original data')\n",
        "plt.plot(x, yhat, 's', label='predicted data')\n",
        "plt.xlabel('Distance in KM') # X axis data label\n",
        "plt.ylabel('Delivery Time in Days') # Y axis data label\n",
        "plt.legend()\n",
        "plt.show()"
      ],
      "execution_count": 5,
      "outputs": [
        {
          "output_type": "display_data",
          "data": {
            "image/png": "[encoded data removed]",
            "text/plain": [
              "<Figure size 600x600 with 1 Axes>"
            ]
          },
          "metadata": {
            "needs_background": "light"
          }
        }
      ]
    },
    {
      "cell_type": "markdown",
      "metadata": {
        "id": "zJPdsB5MpT-I"
      },
      "source": [
        "### Plot original points, fitted line and residuals"
      ]
    },
    {
      "cell_type": "code",
      "metadata": {
        "colab": {
          "base_uri": "https://localhost:8080/",
          "height": 533
        },
        "id": "zM1eRzJEpT-I",
        "outputId": "0fc4b6f3-d74d-415f-bfca-0ded6dae170b"
      },
      "source": [
        "\n",
        "f = plt.figure(figsize=(6,6), dpi=100)\n",
        "axes = f.add_subplot(111)\n",
        "\n",
        "# first the raw data as a scatter plot\n",
        "axes.plot(x, y,  'o')\n",
        "\n",
        "# now the model as a line plot\n",
        "axes.plot(x, yhat)\n",
        "\n",
        "# now add individual line for each point\n",
        "for i in range(len(x)):\n",
        "    lineXdata = (x[i], x[i]) # same X\n",
        "    lineYdata = (y[i], yhat[i]) # different Y\n",
        "    plt.plot(lineXdata, lineYdata)\n",
        "\n",
        "axes.set_xlabel('X Data') # X axis data label\n",
        "axes.set_ylabel('Y Data') # Y axis data label\n",
        "\n",
        "plt.show()"
      ],
      "execution_count": 6,
      "outputs": [
        {
          "output_type": "display_data",
          "data": {
            "image/png": "[encoded data removed]",
            "text/plain": [
              "<Figure size 600x600 with 1 Axes>"
            ]
          },
          "metadata": {
            "needs_background": "light"
          }
        }
      ]
    },
    {
      "cell_type": "markdown",
      "metadata": {
        "id": "FOA7pAE3pT-J"
      },
      "source": [
        "### Use existing package to fit model and confirm results"
      ]
    },
    {
      "cell_type": "code",
      "metadata": {
        "colab": {
          "base_uri": "https://localhost:8080/"
        },
        "id": "yQ6BRTpUpT-J",
        "outputId": "71227df2-109c-4ae0-e756-51a91ac4f7a9"
      },
      "source": [
        "# function to apply simple linear regression\n",
        "def func(x, b, a):\n",
        "    return a + b*x\n",
        "\n",
        "# curve fit the data\n",
        "fitted_params, pcov = curve_fit(func, x, y)\n",
        "\n",
        "model_predictions = func(x, *fitted_params) \n",
        "\n",
        "absError = model_predictions - y\n",
        "\n",
        "SE = np.square(absError) # squared errors\n",
        "MSE = np.mean(SE) # mean squared errors\n",
        "RMSE = np.sqrt(MSE) # Root Mean Squared Error, RMSE\n",
        "Rsquared = 1.0 - (np.var(absError) / np.var(y))\n",
        "print('RMSE =', RMSE)\n",
        "print('Rsquared=', Rsquared)"
      ],
      "execution_count": 7,
      "outputs": [
        {
          "output_type": "stream",
          "name": "stdout",
          "text": [
            "RMSE = 0.28265681517390934\n",
            "Rsquared= 0.9926634641722445\n"
          ]
        }
      ]
    },
    {
      "cell_type": "markdown",
      "metadata": {
        "id": "PtVwol4cpT-J"
      },
      "source": [
        "### Use another existing package to fit model and confirm results"
      ]
    },
    {
      "cell_type": "code",
      "metadata": {
        "colab": {
          "base_uri": "https://localhost:8080/",
          "height": 584
        },
        "id": "1eHnqoRgpT-K",
        "outputId": "40a62532-696d-4d3c-b815-0d42dd7b3068"
      },
      "source": [
        "slope, intercept, r_value, p_value, std_err = linregress(x, y)\n",
        "print(\"slope: %f    intercept: %f\" % (slope, intercept))\n",
        "print(\"p-value: \", p_value/2)\n",
        "#To get coefficient of determination (R-squared):\n",
        "print(\"Rsquared: %f\" % r_value**2)\n",
        "\n",
        "\n",
        "#Plot the data along with the fitted line:\n",
        "plt.figure(figsize=(6,6), dpi=100)\n",
        "plt.plot(x, y, 'o', label='original data')\n",
        "plt.plot(x, intercept + slope*x, 'r', label='fitted line')\n",
        "plt.xlabel('Distance in KM') # X axis data label\n",
        "plt.ylabel('Delivery Time in Days') # Y axis data label\n",
        "plt.legend()\n",
        "plt.show()"
      ],
      "execution_count": 8,
      "outputs": [
        {
          "output_type": "stream",
          "name": "stdout",
          "text": [
            "slope: 0.029796    intercept: -1.431176\n",
            "p-value:  3.972562401998908e-10\n",
            "Rsquared: 0.992663\n"
          ]
        },
        {
          "output_type": "display_data",
          "data": {
            "image/png": "[encoded data removed]",
            "text/plain": [
              "<Figure size 600x600 with 1 Axes>"
            ]
          },
          "metadata": {
            "needs_background": "light"
          }
        }
      ]
    },
    {
      "cell_type": "markdown",
      "metadata": {
        "id": "4001mbaSpT-K"
      },
      "source": [
        "## Multiple Linear Regression\n",
        "\n",
        "1. We would like to investigate the pasture rent structure with respect to the grass variety over\n",
        "   various districts in Minnesota. The data set “pasture-data.csv” provides 67 rows of data.\n",
        "2. The data columns include:\n",
        "    - I, index\n",
        "    - X1, the rent per arable acre (dollars)\n",
        "    - X2, the number of milk cows per square mile\n",
        "    - X3, the difference between pasturage and arable land\n",
        "    - Y, the rental price per acre for this variety of grass (dollars)\n",
        "3. We seek a model of the form:\n",
        "      Y = B0 + B1 * X1 + B2 * X2 + B3 * X3"
      ]
    },
    {
      "cell_type": "code",
      "metadata": {
        "id": "em40N6CypT-K"
      },
      "source": [
        "# load the data\n",
        "data = pd.read_csv(\"pasture-data.csv\")"
      ],
      "execution_count": 10,
      "outputs": []
    },
    {
      "cell_type": "code",
      "metadata": {
        "colab": {
          "base_uri": "https://localhost:8080/",
          "height": 419
        },
        "id": "2pieeyrHpT-K",
        "outputId": "dccaa3a2-cea2-45d4-d023-126939029d4d"
      },
      "source": [
        "data"
      ],
      "execution_count": 11,
      "outputs": [
        {
          "output_type": "execute_result",
          "data": {
            "text/html": [
              "<div>\n",
              "<style scoped>\n",
              "    .dataframe tbody tr th:only-of-type {\n",
              "        vertical-align: middle;\n",
              "    }\n",
              "\n",
              "    .dataframe tbody tr th {\n",
              "        vertical-align: top;\n",
              "    }\n",
              "\n",
              "    .dataframe thead th {\n",
              "        text-align: right;\n",
              "    }\n",
              "</style>\n",
              "<table border=\"1\" class=\"dataframe\">\n",
              "  <thead>\n",
              "    <tr style=\"text-align: right;\">\n",
              "      <th></th>\n",
              "      <th>I</th>\n",
              "      <th>X1</th>\n",
              "      <th>X2</th>\n",
              "      <th>X3</th>\n",
              "      <th>Y</th>\n",
              "    </tr>\n",
              "  </thead>\n",
              "  <tbody>\n",
              "    <tr>\n",
              "      <th>0</th>\n",
              "      <td>1</td>\n",
              "      <td>15.50</td>\n",
              "      <td>17.25</td>\n",
              "      <td>0.24</td>\n",
              "      <td>18.38</td>\n",
              "    </tr>\n",
              "    <tr>\n",
              "      <th>1</th>\n",
              "      <td>2</td>\n",
              "      <td>22.29</td>\n",
              "      <td>18.51</td>\n",
              "      <td>0.20</td>\n",
              "      <td>20.00</td>\n",
              "    </tr>\n",
              "    <tr>\n",
              "      <th>2</th>\n",
              "      <td>3</td>\n",
              "      <td>12.36</td>\n",
              "      <td>11.13</td>\n",
              "      <td>0.12</td>\n",
              "      <td>11.50</td>\n",
              "    </tr>\n",
              "    <tr>\n",
              "      <th>3</th>\n",
              "      <td>4</td>\n",
              "      <td>31.84</td>\n",
              "      <td>5.54</td>\n",
              "      <td>0.12</td>\n",
              "      <td>25.00</td>\n",
              "    </tr>\n",
              "    <tr>\n",
              "      <th>4</th>\n",
              "      <td>5</td>\n",
              "      <td>83.90</td>\n",
              "      <td>5.44</td>\n",
              "      <td>0.04</td>\n",
              "      <td>62.50</td>\n",
              "    </tr>\n",
              "    <tr>\n",
              "      <th>...</th>\n",
              "      <td>...</td>\n",
              "      <td>...</td>\n",
              "      <td>...</td>\n",
              "      <td>...</td>\n",
              "      <td>...</td>\n",
              "    </tr>\n",
              "    <tr>\n",
              "      <th>62</th>\n",
              "      <td>63</td>\n",
              "      <td>17.17</td>\n",
              "      <td>24.16</td>\n",
              "      <td>0.36</td>\n",
              "      <td>22.50</td>\n",
              "    </tr>\n",
              "    <tr>\n",
              "      <th>63</th>\n",
              "      <td>64</td>\n",
              "      <td>82.00</td>\n",
              "      <td>7.89</td>\n",
              "      <td>0.03</td>\n",
              "      <td>90.00</td>\n",
              "    </tr>\n",
              "    <tr>\n",
              "      <th>64</th>\n",
              "      <td>65</td>\n",
              "      <td>40.60</td>\n",
              "      <td>3.27</td>\n",
              "      <td>0.02</td>\n",
              "      <td>28.00</td>\n",
              "    </tr>\n",
              "    <tr>\n",
              "      <th>65</th>\n",
              "      <td>66</td>\n",
              "      <td>53.89</td>\n",
              "      <td>53.16</td>\n",
              "      <td>0.24</td>\n",
              "      <td>50.00</td>\n",
              "    </tr>\n",
              "    <tr>\n",
              "      <th>66</th>\n",
              "      <td>67</td>\n",
              "      <td>54.17</td>\n",
              "      <td>5.57</td>\n",
              "      <td>0.06</td>\n",
              "      <td>24.50</td>\n",
              "    </tr>\n",
              "  </tbody>\n",
              "</table>\n",
              "<p>67 rows × 5 columns</p>\n",
              "</div>"
            ],
            "text/plain": [
              "     I     X1     X2    X3      Y\n",
              "0    1  15.50  17.25  0.24  18.38\n",
              "1    2  22.29  18.51  0.20  20.00\n",
              "2    3  12.36  11.13  0.12  11.50\n",
              "3    4  31.84   5.54  0.12  25.00\n",
              "4    5  83.90   5.44  0.04  62.50\n",
              "..  ..    ...    ...   ...    ...\n",
              "62  63  17.17  24.16  0.36  22.50\n",
              "63  64  82.00   7.89  0.03  90.00\n",
              "64  65  40.60   3.27  0.02  28.00\n",
              "65  66  53.89  53.16  0.24  50.00\n",
              "66  67  54.17   5.57  0.06  24.50\n",
              "\n",
              "[67 rows x 5 columns]"
            ]
          },
          "metadata": {},
          "execution_count": 11
        }
      ]
    },
    {
      "cell_type": "code",
      "metadata": {
        "id": "E8T4EPkcpT-L"
      },
      "source": [
        "# get x data .. only features, no index and outcome variables\n",
        "X = data.iloc[:,1:-1]\n",
        "\n",
        "# this is the outcome variable\n",
        "y = data.iloc[:,-1]\n",
        "\n",
        "# Create the train and test data\n",
        "X_train, X_test, y_train, y_test = train_test_split(X, y, test_size=0.5)\n",
        "\n",
        "\n",
        "# Create linear regression object\n",
        "regr = LinearRegression()\n",
        "\n",
        "# Train the model using the training sets\n",
        "regr.fit(X_train, y_train)\n",
        "\n",
        "# Make predictions using the testing set\n",
        "y_pred = regr.predict(X_test)\n",
        "\n",
        "# Compute residuals\n",
        "residuals = (y_test - y_pred)\n"
      ],
      "execution_count": 12,
      "outputs": []
    },
    {
      "cell_type": "markdown",
      "metadata": {
        "id": "9enLrQIvpT-L"
      },
      "source": [
        "### Plot residuals "
      ]
    },
    {
      "cell_type": "code",
      "metadata": {
        "colab": {
          "base_uri": "https://localhost:8080/",
          "height": 265
        },
        "id": "FjKHkHbspT-L",
        "outputId": "ee14017d-89dd-4f0c-fb60-ed0ad4abc1a8"
      },
      "source": [
        "# Plot residuals\n",
        "plt.scatter(range(len(residuals)),residuals)\n",
        "plt.axhline(y=0, color='r', linestyle='-')\n",
        "plt.show()"
      ],
      "execution_count": 13,
      "outputs": [
        {
          "output_type": "display_data",
          "data": {
            "image/png": "[encoded data removed]",
            "text/plain": [
              "<Figure size 432x288 with 1 Axes>"
            ]
          },
          "metadata": {
            "needs_background": "light"
          }
        }
      ]
    },
    {
      "cell_type": "code",
      "metadata": {
        "colab": {
          "base_uri": "https://localhost:8080/",
          "height": 265
        },
        "id": "N2NObWpNpT-L",
        "outputId": "bf5e1bc3-4ada-440b-d5a3-6600852c713b"
      },
      "source": [
        "# Plot residuals\n",
        "plt.hist(residuals)\n",
        "plt.show()"
      ],
      "execution_count": 14,
      "outputs": [
        {
          "output_type": "display_data",
          "data": {
            "image/png": "[encoded data removed]",
            "text/plain": [
              "<Figure size 432x288 with 1 Axes>"
            ]
          },
          "metadata": {
            "needs_background": "light"
          }
        }
      ]
    },
    {
      "cell_type": "markdown",
      "metadata": {
        "id": "-yboXyR6pT-L"
      },
      "source": [
        "### Obtain details of significance tests and CIs"
      ]
    },
    {
      "cell_type": "code",
      "metadata": {
        "colab": {
          "base_uri": "https://localhost:8080/",
          "height": 338
        },
        "id": "OvqqZ9yupT-M",
        "outputId": "bfb28f9a-cf4f-4bc6-bc79-aaaf0caa62f3"
      },
      "source": [
        "mod = sm.OLS(y,X)\n",
        "model = mod.fit()\n",
        "model.summary2()"
      ],
      "execution_count": 15,
      "outputs": [
        {
          "output_type": "execute_result",
          "data": {
            "text/html": [
              "<table class=\"simpletable\">\n",
              "<tr>\n",
              "          <td>Model:</td>                 <td>OLS</td>       <td>Adj. R-squared (uncentered):</td>   <td>0.966</td> \n",
              "</tr>\n",
              "<tr>\n",
              "    <td>Dependent Variable:</td>           <td>Y</td>                    <td>AIC:</td>             <td>486.0090</td>\n",
              "</tr>\n",
              "<tr>\n",
              "           <td>Date:</td>          <td>2021-10-21 02:20</td>             <td>BIC:</td>             <td>492.6231</td>\n",
              "</tr>\n",
              "<tr>\n",
              "     <td>No. Observations:</td>           <td>67</td>               <td>Log-Likelihood:</td>        <td>-240.00</td>\n",
              "</tr>\n",
              "<tr>\n",
              "         <td>Df Model:</td>                <td>3</td>                <td>F-statistic:</td>           <td>631.7</td> \n",
              "</tr>\n",
              "<tr>\n",
              "       <td>Df Residuals:</td>             <td>64</td>             <td>Prob (F-statistic):</td>     <td>1.80e-47</td>\n",
              "</tr>\n",
              "<tr>\n",
              "  <td>R-squared (uncentered):</td>       <td>0.967</td>                 <td>Scale:</td>             <td>79.221</td> \n",
              "</tr>\n",
              "</table>\n",
              "<table class=\"simpletable\">\n",
              "<tr>\n",
              "   <td></td>    <th>Coef.</th>  <th>Std.Err.</th>    <th>t</th>     <th>P>|t|</th>  <th>[0.025</th>  <th>0.975]</th> \n",
              "</tr>\n",
              "<tr>\n",
              "  <th>X1</th>  <td>0.8349</td>   <td>0.0333</td>  <td>25.0660</td> <td>0.0000</td>  <td>0.7684</td>  <td>0.9014</td> \n",
              "</tr>\n",
              "<tr>\n",
              "  <th>X2</th>  <td>0.4648</td>   <td>0.0912</td>  <td>5.0940</td>  <td>0.0000</td>  <td>0.2825</td>  <td>0.6471</td> \n",
              "</tr>\n",
              "<tr>\n",
              "  <th>X3</th> <td>-19.5200</td>  <td>8.5094</td>  <td>-2.2939</td> <td>0.0251</td> <td>-36.5194</td> <td>-2.5205</td>\n",
              "</tr>\n",
              "</table>\n",
              "<table class=\"simpletable\">\n",
              "<tr>\n",
              "     <td>Omnibus:</td>    <td>7.916</td>  <td>Durbin-Watson:</td>   <td>2.288</td>\n",
              "</tr>\n",
              "<tr>\n",
              "  <td>Prob(Omnibus):</td> <td>0.019</td> <td>Jarque-Bera (JB):</td> <td>7.601</td>\n",
              "</tr>\n",
              "<tr>\n",
              "       <td>Skew:</td>     <td>0.635</td>     <td>Prob(JB):</td>     <td>0.022</td>\n",
              "</tr>\n",
              "<tr>\n",
              "     <td>Kurtosis:</td>   <td>4.053</td>  <td>Condition No.:</td>    <td>411</td> \n",
              "</tr>\n",
              "</table>"
            ],
            "text/plain": [
              "<class 'statsmodels.iolib.summary2.Summary'>\n",
              "\"\"\"\n",
              "                       Results: Ordinary least squares\n",
              "==============================================================================\n",
              "Model:                  OLS              Adj. R-squared (uncentered): 0.966   \n",
              "Dependent Variable:     Y                AIC:                         486.0090\n",
              "Date:                   2021-10-21 02:20 BIC:                         492.6231\n",
              "No. Observations:       67               Log-Likelihood:              -240.00 \n",
              "Df Model:               3                F-statistic:                 631.7   \n",
              "Df Residuals:           64               Prob (F-statistic):          1.80e-47\n",
              "R-squared (uncentered): 0.967            Scale:                       79.221  \n",
              "-----------------------------------------------------------------------------------\n",
              "          Coef.        Std.Err.         t         P>|t|        [0.025        0.975]\n",
              "-----------------------------------------------------------------------------------\n",
              "X1         0.8349        0.0333      25.0660      0.0000        0.7684       0.9014\n",
              "X2         0.4648        0.0912       5.0940      0.0000        0.2825       0.6471\n",
              "X3       -19.5200        8.5094      -2.2939      0.0251      -36.5194      -2.5205\n",
              "------------------------------------------------------------------------------\n",
              "Omnibus:                   7.916            Durbin-Watson:               2.288\n",
              "Prob(Omnibus):             0.019            Jarque-Bera (JB):            7.601\n",
              "Skew:                      0.635            Prob(JB):                    0.022\n",
              "Kurtosis:                  4.053            Condition No.:               411  \n",
              "==============================================================================\n",
              "\n",
              "\"\"\""
            ]
          },
          "metadata": {},
          "execution_count": 15
        }
      ]
    },
    {
      "cell_type": "code",
      "metadata": {
        "id": "788ZbpagpT-M"
      },
      "source": [
        ""
      ],
      "execution_count": 15,
      "outputs": []
    }
  ]
}