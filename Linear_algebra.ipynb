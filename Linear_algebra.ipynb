{
  "nbformat": 4,
  "nbformat_minor": 0,
  "metadata": {
    "kernelspec": {
      "display_name": "Python 3",
      "language": "python",
      "name": "python3"
    },
    "language_info": {
      "codemirror_mode": {
        "name": "ipython",
        "version": 3
      },
      "file_extension": ".py",
      "mimetype": "text/x-python",
      "name": "python",
      "nbconvert_exporter": "python",
      "pygments_lexer": "ipython3",
      "version": "3.7.3"
    },
    "colab": {
      "name": "Linear algebra.ipynb",
      "provenance": [],
      "collapsed_sections": [],
      "include_colab_link": true
    }
  },
  "cells": [
    {
      "cell_type": "markdown",
      "metadata": {
        "id": "view-in-github",
        "colab_type": "text"
      },
      "source": [
        "<a href=\"https://colab.research.google.com/github/GabeMaldonado/UoL_Study_Materials/blob/main/Linear_algebra.ipynb\" target=\"_parent\"><img src=\"https://colab.research.google.com/assets/colab-badge.svg\" alt=\"Open In Colab\"/></a>"
      ]
    },
    {
      "cell_type": "markdown",
      "metadata": {
        "id": "GpoKIgjsV4GN"
      },
      "source": [
        "# More on linear algebra\n",
        "## Instructions:\n",
        "* Go through the notebook and complete the tasks. \n",
        "* Make sure you understand the examples given. If you need help, refer to the Essential readings or the documentation link provided, or go to the Topic 2 discussion forum. \n",
        "* When a question allows a free-form answer (e.g. what do you observe?), create a new markdown cell below and answer the question in the notebook. \n",
        "* Save your notebooks when you are done.\n",
        " \n",
        "**Task 1:**\n",
        "Go through the tutorial on Linear Algebra in Python here: http://ml-cheatsheet.readthedocs.io/en/latest/linear_algebra.html.\n",
        "Paste and run the code from the tutorial in the empty cell below (or create new empty cells below) to get more familiar with the material.\n"
      ]
    },
    {
      "cell_type": "code",
      "metadata": {
        "id": "p3F8KXE_V4GP"
      },
      "source": [
        "import numpy as np\n",
        "\n",
        "#Code here - use code samples from link above"
      ],
      "execution_count": null,
      "outputs": []
    },
    {
      "cell_type": "code",
      "metadata": {
        "colab": {
          "base_uri": "https://localhost:8080/"
        },
        "id": "A7k0-x6BWUNI",
        "outputId": "cf343305-2781-485c-bb61-6d9e872fa786"
      },
      "source": [
        "# Element-wise operations\n",
        "y = np.array([1,2,3])\n",
        "x = np.array([2,3,4])\n",
        "print(y + x)\n",
        "#[3, 5, 7]\n",
        "print(y - x)\n",
        "#= [-1, -1, -1]\n",
        "print(y / x)\n",
        "# = [.5, .67, .75]\n"
      ],
      "execution_count": null,
      "outputs": [
        {
          "output_type": "stream",
          "text": [
            "[3 5 7]\n",
            "[-1 -1 -1]\n",
            "[0.5        0.66666667 0.75      ]\n"
          ],
          "name": "stdout"
        }
      ]
    },
    {
      "cell_type": "code",
      "metadata": {
        "colab": {
          "base_uri": "https://localhost:8080/"
        },
        "id": "cy_3jEcWW9PA",
        "outputId": "c184c532-88c0-4d1b-9a75-f0f1926796f0"
      },
      "source": [
        "# Dot Product\n",
        "y = np.array([1,2,3])\n",
        "x = np.array([2,3,4])\n",
        "print(np.dot(y,x))"
      ],
      "execution_count": null,
      "outputs": [
        {
          "output_type": "stream",
          "text": [
            "20\n"
          ],
          "name": "stdout"
        }
      ]
    },
    {
      "cell_type": "code",
      "metadata": {
        "colab": {
          "base_uri": "https://localhost:8080/"
        },
        "id": "ct6ENQlqXHdx",
        "outputId": "0b34084e-469f-4abd-a32a-318f2c236c2b"
      },
      "source": [
        "# Hadamard Product\n",
        "y = np.array([1,2,3])\n",
        "x = np.array([2,3,4])\n",
        "print(y * x )"
      ],
      "execution_count": null,
      "outputs": [
        {
          "output_type": "stream",
          "text": [
            "[ 2  6 12]\n"
          ],
          "name": "stdout"
        }
      ]
    },
    {
      "cell_type": "code",
      "metadata": {
        "colab": {
          "base_uri": "https://localhost:8080/"
        },
        "id": "Ep1ApR-0XRAY",
        "outputId": "0db5a670-280d-445d-a3e8-be3c620296dd"
      },
      "source": [
        "# Matrices\n",
        "\n",
        "a = np.array([\n",
        " [1,2,3],\n",
        " [4,5,6]\n",
        "])\n",
        "a.shape == (2,3)\n",
        "b = np.array([\n",
        " [1,2,3]\n",
        "])\n",
        "b.shape == (1,3)\n"
      ],
      "execution_count": null,
      "outputs": [
        {
          "output_type": "execute_result",
          "data": {
            "text/plain": [
              "True"
            ]
          },
          "metadata": {
            "tags": []
          },
          "execution_count": 7
        }
      ]
    },
    {
      "cell_type": "code",
      "metadata": {
        "colab": {
          "base_uri": "https://localhost:8080/"
        },
        "id": "u1Laqo4-XUqW",
        "outputId": "ab6a5ac9-c42c-459a-fe78-b291d7920f22"
      },
      "source": [
        "# Scalar Operations\n",
        "\n",
        "# Addition\n",
        "a = np.array(\n",
        "[[1,2],\n",
        " [3,4]])\n",
        "a + 1\n",
        "[[2,3],\n",
        " [4,5]]"
      ],
      "execution_count": null,
      "outputs": [
        {
          "output_type": "execute_result",
          "data": {
            "text/plain": [
              "[[2, 3], [4, 5]]"
            ]
          },
          "metadata": {
            "tags": []
          },
          "execution_count": 8
        }
      ]
    },
    {
      "cell_type": "code",
      "metadata": {
        "colab": {
          "base_uri": "https://localhost:8080/"
        },
        "id": "dCMCNqW6XbEy",
        "outputId": "5251e071-1566-4c8c-c851-5c4bf98b6dfa"
      },
      "source": [
        "a = np.array([\n",
        " [1,2],\n",
        " [3,4]])\n",
        "b = np.array([\n",
        " [1,2],\n",
        " [3,4]])\n",
        "\n",
        "print(a + b)\n",
        "\n",
        "#[[2, 4],\n",
        "# [6, 8]]\n",
        "\n",
        "print(a - b)\n",
        "#[[0, 0],\n",
        "#[0, 0]]"
      ],
      "execution_count": null,
      "outputs": [
        {
          "output_type": "stream",
          "text": [
            "[[2 4]\n",
            " [6 8]]\n",
            "[[0 0]\n",
            " [0 0]]\n"
          ],
          "name": "stdout"
        }
      ]
    },
    {
      "cell_type": "code",
      "metadata": {
        "colab": {
          "base_uri": "https://localhost:8080/"
        },
        "id": "9LM_bxMVXtCJ",
        "outputId": "8f84f80c-7095-4195-956d-554084c6b4d1"
      },
      "source": [
        "a = np.array(\n",
        "[[2,3],\n",
        " [2,3]])\n",
        "b = np.array(\n",
        "[[3,4],\n",
        " [5,6]])\n",
        "\n",
        "# Uses python's multiply operator\n",
        "a * b\n",
        "#[[ 6, 12],\n",
        "# [10, 18]]"
      ],
      "execution_count": null,
      "outputs": [
        {
          "output_type": "execute_result",
          "data": {
            "text/plain": [
              "array([[ 6, 12],\n",
              "       [10, 18]])"
            ]
          },
          "metadata": {
            "tags": []
          },
          "execution_count": 14
        }
      ]
    },
    {
      "cell_type": "code",
      "metadata": {
        "colab": {
          "base_uri": "https://localhost:8080/"
        },
        "id": "ojcLf1ckX9rI",
        "outputId": "f707a9e1-c5de-402c-f567-7060e1103b3d"
      },
      "source": [
        "a = np.array([\n",
        "   [1, 2],\n",
        "   [3, 4]])\n",
        "\n",
        "a.T\n",
        "#[[1, 3],\n",
        "# [2, 4]]"
      ],
      "execution_count": null,
      "outputs": [
        {
          "output_type": "execute_result",
          "data": {
            "text/plain": [
              "array([[1, 3],\n",
              "       [2, 4]])"
            ]
          },
          "metadata": {
            "tags": []
          },
          "execution_count": 13
        }
      ]
    },
    {
      "cell_type": "code",
      "metadata": {
        "colab": {
          "base_uri": "https://localhost:8080/"
        },
        "id": "1e3sfV5BYLAt",
        "outputId": "3f0d46a1-ab03-4394-c182-9a73b1071522"
      },
      "source": [
        "a = np.array([\n",
        " [1, 2]\n",
        " ])\n",
        "a.shape == (1,2)\n",
        "b = np.array([\n",
        " [3, 4],\n",
        " [5, 6]\n",
        " ])\n",
        "b.shape == (2,2)\n",
        "\n",
        "# Multiply\n",
        "mm = np.dot(a,b)\n",
        "mm == [13, 16]\n",
        "mm.shape == (1,2)"
      ],
      "execution_count": null,
      "outputs": [
        {
          "output_type": "execute_result",
          "data": {
            "text/plain": [
              "True"
            ]
          },
          "metadata": {
            "tags": []
          },
          "execution_count": 15
        }
      ]
    },
    {
      "cell_type": "code",
      "metadata": {
        "id": "uzK0QXdXYWYB",
        "colab": {
          "base_uri": "https://localhost:8080/"
        },
        "outputId": "4262c619-b059-4581-cc17-5141831c05b3"
      },
      "source": [
        "a = np.array([\n",
        " [1],\n",
        " [2]\n",
        "])\n",
        "b = np.array([\n",
        " [3,4],\n",
        " [5,6]\n",
        "])\n",
        "c = np.array([\n",
        " [1,2]\n",
        "])\n",
        "\n",
        "# Same no. of rows\n",
        "# Different no. of columns\n",
        "# but a has one column so this works\n",
        "a * b\n",
        "[[ 3, 4],\n",
        " [10, 12]]\n",
        "\n",
        "# Same no. of columns\n",
        "# Different no. of rows\n",
        "# but c has one row so this works\n",
        "b * c\n",
        "[[ 3, 8],\n",
        " [5, 12]]\n",
        "\n",
        "# Different no. of columns\n",
        "# Different no. of rows\n",
        "# but both a and c meet the\n",
        "# size 1 requirement rule\n",
        "a + c\n",
        "[[2, 3],\n",
        " [3, 4]]\n"
      ],
      "execution_count": null,
      "outputs": [
        {
          "output_type": "execute_result",
          "data": {
            "text/plain": [
              "[[2, 3], [3, 4]]"
            ]
          },
          "metadata": {
            "tags": []
          },
          "execution_count": 16
        }
      ]
    },
    {
      "cell_type": "markdown",
      "metadata": {
        "id": "kVnxT4SWV4GP"
      },
      "source": [
        "**Task 2:**\n",
        "Create the following matrices:\n",
        "\n",
        "$X=\\begin{bmatrix} 2 & 3 & 4 \\\\ 1 & 2 &3 \\end{bmatrix},Y=\\begin{bmatrix} 0 & 1 & 0 \\\\ 1 & 0 &0\\\\ 0 & 0 & 1 \\end{bmatrix}$ \n",
        "\n",
        "Then do the following:\n",
        "1.\tMultiply ```X``` with ```Y``` (```Z1=X*Y=XY```) and print the result. What do you observe? \n",
        "2.\tMultiply ```X``` with ```Y``` transpose (```Z2=X*Y.T```) and print the result. What do you observe? \n",
        "3.\tWhat can you tell about matrix ```Y```, given ```Z1``` and ```Z2```? "
      ]
    },
    {
      "cell_type": "code",
      "metadata": {
        "id": "j5JXYbHWV4GQ",
        "colab": {
          "base_uri": "https://localhost:8080/"
        },
        "outputId": "ae0dd4af-d3ca-4ded-b619-d08e8f0fb440"
      },
      "source": [
        "#Code here\n",
        "X = np.array([[2, 3, 4], [1, 2, 3]])\n",
        "X"
      ],
      "execution_count": 22,
      "outputs": [
        {
          "output_type": "execute_result",
          "data": {
            "text/plain": [
              "array([[2, 3, 4],\n",
              "       [1, 2, 3]])"
            ]
          },
          "metadata": {
            "tags": []
          },
          "execution_count": 22
        }
      ]
    },
    {
      "cell_type": "code",
      "metadata": {
        "colab": {
          "base_uri": "https://localhost:8080/"
        },
        "id": "5vkqlbP-Zhtp",
        "outputId": "abefa15d-c852-42c6-d5b2-be5d1352fb31"
      },
      "source": [
        "Y = np.array([[0, 1, 0], [1, 0, 0], [0, 0, 1]])\n",
        "Y"
      ],
      "execution_count": 23,
      "outputs": [
        {
          "output_type": "execute_result",
          "data": {
            "text/plain": [
              "array([[0, 1, 0],\n",
              "       [1, 0, 0],\n",
              "       [0, 0, 1]])"
            ]
          },
          "metadata": {
            "tags": []
          },
          "execution_count": 23
        }
      ]
    },
    {
      "cell_type": "code",
      "metadata": {
        "colab": {
          "base_uri": "https://localhost:8080/"
        },
        "id": "UZkN9oovaKjZ",
        "outputId": "0861b359-dcd6-452c-875f-b2cefbd2d862"
      },
      "source": [
        "Z1 = X.dot(Y)\n",
        "Z1"
      ],
      "execution_count": 26,
      "outputs": [
        {
          "output_type": "execute_result",
          "data": {
            "text/plain": [
              "array([[3, 2, 4],\n",
              "       [2, 1, 3]])"
            ]
          },
          "metadata": {
            "tags": []
          },
          "execution_count": 26
        }
      ]
    },
    {
      "cell_type": "code",
      "metadata": {
        "colab": {
          "base_uri": "https://localhost:8080/"
        },
        "id": "M0gE4yd4aZaJ",
        "outputId": "9aca85a4-5d67-4a03-b610-d1a02365aec3"
      },
      "source": [
        "Z2 = X.dot(Y.T)\n",
        "Z2"
      ],
      "execution_count": 27,
      "outputs": [
        {
          "output_type": "execute_result",
          "data": {
            "text/plain": [
              "array([[3, 2, 4],\n",
              "       [2, 1, 3]])"
            ]
          },
          "metadata": {
            "tags": []
          },
          "execution_count": 27
        }
      ]
    },
    {
      "cell_type": "markdown",
      "metadata": {
        "id": "VIMqN213V4GQ"
      },
      "source": [
        "**Task 3:** \n",
        "Create a 2x2 identity matrix ```I``` using the NumPy function ```eye(dim)``` $$ I=\\begin{bmatrix} 1 & 0 \\\\ 0 & 1 \\end{bmatrix} $$\n"
      ]
    },
    {
      "cell_type": "code",
      "metadata": {
        "id": "waSCl_wTV4GR",
        "colab": {
          "base_uri": "https://localhost:8080/"
        },
        "outputId": "b4a799bc-5c2b-40dc-eaff-924551fc841c"
      },
      "source": [
        "#Code here\n",
        "I = np.eye(2)\n",
        "I"
      ],
      "execution_count": 28,
      "outputs": [
        {
          "output_type": "execute_result",
          "data": {
            "text/plain": [
              "array([[1., 0.],\n",
              "       [0., 1.]])"
            ]
          },
          "metadata": {
            "tags": []
          },
          "execution_count": 28
        }
      ]
    },
    {
      "cell_type": "markdown",
      "metadata": {
        "id": "wxjq_ASKV4GR"
      },
      "source": [
        "**Task 4:** \n",
        "1. Multiply (using dot) matrix ```I``` with the vector ```x``` defined below: $$Ix$$\n",
        "2. Print the output.\n",
        "3. What do you observe? \n",
        "\n"
      ]
    },
    {
      "cell_type": "code",
      "metadata": {
        "id": "KEf37erWV4GR",
        "colab": {
          "base_uri": "https://localhost:8080/"
        },
        "outputId": "970d1c2d-449f-4659-a377-0f2eb2ab424c"
      },
      "source": [
        "x=np.array([2,3])\n",
        "print(x)\n",
        "#Code here\n",
        "I.dot(x)"
      ],
      "execution_count": 29,
      "outputs": [
        {
          "output_type": "stream",
          "text": [
            "[2 3]\n"
          ],
          "name": "stdout"
        },
        {
          "output_type": "execute_result",
          "data": {
            "text/plain": [
              "array([2., 3.])"
            ]
          },
          "metadata": {
            "tags": []
          },
          "execution_count": 29
        }
      ]
    },
    {
      "cell_type": "markdown",
      "metadata": {
        "id": "Ou6m1Y7oV4GS"
      },
      "source": [
        "**Task 5:**\n",
        "1.\tMultiply (using dot) matrix ```I``` with the vector ```x``` defined below: $$Ix$$\n",
        "2.\tPrint the output.\n",
        "3.\tWhat do you observe? \n"
      ]
    },
    {
      "cell_type": "code",
      "metadata": {
        "id": "lTpUSXzPV4GS",
        "colab": {
          "base_uri": "https://localhost:8080/"
        },
        "outputId": "b2f0e0c8-91be-4011-d08a-66ed36446418"
      },
      "source": [
        "X=np.array([[2,3],[4,5]])\n",
        "print(X)\n",
        "#Code here\n",
        "I.dot(X)"
      ],
      "execution_count": 31,
      "outputs": [
        {
          "output_type": "stream",
          "text": [
            "[[2 3]\n",
            " [4 5]]\n"
          ],
          "name": "stdout"
        },
        {
          "output_type": "execute_result",
          "data": {
            "text/plain": [
              "array([[2., 3.],\n",
              "       [4., 5.]])"
            ]
          },
          "metadata": {
            "tags": []
          },
          "execution_count": 31
        }
      ]
    },
    {
      "cell_type": "markdown",
      "metadata": {
        "id": "ruQk4jYeV4GS"
      },
      "source": [
        "**Task 6:**\n",
        "1. Multiply (using dot) matrix $X$ with the inverse matrix, $X^{-1}$ (use the NumPy function ```linalg.inv``` to do so): $XX^{-1}$\n",
        "2. What do you observe? \n",
        "\n",
        "\n"
      ]
    },
    {
      "cell_type": "code",
      "metadata": {
        "id": "eYV7jWN0V4GS",
        "colab": {
          "base_uri": "https://localhost:8080/"
        },
        "outputId": "c623392b-a90b-4b29-ad6b-16c38531f201"
      },
      "source": [
        "X=np.array([[1,2],[0,1]])\n",
        "#Code here\n",
        "X.dot(np.linalg.inv(X))\n"
      ],
      "execution_count": 32,
      "outputs": [
        {
          "output_type": "execute_result",
          "data": {
            "text/plain": [
              "array([[1., 0.],\n",
              "       [0., 1.]])"
            ]
          },
          "metadata": {
            "tags": []
          },
          "execution_count": 32
        }
      ]
    },
    {
      "cell_type": "code",
      "metadata": {
        "id": "Qz1-HBxvgyzp"
      },
      "source": [
        ""
      ],
      "execution_count": null,
      "outputs": []
    }
  ]
}