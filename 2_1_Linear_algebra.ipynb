{
  "cells": [
    {
      "cell_type": "markdown",
      "metadata": {
        "id": "view-in-github",
        "colab_type": "text"
      },
      "source": [
        "<a href=\"https://colab.research.google.com/github/GabeMaldonado/UoL_Study_Materials/blob/main/2_1_Linear_algebra.ipynb\" target=\"_parent\"><img src=\"https://colab.research.google.com/assets/colab-badge.svg\" alt=\"Open In Colab\"/></a>"
      ]
    },
    {
      "cell_type": "markdown",
      "metadata": {
        "id": "uytfDyZEY4II"
      },
      "source": [
        "# More on linear algebra\n",
        "## Instructions:\n",
        "* Go through the notebook and complete the tasks. \n",
        "* Make sure you understand the examples given. If you need help, refer to the Essential readings or the documentation link provided, or go to the Topic 2 discussion forum. \n",
        "* When a question allows a free-form answer (e.g. what do you observe?), create a new markdown cell below and answer the question in the notebook. \n",
        "* Save your notebooks when you are done.\n",
        " \n",
        "**Task 1:**\n",
        "Go through the tutorial on Linear Algebra in Python here: http://ml-cheatsheet.readthedocs.io/en/latest/linear_algebra.html.\n",
        "Paste and run the code from the tutorial in the empty cell below (or create new empty cells below) to get more familiar with the material.\n"
      ]
    },
    {
      "cell_type": "code",
      "execution_count": 2,
      "metadata": {
        "id": "yD8GFyVgY4IL"
      },
      "outputs": [],
      "source": [
        "import numpy as np\n",
        "\n",
        "#Code here - use code samples from link above"
      ]
    },
    {
      "cell_type": "markdown",
      "metadata": {
        "id": "WAswibKVY4IM"
      },
      "source": [
        "**Task 2:**\n",
        "Create the following matrices:\n",
        "\n",
        "$X=\\begin{bmatrix} 2 & 3 & 4 \\\\ 1 & 2 &3 \\end{bmatrix},Y=\\begin{bmatrix} 0 & 1 & 0 \\\\ 1 & 0 &0\\\\ 0 & 0 & 1 \\end{bmatrix}$ \n",
        "\n",
        "Then do the following:\n",
        "1.\tMultiply ```X``` with ```Y``` (```Z1=X*Y=XY```) and print the result. What do you observe? \n",
        "2.\tMultiply ```X``` with ```Y``` transpose (```Z2=X*Y.T```) and print the result. What do you observe? \n",
        "3.\tWhat can you tell about matrix ```Y```, given ```Z1``` and ```Z2```? "
      ]
    },
    {
      "cell_type": "code",
      "execution_count": 3,
      "metadata": {
        "colab": {
          "base_uri": "https://localhost:8080/"
        },
        "id": "nVK85o16Y4IM",
        "outputId": "9edc3c8d-9cbf-4300-98a8-a8d3da7baa19"
      },
      "outputs": [
        {
          "output_type": "execute_result",
          "data": {
            "text/plain": [
              "array([[2, 3, 4],\n",
              "       [1, 2, 3]])"
            ]
          },
          "metadata": {},
          "execution_count": 3
        }
      ],
      "source": [
        "#Code here\n",
        "\n",
        "X = np.array([(2, 3, 4), (1, 2, 3)])\n",
        "X"
      ]
    },
    {
      "cell_type": "code",
      "source": [
        "Y = np.array([(0, 1, 0), (1, 0, 0), (0, 0, 1)])\n",
        "Y"
      ],
      "metadata": {
        "colab": {
          "base_uri": "https://localhost:8080/"
        },
        "id": "tYI9uTQdZSfk",
        "outputId": "179f5f56-9de7-4340-9b70-33c09a76043c"
      },
      "execution_count": 4,
      "outputs": [
        {
          "output_type": "execute_result",
          "data": {
            "text/plain": [
              "array([[0, 1, 0],\n",
              "       [1, 0, 0],\n",
              "       [0, 0, 1]])"
            ]
          },
          "metadata": {},
          "execution_count": 4
        }
      ]
    },
    {
      "cell_type": "code",
      "source": [
        "Z1 = X.dot(Y)\n",
        "Z1"
      ],
      "metadata": {
        "colab": {
          "base_uri": "https://localhost:8080/"
        },
        "id": "V9kwRmHCy9dL",
        "outputId": "bb1f6694-d7d4-4c5b-c7d1-be0e098a69cb"
      },
      "execution_count": 11,
      "outputs": [
        {
          "output_type": "execute_result",
          "data": {
            "text/plain": [
              "array([[3, 2, 4],\n",
              "       [2, 1, 3]])"
            ]
          },
          "metadata": {},
          "execution_count": 11
        }
      ]
    },
    {
      "cell_type": "code",
      "source": [
        "Z2 = X.dot(Y.T)\n",
        "Z2"
      ],
      "metadata": {
        "colab": {
          "base_uri": "https://localhost:8080/"
        },
        "id": "DuW4eY-PzG-j",
        "outputId": "090a1d7a-def2-46de-d464-ee9c411c002c"
      },
      "execution_count": 13,
      "outputs": [
        {
          "output_type": "execute_result",
          "data": {
            "text/plain": [
              "array([[3, 2, 4],\n",
              "       [2, 1, 3]])"
            ]
          },
          "metadata": {},
          "execution_count": 13
        }
      ]
    },
    {
      "cell_type": "markdown",
      "metadata": {
        "id": "-HXe1qJlY4IM"
      },
      "source": [
        "**Task 3:** \n",
        "Create a 2x2 identity matrix ```I``` using the NumPy function ```eye(dim)``` $$ I=\\begin{bmatrix} 1 & 0 \\\\ 0 & 1 \\end{bmatrix} $$\n"
      ]
    },
    {
      "cell_type": "code",
      "execution_count": 15,
      "metadata": {
        "colab": {
          "base_uri": "https://localhost:8080/"
        },
        "id": "z2qY1Pr8Y4IN",
        "outputId": "4c99bd00-b259-424c-8a59-220754b9712b"
      },
      "outputs": [
        {
          "output_type": "execute_result",
          "data": {
            "text/plain": [
              "array([[1., 0.],\n",
              "       [0., 1.]])"
            ]
          },
          "metadata": {},
          "execution_count": 15
        }
      ],
      "source": [
        "#Code here\n",
        "\n",
        "I = np.eye(2)\n",
        "I"
      ]
    },
    {
      "cell_type": "markdown",
      "metadata": {
        "id": "nRHbs7ZhY4IN"
      },
      "source": [
        "**Task 4:** \n",
        "1. Multiply (using dot) matrix ```I``` with the vector ```x``` defined below: $$Ix$$\n",
        "2. Print the output.\n",
        "3. What do you observe? \n",
        "\n"
      ]
    },
    {
      "cell_type": "code",
      "execution_count": 16,
      "metadata": {
        "colab": {
          "base_uri": "https://localhost:8080/"
        },
        "id": "dZtuIFPLY4IO",
        "outputId": "967ec8b8-06b2-4340-82a1-10504f63f4d3"
      },
      "outputs": [
        {
          "output_type": "stream",
          "name": "stdout",
          "text": [
            "[2 3]\n"
          ]
        },
        {
          "output_type": "execute_result",
          "data": {
            "text/plain": [
              "array([2., 3.])"
            ]
          },
          "metadata": {},
          "execution_count": 16
        }
      ],
      "source": [
        "x=np.array([2,3])\n",
        "print(x)\n",
        "#Code here\n",
        "I.dot(x)"
      ]
    },
    {
      "cell_type": "markdown",
      "metadata": {
        "id": "My0TAYayY4IO"
      },
      "source": [
        "**Task 5:**\n",
        "1.\tMultiply (using dot) matrix ```I``` with the vector ```x``` defined below: $$Ix$$\n",
        "2.\tPrint the output.\n",
        "3.\tWhat do you observe? \n"
      ]
    },
    {
      "cell_type": "code",
      "execution_count": 17,
      "metadata": {
        "colab": {
          "base_uri": "https://localhost:8080/"
        },
        "id": "vsgIzM3YY4IP",
        "outputId": "365ff78b-057b-45b5-a8f8-e4093d27c3d3"
      },
      "outputs": [
        {
          "output_type": "stream",
          "name": "stdout",
          "text": [
            "[2 3]\n"
          ]
        },
        {
          "output_type": "execute_result",
          "data": {
            "text/plain": [
              "array([[2., 3.],\n",
              "       [4., 5.]])"
            ]
          },
          "metadata": {},
          "execution_count": 17
        }
      ],
      "source": [
        "X=np.array([[2,3],[4,5]])\n",
        "print(x)\n",
        "#Code here\n",
        "I.dot(X)"
      ]
    },
    {
      "cell_type": "markdown",
      "metadata": {
        "id": "KQLpbz0gY4IP"
      },
      "source": [
        "**Task 6:**\n",
        "1. Multiply (using dot) matrix $X$ with the inverse matrix, $X^{-1}$ (use the NumPy function ```linalg.inv``` to do so): $XX^{-1}$\n",
        "2. What do you observe? \n",
        "\n",
        "\n"
      ]
    },
    {
      "cell_type": "code",
      "execution_count": 19,
      "metadata": {
        "colab": {
          "base_uri": "https://localhost:8080/"
        },
        "id": "srfT7BjOY4IP",
        "outputId": "0581c197-7305-4dfe-827d-e8db7e49dafa"
      },
      "outputs": [
        {
          "output_type": "execute_result",
          "data": {
            "text/plain": [
              "array([[1., 0.],\n",
              "       [0., 1.]])"
            ]
          },
          "metadata": {},
          "execution_count": 19
        }
      ],
      "source": [
        "X=np.array([[1,2],[0,1]])\n",
        "#Code here\n",
        "\n",
        "X.dot(np.linalg.inv(X))\n"
      ]
    },
    {
      "cell_type": "code",
      "source": [
        ""
      ],
      "metadata": {
        "id": "3SBmpPCo-LpN"
      },
      "execution_count": null,
      "outputs": []
    }
  ],
  "metadata": {
    "kernelspec": {
      "display_name": "Python 3",
      "language": "python",
      "name": "python3"
    },
    "language_info": {
      "codemirror_mode": {
        "name": "ipython",
        "version": 3
      },
      "file_extension": ".py",
      "mimetype": "text/x-python",
      "name": "python",
      "nbconvert_exporter": "python",
      "pygments_lexer": "ipython3",
      "version": "3.7.3"
    },
    "colab": {
      "name": "2.1 Linear algebra.ipynb",
      "provenance": [],
      "include_colab_link": true
    }
  },
  "nbformat": 4,
  "nbformat_minor": 0
}